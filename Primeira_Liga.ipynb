{
 "cells": [
  {
   "cell_type": "markdown",
   "metadata": {},
   "source": [
    "# Project Visualizing Real World Data \n",
    "\n",
    "## Dinis Oliveira - DATAPT DEC 2019 \n",
    "### Analysis of Primeira Liga Players and Variables\n",
    "\n",
    "The goal of this project was to practice interpreting different types of visualizations by collecting relevant information about players from the portuguese professional league during the year of 2019 in order to compare their attributes and analyse the differences between the teams.\n"
   ]
  },
  {
   "cell_type": "markdown",
   "metadata": {},
   "source": [
    "## Before your start:\n",
    "\n",
    "- Read the README.md file\n",
    "- Follow each step as described in the instructions\n",
    "- Enjoy the ride!"
   ]
  },
  {
   "cell_type": "markdown",
   "metadata": {},
   "source": [
    "### 1. Importing Libraries"
   ]
  },
  {
   "cell_type": "code",
   "execution_count": 211,
   "metadata": {},
   "outputs": [
    {
     "data": {
      "text/html": [
       "        <script type=\"text/javascript\">\n",
       "        window.PlotlyConfig = {MathJaxConfig: 'local'};\n",
       "        if (window.MathJax) {MathJax.Hub.Config({SVG: {font: \"STIX-Web\"}});}\n",
       "        if (typeof require !== 'undefined') {\n",
       "        require.undef(\"plotly\");\n",
       "        requirejs.config({\n",
       "            paths: {\n",
       "                'plotly': ['https://cdn.plot.ly/plotly-latest.min']\n",
       "            }\n",
       "        });\n",
       "        require(['plotly'], function(Plotly) {\n",
       "            window._Plotly = Plotly;\n",
       "        });\n",
       "        }\n",
       "        </script>\n",
       "        "
      ]
     },
     "metadata": {},
     "output_type": "display_data"
    }
   ],
   "source": [
    "# Start by importing the table and the necessary libraries\n",
    "\n",
    "import numpy as np\n",
    "import pandas as pd \n",
    "import matplotlib.pyplot as plt\n",
    "import seaborn as sns\n",
    "import plotly.graph_objs as go\n",
    "import plotly.express as px\n",
    "import plotly.offline as py\n",
    "from plotly.offline import init_notebook_mode, iplot\n",
    "init_notebook_mode(connected = True)"
   ]
  },
  {
   "cell_type": "code",
   "execution_count": 2,
   "metadata": {},
   "outputs": [],
   "source": [
    "# Import the dataset that is going to be analyzed and set the dataframe options to display all columns\n",
    "\n",
    "data = pd.read_csv('players.csv')\n",
    "pd.options.display.max_columns = None"
   ]
  },
  {
   "cell_type": "markdown",
   "metadata": {},
   "source": [
    "### 2. FIFA19 dataset\n",
    "#### 2.1 Exploring the dataset\n",
    "\n",
    "- Before any changes are made, it's important to get a grasp of the dataset's characteristics"
   ]
  },
  {
   "cell_type": "code",
   "execution_count": 3,
   "metadata": {},
   "outputs": [
    {
     "data": {
      "text/plain": [
       "(18207, 89)"
      ]
     },
     "execution_count": 3,
     "metadata": {},
     "output_type": "execute_result"
    }
   ],
   "source": [
    "data.shape"
   ]
  },
  {
   "cell_type": "code",
   "execution_count": 4,
   "metadata": {},
   "outputs": [
    {
     "data": {
      "text/plain": [
       "Index(['Unnamed: 0', 'ID', 'Name', 'Age', 'Photo', 'Nationality', 'Flag',\n",
       "       'Overall', 'Potential', 'Club', 'Club Logo', 'Value', 'Wage', 'Special',\n",
       "       'Preferred Foot', 'International Reputation', 'Weak Foot',\n",
       "       'Skill Moves', 'Work Rate', 'Body Type', 'Real Face', 'Position',\n",
       "       'Jersey Number', 'Joined', 'Loaned From', 'Contract Valid Until',\n",
       "       'Height', 'Weight', 'LS', 'ST', 'RS', 'LW', 'LF', 'CF', 'RF', 'RW',\n",
       "       'LAM', 'CAM', 'RAM', 'LM', 'LCM', 'CM', 'RCM', 'RM', 'LWB', 'LDM',\n",
       "       'CDM', 'RDM', 'RWB', 'LB', 'LCB', 'CB', 'RCB', 'RB', 'Crossing',\n",
       "       'Finishing', 'HeadingAccuracy', 'ShortPassing', 'Volleys', 'Dribbling',\n",
       "       'Curve', 'FKAccuracy', 'LongPassing', 'BallControl', 'Acceleration',\n",
       "       'SprintSpeed', 'Agility', 'Reactions', 'Balance', 'ShotPower',\n",
       "       'Jumping', 'Stamina', 'Strength', 'LongShots', 'Aggression',\n",
       "       'Interceptions', 'Positioning', 'Vision', 'Penalties', 'Composure',\n",
       "       'Marking', 'StandingTackle', 'SlidingTackle', 'GKDiving', 'GKHandling',\n",
       "       'GKKicking', 'GKPositioning', 'GKReflexes', 'Release Clause'],\n",
       "      dtype='object')"
      ]
     },
     "execution_count": 4,
     "metadata": {},
     "output_type": "execute_result"
    }
   ],
   "source": [
    "data.columns"
   ]
  },
  {
   "cell_type": "code",
   "execution_count": 131,
   "metadata": {},
   "outputs": [
    {
     "data": {
      "text/html": [
       "<div>\n",
       "<style scoped>\n",
       "    .dataframe tbody tr th:only-of-type {\n",
       "        vertical-align: middle;\n",
       "    }\n",
       "\n",
       "    .dataframe tbody tr th {\n",
       "        vertical-align: top;\n",
       "    }\n",
       "\n",
       "    .dataframe thead th {\n",
       "        text-align: right;\n",
       "    }\n",
       "</style>\n",
       "<table border=\"1\" class=\"dataframe\">\n",
       "  <thead>\n",
       "    <tr style=\"text-align: right;\">\n",
       "      <th></th>\n",
       "      <th>ID</th>\n",
       "      <th>Name</th>\n",
       "      <th>Age</th>\n",
       "      <th>Nationality</th>\n",
       "      <th>Overall</th>\n",
       "      <th>Potential</th>\n",
       "      <th>Club</th>\n",
       "      <th>Value</th>\n",
       "      <th>Wage</th>\n",
       "      <th>Jersey Number</th>\n",
       "      <th>Joined</th>\n",
       "      <th>Loaned From</th>\n",
       "      <th>Contract Valid Until</th>\n",
       "      <th>Height</th>\n",
       "      <th>Weight</th>\n",
       "      <th>LS</th>\n",
       "      <th>ST</th>\n",
       "      <th>RS</th>\n",
       "      <th>LW</th>\n",
       "      <th>LF</th>\n",
       "      <th>CF</th>\n",
       "      <th>RF</th>\n",
       "      <th>RW</th>\n",
       "      <th>LAM</th>\n",
       "      <th>CAM</th>\n",
       "      <th>RAM</th>\n",
       "      <th>LM</th>\n",
       "      <th>LCM</th>\n",
       "      <th>CM</th>\n",
       "      <th>RCM</th>\n",
       "      <th>RM</th>\n",
       "      <th>LWB</th>\n",
       "      <th>LDM</th>\n",
       "      <th>CDM</th>\n",
       "      <th>RDM</th>\n",
       "      <th>RWB</th>\n",
       "      <th>LB</th>\n",
       "      <th>LCB</th>\n",
       "      <th>CB</th>\n",
       "      <th>RCB</th>\n",
       "      <th>RB</th>\n",
       "      <th>Crossing</th>\n",
       "      <th>Finishing</th>\n",
       "      <th>HeadingAccuracy</th>\n",
       "      <th>ShortPassing</th>\n",
       "      <th>Volleys</th>\n",
       "      <th>Dribbling</th>\n",
       "      <th>Curve</th>\n",
       "      <th>FKAccuracy</th>\n",
       "      <th>LongPassing</th>\n",
       "      <th>BallControl</th>\n",
       "      <th>Acceleration</th>\n",
       "      <th>SprintSpeed</th>\n",
       "      <th>Agility</th>\n",
       "      <th>Reactions</th>\n",
       "      <th>Balance</th>\n",
       "      <th>ShotPower</th>\n",
       "      <th>Jumping</th>\n",
       "      <th>Stamina</th>\n",
       "      <th>Strength</th>\n",
       "      <th>LongShots</th>\n",
       "      <th>Aggression</th>\n",
       "      <th>Interceptions</th>\n",
       "      <th>Positioning</th>\n",
       "      <th>Vision</th>\n",
       "      <th>Penalties</th>\n",
       "      <th>Composure</th>\n",
       "      <th>Marking</th>\n",
       "      <th>StandingTackle</th>\n",
       "      <th>SlidingTackle</th>\n",
       "      <th>GKDiving</th>\n",
       "      <th>GKHandling</th>\n",
       "      <th>GKKicking</th>\n",
       "      <th>GKPositioning</th>\n",
       "      <th>GKReflexes</th>\n",
       "      <th>Release Clause</th>\n",
       "      <th>Clean_Value</th>\n",
       "      <th>Clean_Wage</th>\n",
       "    </tr>\n",
       "  </thead>\n",
       "  <tbody>\n",
       "    <tr>\n",
       "      <th>0</th>\n",
       "      <td>158023</td>\n",
       "      <td>L. Messi</td>\n",
       "      <td>31</td>\n",
       "      <td>Argentina</td>\n",
       "      <td>94</td>\n",
       "      <td>94</td>\n",
       "      <td>FC Barcelona</td>\n",
       "      <td>€110.5M</td>\n",
       "      <td>€565K</td>\n",
       "      <td>10.0</td>\n",
       "      <td>Jul 1, 2004</td>\n",
       "      <td>NaN</td>\n",
       "      <td>2021</td>\n",
       "      <td>5'7</td>\n",
       "      <td>159lbs</td>\n",
       "      <td>88+2</td>\n",
       "      <td>88+2</td>\n",
       "      <td>88+2</td>\n",
       "      <td>92+2</td>\n",
       "      <td>93+2</td>\n",
       "      <td>93+2</td>\n",
       "      <td>93+2</td>\n",
       "      <td>92+2</td>\n",
       "      <td>93+2</td>\n",
       "      <td>93+2</td>\n",
       "      <td>93+2</td>\n",
       "      <td>91+2</td>\n",
       "      <td>84+2</td>\n",
       "      <td>84+2</td>\n",
       "      <td>84+2</td>\n",
       "      <td>91+2</td>\n",
       "      <td>64+2</td>\n",
       "      <td>61+2</td>\n",
       "      <td>61+2</td>\n",
       "      <td>61+2</td>\n",
       "      <td>64+2</td>\n",
       "      <td>59+2</td>\n",
       "      <td>47+2</td>\n",
       "      <td>47+2</td>\n",
       "      <td>47+2</td>\n",
       "      <td>59+2</td>\n",
       "      <td>84.0</td>\n",
       "      <td>95.0</td>\n",
       "      <td>70.0</td>\n",
       "      <td>90.0</td>\n",
       "      <td>86.0</td>\n",
       "      <td>97.0</td>\n",
       "      <td>93.0</td>\n",
       "      <td>94.0</td>\n",
       "      <td>87.0</td>\n",
       "      <td>96.0</td>\n",
       "      <td>91.0</td>\n",
       "      <td>86.0</td>\n",
       "      <td>91.0</td>\n",
       "      <td>95.0</td>\n",
       "      <td>95.0</td>\n",
       "      <td>85.0</td>\n",
       "      <td>68.0</td>\n",
       "      <td>72.0</td>\n",
       "      <td>59.0</td>\n",
       "      <td>94.0</td>\n",
       "      <td>48.0</td>\n",
       "      <td>22.0</td>\n",
       "      <td>94.0</td>\n",
       "      <td>94.0</td>\n",
       "      <td>75.0</td>\n",
       "      <td>96.0</td>\n",
       "      <td>33.0</td>\n",
       "      <td>28.0</td>\n",
       "      <td>26.0</td>\n",
       "      <td>6.0</td>\n",
       "      <td>11.0</td>\n",
       "      <td>15.0</td>\n",
       "      <td>14.0</td>\n",
       "      <td>8.0</td>\n",
       "      <td>€226.5M</td>\n",
       "      <td>110500000.0</td>\n",
       "      <td>565000.0</td>\n",
       "    </tr>\n",
       "    <tr>\n",
       "      <th>1</th>\n",
       "      <td>20801</td>\n",
       "      <td>Cristiano Ronaldo</td>\n",
       "      <td>33</td>\n",
       "      <td>Portugal</td>\n",
       "      <td>94</td>\n",
       "      <td>94</td>\n",
       "      <td>Juventus</td>\n",
       "      <td>€77M</td>\n",
       "      <td>€405K</td>\n",
       "      <td>7.0</td>\n",
       "      <td>Jul 10, 2018</td>\n",
       "      <td>NaN</td>\n",
       "      <td>2022</td>\n",
       "      <td>6'2</td>\n",
       "      <td>183lbs</td>\n",
       "      <td>91+3</td>\n",
       "      <td>91+3</td>\n",
       "      <td>91+3</td>\n",
       "      <td>89+3</td>\n",
       "      <td>90+3</td>\n",
       "      <td>90+3</td>\n",
       "      <td>90+3</td>\n",
       "      <td>89+3</td>\n",
       "      <td>88+3</td>\n",
       "      <td>88+3</td>\n",
       "      <td>88+3</td>\n",
       "      <td>88+3</td>\n",
       "      <td>81+3</td>\n",
       "      <td>81+3</td>\n",
       "      <td>81+3</td>\n",
       "      <td>88+3</td>\n",
       "      <td>65+3</td>\n",
       "      <td>61+3</td>\n",
       "      <td>61+3</td>\n",
       "      <td>61+3</td>\n",
       "      <td>65+3</td>\n",
       "      <td>61+3</td>\n",
       "      <td>53+3</td>\n",
       "      <td>53+3</td>\n",
       "      <td>53+3</td>\n",
       "      <td>61+3</td>\n",
       "      <td>84.0</td>\n",
       "      <td>94.0</td>\n",
       "      <td>89.0</td>\n",
       "      <td>81.0</td>\n",
       "      <td>87.0</td>\n",
       "      <td>88.0</td>\n",
       "      <td>81.0</td>\n",
       "      <td>76.0</td>\n",
       "      <td>77.0</td>\n",
       "      <td>94.0</td>\n",
       "      <td>89.0</td>\n",
       "      <td>91.0</td>\n",
       "      <td>87.0</td>\n",
       "      <td>96.0</td>\n",
       "      <td>70.0</td>\n",
       "      <td>95.0</td>\n",
       "      <td>95.0</td>\n",
       "      <td>88.0</td>\n",
       "      <td>79.0</td>\n",
       "      <td>93.0</td>\n",
       "      <td>63.0</td>\n",
       "      <td>29.0</td>\n",
       "      <td>95.0</td>\n",
       "      <td>82.0</td>\n",
       "      <td>85.0</td>\n",
       "      <td>95.0</td>\n",
       "      <td>28.0</td>\n",
       "      <td>31.0</td>\n",
       "      <td>23.0</td>\n",
       "      <td>7.0</td>\n",
       "      <td>11.0</td>\n",
       "      <td>15.0</td>\n",
       "      <td>14.0</td>\n",
       "      <td>11.0</td>\n",
       "      <td>€127.1M</td>\n",
       "      <td>77000000.0</td>\n",
       "      <td>405000.0</td>\n",
       "    </tr>\n",
       "    <tr>\n",
       "      <th>2</th>\n",
       "      <td>190871</td>\n",
       "      <td>Neymar Jr</td>\n",
       "      <td>26</td>\n",
       "      <td>Brazil</td>\n",
       "      <td>92</td>\n",
       "      <td>93</td>\n",
       "      <td>Paris Saint-Germain</td>\n",
       "      <td>€118.5M</td>\n",
       "      <td>€290K</td>\n",
       "      <td>10.0</td>\n",
       "      <td>Aug 3, 2017</td>\n",
       "      <td>NaN</td>\n",
       "      <td>2022</td>\n",
       "      <td>5'9</td>\n",
       "      <td>150lbs</td>\n",
       "      <td>84+3</td>\n",
       "      <td>84+3</td>\n",
       "      <td>84+3</td>\n",
       "      <td>89+3</td>\n",
       "      <td>89+3</td>\n",
       "      <td>89+3</td>\n",
       "      <td>89+3</td>\n",
       "      <td>89+3</td>\n",
       "      <td>89+3</td>\n",
       "      <td>89+3</td>\n",
       "      <td>89+3</td>\n",
       "      <td>88+3</td>\n",
       "      <td>81+3</td>\n",
       "      <td>81+3</td>\n",
       "      <td>81+3</td>\n",
       "      <td>88+3</td>\n",
       "      <td>65+3</td>\n",
       "      <td>60+3</td>\n",
       "      <td>60+3</td>\n",
       "      <td>60+3</td>\n",
       "      <td>65+3</td>\n",
       "      <td>60+3</td>\n",
       "      <td>47+3</td>\n",
       "      <td>47+3</td>\n",
       "      <td>47+3</td>\n",
       "      <td>60+3</td>\n",
       "      <td>79.0</td>\n",
       "      <td>87.0</td>\n",
       "      <td>62.0</td>\n",
       "      <td>84.0</td>\n",
       "      <td>84.0</td>\n",
       "      <td>96.0</td>\n",
       "      <td>88.0</td>\n",
       "      <td>87.0</td>\n",
       "      <td>78.0</td>\n",
       "      <td>95.0</td>\n",
       "      <td>94.0</td>\n",
       "      <td>90.0</td>\n",
       "      <td>96.0</td>\n",
       "      <td>94.0</td>\n",
       "      <td>84.0</td>\n",
       "      <td>80.0</td>\n",
       "      <td>61.0</td>\n",
       "      <td>81.0</td>\n",
       "      <td>49.0</td>\n",
       "      <td>82.0</td>\n",
       "      <td>56.0</td>\n",
       "      <td>36.0</td>\n",
       "      <td>89.0</td>\n",
       "      <td>87.0</td>\n",
       "      <td>81.0</td>\n",
       "      <td>94.0</td>\n",
       "      <td>27.0</td>\n",
       "      <td>24.0</td>\n",
       "      <td>33.0</td>\n",
       "      <td>9.0</td>\n",
       "      <td>9.0</td>\n",
       "      <td>15.0</td>\n",
       "      <td>15.0</td>\n",
       "      <td>11.0</td>\n",
       "      <td>€228.1M</td>\n",
       "      <td>118500000.0</td>\n",
       "      <td>290000.0</td>\n",
       "    </tr>\n",
       "    <tr>\n",
       "      <th>3</th>\n",
       "      <td>193080</td>\n",
       "      <td>De Gea</td>\n",
       "      <td>27</td>\n",
       "      <td>Spain</td>\n",
       "      <td>91</td>\n",
       "      <td>93</td>\n",
       "      <td>Manchester United</td>\n",
       "      <td>€72M</td>\n",
       "      <td>€260K</td>\n",
       "      <td>1.0</td>\n",
       "      <td>Jul 1, 2011</td>\n",
       "      <td>NaN</td>\n",
       "      <td>2020</td>\n",
       "      <td>6'4</td>\n",
       "      <td>168lbs</td>\n",
       "      <td>NaN</td>\n",
       "      <td>NaN</td>\n",
       "      <td>NaN</td>\n",
       "      <td>NaN</td>\n",
       "      <td>NaN</td>\n",
       "      <td>NaN</td>\n",
       "      <td>NaN</td>\n",
       "      <td>NaN</td>\n",
       "      <td>NaN</td>\n",
       "      <td>NaN</td>\n",
       "      <td>NaN</td>\n",
       "      <td>NaN</td>\n",
       "      <td>NaN</td>\n",
       "      <td>NaN</td>\n",
       "      <td>NaN</td>\n",
       "      <td>NaN</td>\n",
       "      <td>NaN</td>\n",
       "      <td>NaN</td>\n",
       "      <td>NaN</td>\n",
       "      <td>NaN</td>\n",
       "      <td>NaN</td>\n",
       "      <td>NaN</td>\n",
       "      <td>NaN</td>\n",
       "      <td>NaN</td>\n",
       "      <td>NaN</td>\n",
       "      <td>NaN</td>\n",
       "      <td>17.0</td>\n",
       "      <td>13.0</td>\n",
       "      <td>21.0</td>\n",
       "      <td>50.0</td>\n",
       "      <td>13.0</td>\n",
       "      <td>18.0</td>\n",
       "      <td>21.0</td>\n",
       "      <td>19.0</td>\n",
       "      <td>51.0</td>\n",
       "      <td>42.0</td>\n",
       "      <td>57.0</td>\n",
       "      <td>58.0</td>\n",
       "      <td>60.0</td>\n",
       "      <td>90.0</td>\n",
       "      <td>43.0</td>\n",
       "      <td>31.0</td>\n",
       "      <td>67.0</td>\n",
       "      <td>43.0</td>\n",
       "      <td>64.0</td>\n",
       "      <td>12.0</td>\n",
       "      <td>38.0</td>\n",
       "      <td>30.0</td>\n",
       "      <td>12.0</td>\n",
       "      <td>68.0</td>\n",
       "      <td>40.0</td>\n",
       "      <td>68.0</td>\n",
       "      <td>15.0</td>\n",
       "      <td>21.0</td>\n",
       "      <td>13.0</td>\n",
       "      <td>90.0</td>\n",
       "      <td>85.0</td>\n",
       "      <td>87.0</td>\n",
       "      <td>88.0</td>\n",
       "      <td>94.0</td>\n",
       "      <td>€138.6M</td>\n",
       "      <td>72000000.0</td>\n",
       "      <td>260000.0</td>\n",
       "    </tr>\n",
       "    <tr>\n",
       "      <th>4</th>\n",
       "      <td>192985</td>\n",
       "      <td>K. De Bruyne</td>\n",
       "      <td>27</td>\n",
       "      <td>Belgium</td>\n",
       "      <td>91</td>\n",
       "      <td>92</td>\n",
       "      <td>Manchester City</td>\n",
       "      <td>€102M</td>\n",
       "      <td>€355K</td>\n",
       "      <td>7.0</td>\n",
       "      <td>Aug 30, 2015</td>\n",
       "      <td>NaN</td>\n",
       "      <td>2023</td>\n",
       "      <td>5'11</td>\n",
       "      <td>154lbs</td>\n",
       "      <td>82+3</td>\n",
       "      <td>82+3</td>\n",
       "      <td>82+3</td>\n",
       "      <td>87+3</td>\n",
       "      <td>87+3</td>\n",
       "      <td>87+3</td>\n",
       "      <td>87+3</td>\n",
       "      <td>87+3</td>\n",
       "      <td>88+3</td>\n",
       "      <td>88+3</td>\n",
       "      <td>88+3</td>\n",
       "      <td>88+3</td>\n",
       "      <td>87+3</td>\n",
       "      <td>87+3</td>\n",
       "      <td>87+3</td>\n",
       "      <td>88+3</td>\n",
       "      <td>77+3</td>\n",
       "      <td>77+3</td>\n",
       "      <td>77+3</td>\n",
       "      <td>77+3</td>\n",
       "      <td>77+3</td>\n",
       "      <td>73+3</td>\n",
       "      <td>66+3</td>\n",
       "      <td>66+3</td>\n",
       "      <td>66+3</td>\n",
       "      <td>73+3</td>\n",
       "      <td>93.0</td>\n",
       "      <td>82.0</td>\n",
       "      <td>55.0</td>\n",
       "      <td>92.0</td>\n",
       "      <td>82.0</td>\n",
       "      <td>86.0</td>\n",
       "      <td>85.0</td>\n",
       "      <td>83.0</td>\n",
       "      <td>91.0</td>\n",
       "      <td>91.0</td>\n",
       "      <td>78.0</td>\n",
       "      <td>76.0</td>\n",
       "      <td>79.0</td>\n",
       "      <td>91.0</td>\n",
       "      <td>77.0</td>\n",
       "      <td>91.0</td>\n",
       "      <td>63.0</td>\n",
       "      <td>90.0</td>\n",
       "      <td>75.0</td>\n",
       "      <td>91.0</td>\n",
       "      <td>76.0</td>\n",
       "      <td>61.0</td>\n",
       "      <td>87.0</td>\n",
       "      <td>94.0</td>\n",
       "      <td>79.0</td>\n",
       "      <td>88.0</td>\n",
       "      <td>68.0</td>\n",
       "      <td>58.0</td>\n",
       "      <td>51.0</td>\n",
       "      <td>15.0</td>\n",
       "      <td>13.0</td>\n",
       "      <td>5.0</td>\n",
       "      <td>10.0</td>\n",
       "      <td>13.0</td>\n",
       "      <td>€196.4M</td>\n",
       "      <td>102000000.0</td>\n",
       "      <td>355000.0</td>\n",
       "    </tr>\n",
       "  </tbody>\n",
       "</table>\n",
       "</div>"
      ],
      "text/plain": [
       "       ID               Name  Age Nationality  Overall  Potential  \\\n",
       "0  158023           L. Messi   31   Argentina       94         94   \n",
       "1   20801  Cristiano Ronaldo   33    Portugal       94         94   \n",
       "2  190871          Neymar Jr   26      Brazil       92         93   \n",
       "3  193080             De Gea   27       Spain       91         93   \n",
       "4  192985       K. De Bruyne   27     Belgium       91         92   \n",
       "\n",
       "                  Club    Value   Wage  Jersey Number        Joined  \\\n",
       "0         FC Barcelona  €110.5M  €565K           10.0   Jul 1, 2004   \n",
       "1             Juventus     €77M  €405K            7.0  Jul 10, 2018   \n",
       "2  Paris Saint-Germain  €118.5M  €290K           10.0   Aug 3, 2017   \n",
       "3    Manchester United     €72M  €260K            1.0   Jul 1, 2011   \n",
       "4      Manchester City    €102M  €355K            7.0  Aug 30, 2015   \n",
       "\n",
       "  Loaned From Contract Valid Until Height  Weight    LS    ST    RS    LW  \\\n",
       "0         NaN                 2021    5'7  159lbs  88+2  88+2  88+2  92+2   \n",
       "1         NaN                 2022    6'2  183lbs  91+3  91+3  91+3  89+3   \n",
       "2         NaN                 2022    5'9  150lbs  84+3  84+3  84+3  89+3   \n",
       "3         NaN                 2020    6'4  168lbs   NaN   NaN   NaN   NaN   \n",
       "4         NaN                 2023   5'11  154lbs  82+3  82+3  82+3  87+3   \n",
       "\n",
       "     LF    CF    RF    RW   LAM   CAM   RAM    LM   LCM    CM   RCM    RM  \\\n",
       "0  93+2  93+2  93+2  92+2  93+2  93+2  93+2  91+2  84+2  84+2  84+2  91+2   \n",
       "1  90+3  90+3  90+3  89+3  88+3  88+3  88+3  88+3  81+3  81+3  81+3  88+3   \n",
       "2  89+3  89+3  89+3  89+3  89+3  89+3  89+3  88+3  81+3  81+3  81+3  88+3   \n",
       "3   NaN   NaN   NaN   NaN   NaN   NaN   NaN   NaN   NaN   NaN   NaN   NaN   \n",
       "4  87+3  87+3  87+3  87+3  88+3  88+3  88+3  88+3  87+3  87+3  87+3  88+3   \n",
       "\n",
       "    LWB   LDM   CDM   RDM   RWB    LB   LCB    CB   RCB    RB  Crossing  \\\n",
       "0  64+2  61+2  61+2  61+2  64+2  59+2  47+2  47+2  47+2  59+2      84.0   \n",
       "1  65+3  61+3  61+3  61+3  65+3  61+3  53+3  53+3  53+3  61+3      84.0   \n",
       "2  65+3  60+3  60+3  60+3  65+3  60+3  47+3  47+3  47+3  60+3      79.0   \n",
       "3   NaN   NaN   NaN   NaN   NaN   NaN   NaN   NaN   NaN   NaN      17.0   \n",
       "4  77+3  77+3  77+3  77+3  77+3  73+3  66+3  66+3  66+3  73+3      93.0   \n",
       "\n",
       "   Finishing  HeadingAccuracy  ShortPassing  Volleys  Dribbling  Curve  \\\n",
       "0       95.0             70.0          90.0     86.0       97.0   93.0   \n",
       "1       94.0             89.0          81.0     87.0       88.0   81.0   \n",
       "2       87.0             62.0          84.0     84.0       96.0   88.0   \n",
       "3       13.0             21.0          50.0     13.0       18.0   21.0   \n",
       "4       82.0             55.0          92.0     82.0       86.0   85.0   \n",
       "\n",
       "   FKAccuracy  LongPassing  BallControl  Acceleration  SprintSpeed  Agility  \\\n",
       "0        94.0         87.0         96.0          91.0         86.0     91.0   \n",
       "1        76.0         77.0         94.0          89.0         91.0     87.0   \n",
       "2        87.0         78.0         95.0          94.0         90.0     96.0   \n",
       "3        19.0         51.0         42.0          57.0         58.0     60.0   \n",
       "4        83.0         91.0         91.0          78.0         76.0     79.0   \n",
       "\n",
       "   Reactions  Balance  ShotPower  Jumping  Stamina  Strength  LongShots  \\\n",
       "0       95.0     95.0       85.0     68.0     72.0      59.0       94.0   \n",
       "1       96.0     70.0       95.0     95.0     88.0      79.0       93.0   \n",
       "2       94.0     84.0       80.0     61.0     81.0      49.0       82.0   \n",
       "3       90.0     43.0       31.0     67.0     43.0      64.0       12.0   \n",
       "4       91.0     77.0       91.0     63.0     90.0      75.0       91.0   \n",
       "\n",
       "   Aggression  Interceptions  Positioning  Vision  Penalties  Composure  \\\n",
       "0        48.0           22.0         94.0    94.0       75.0       96.0   \n",
       "1        63.0           29.0         95.0    82.0       85.0       95.0   \n",
       "2        56.0           36.0         89.0    87.0       81.0       94.0   \n",
       "3        38.0           30.0         12.0    68.0       40.0       68.0   \n",
       "4        76.0           61.0         87.0    94.0       79.0       88.0   \n",
       "\n",
       "   Marking  StandingTackle  SlidingTackle  GKDiving  GKHandling  GKKicking  \\\n",
       "0     33.0            28.0           26.0       6.0        11.0       15.0   \n",
       "1     28.0            31.0           23.0       7.0        11.0       15.0   \n",
       "2     27.0            24.0           33.0       9.0         9.0       15.0   \n",
       "3     15.0            21.0           13.0      90.0        85.0       87.0   \n",
       "4     68.0            58.0           51.0      15.0        13.0        5.0   \n",
       "\n",
       "   GKPositioning  GKReflexes Release Clause  Clean_Value  Clean_Wage  \n",
       "0           14.0         8.0        €226.5M  110500000.0    565000.0  \n",
       "1           14.0        11.0        €127.1M   77000000.0    405000.0  \n",
       "2           15.0        11.0        €228.1M  118500000.0    290000.0  \n",
       "3           88.0        94.0        €138.6M   72000000.0    260000.0  \n",
       "4           10.0        13.0        €196.4M  102000000.0    355000.0  "
      ]
     },
     "execution_count": 131,
     "metadata": {},
     "output_type": "execute_result"
    }
   ],
   "source": [
    "data.head()"
   ]
  },
  {
   "cell_type": "markdown",
   "metadata": {},
   "source": [
    "#### 2.2 Data Cleaning\n",
    "\n",
    "- Given the purpose of the project, it's usefull to clean columns that are not relevant for the analysis\n"
   ]
  },
  {
   "cell_type": "code",
   "execution_count": 7,
   "metadata": {},
   "outputs": [],
   "source": [
    "cols = ['Unnamed: 0', 'Photo', 'Flag', 'Club Logo', 'Special',\n",
    "       'Preferred Foot', 'International Reputation', 'Weak Foot',\n",
    "       'Skill Moves', 'Work Rate', 'Body Type', 'Real Face', 'Position']\n",
    "\n",
    "data = data.drop(cols, axis =1)"
   ]
  },
  {
   "cell_type": "markdown",
   "metadata": {},
   "source": [
    "- Next, we'll be reformatting a few columns to numerical values so we can use its values in the analysis\n",
    "- This will allow us to draw conclusions later on related to the columns Wage and Value"
   ]
  },
  {
   "cell_type": "code",
   "execution_count": 8,
   "metadata": {},
   "outputs": [],
   "source": [
    "def numeric_value(x):\n",
    "    amount = x.replace('€', '')\n",
    "    \n",
    "    # Changing the milions (M) for 1000000's\n",
    "    if 'M' in amount:\n",
    "        amount = amount.replace('M', '')\n",
    "        amount = float(amount)*1000000\n",
    "\n",
    "    # Changing the thousands (K) for 1000's\n",
    "    elif 'K' in amount:\n",
    "        amount = amount.replace('K', '')\n",
    "        amount = float(amount)*1000\n",
    "    return float(amount)"
   ]
  },
  {
   "cell_type": "code",
   "execution_count": 9,
   "metadata": {},
   "outputs": [],
   "source": [
    "data['Clean_Value'] =  data['Value'].apply(numeric_value)"
   ]
  },
  {
   "cell_type": "code",
   "execution_count": 10,
   "metadata": {},
   "outputs": [],
   "source": [
    "data['Clean_Wage'] =  data['Wage'].apply(numeric_value)"
   ]
  },
  {
   "cell_type": "markdown",
   "metadata": {},
   "source": [
    "### 3. Data Analysis and Visualization\n",
    "\n",
    "- For this project, we've selected all the teams from `Primeira Liga`:\n",
    "\n",
    "- The Primeira Liga, also known as Liga NOS for sponsorship reasons, is the top professional association football division of the Portuguese football league system."
   ]
  },
  {
   "cell_type": "code",
   "execution_count": 14,
   "metadata": {},
   "outputs": [],
   "source": [
    "# This league was composed of 16 teams in 2019 and for the sake of the analysis we'll use 14 that are availabe\n",
    "# Two clubs are not in the dataset (Gil Vicente FC and FC Famalicao)\n",
    "\n",
    "\n",
    "clubs = ['FC Porto', 'SL Benfica', 'SC Braga', 'Sporting CP', 'Rio Ave FC', 'Vitória Guimarães', \n",
    "         'Moreirense FC', 'Santa Clara', 'Boavista FC', 'Vitória de Setúbal', 'Os Belenenses', \n",
    "         'CD Tondela', 'Portimonense SC', 'CD Aves']\n",
    "\n",
    "primeira_liga = data[data['Club'].isin(clubs)]"
   ]
  },
  {
   "cell_type": "markdown",
   "metadata": {},
   "source": [
    "#### 3.1 Average attributes per club in Primeira Liga"
   ]
  },
  {
   "cell_type": "code",
   "execution_count": 132,
   "metadata": {},
   "outputs": [
    {
     "data": {
      "text/html": [
       "<div>\n",
       "<style scoped>\n",
       "    .dataframe tbody tr th:only-of-type {\n",
       "        vertical-align: middle;\n",
       "    }\n",
       "\n",
       "    .dataframe tbody tr th {\n",
       "        vertical-align: top;\n",
       "    }\n",
       "\n",
       "    .dataframe thead th {\n",
       "        text-align: right;\n",
       "    }\n",
       "</style>\n",
       "<table border=\"1\" class=\"dataframe\">\n",
       "  <thead>\n",
       "    <tr style=\"text-align: right;\">\n",
       "      <th></th>\n",
       "      <th>Age</th>\n",
       "      <th>Overall</th>\n",
       "      <th>Potential</th>\n",
       "      <th>Crossing</th>\n",
       "      <th>Finishing</th>\n",
       "      <th>HeadingAccuracy</th>\n",
       "      <th>ShortPassing</th>\n",
       "      <th>Volleys</th>\n",
       "      <th>Dribbling</th>\n",
       "      <th>Curve</th>\n",
       "      <th>FKAccuracy</th>\n",
       "      <th>LongPassing</th>\n",
       "      <th>BallControl</th>\n",
       "      <th>Acceleration</th>\n",
       "      <th>SprintSpeed</th>\n",
       "      <th>Agility</th>\n",
       "      <th>Reactions</th>\n",
       "      <th>Balance</th>\n",
       "      <th>ShotPower</th>\n",
       "      <th>Jumping</th>\n",
       "      <th>Stamina</th>\n",
       "      <th>Strength</th>\n",
       "      <th>LongShots</th>\n",
       "      <th>Aggression</th>\n",
       "      <th>Interceptions</th>\n",
       "      <th>Positioning</th>\n",
       "      <th>Vision</th>\n",
       "      <th>Penalties</th>\n",
       "      <th>Composure</th>\n",
       "      <th>Marking</th>\n",
       "      <th>StandingTackle</th>\n",
       "      <th>SlidingTackle</th>\n",
       "      <th>GKDiving</th>\n",
       "      <th>GKHandling</th>\n",
       "      <th>GKKicking</th>\n",
       "      <th>GKPositioning</th>\n",
       "      <th>GKReflexes</th>\n",
       "      <th>Clean_Value</th>\n",
       "      <th>Clean_Wage</th>\n",
       "    </tr>\n",
       "    <tr>\n",
       "      <th>Club</th>\n",
       "      <th></th>\n",
       "      <th></th>\n",
       "      <th></th>\n",
       "      <th></th>\n",
       "      <th></th>\n",
       "      <th></th>\n",
       "      <th></th>\n",
       "      <th></th>\n",
       "      <th></th>\n",
       "      <th></th>\n",
       "      <th></th>\n",
       "      <th></th>\n",
       "      <th></th>\n",
       "      <th></th>\n",
       "      <th></th>\n",
       "      <th></th>\n",
       "      <th></th>\n",
       "      <th></th>\n",
       "      <th></th>\n",
       "      <th></th>\n",
       "      <th></th>\n",
       "      <th></th>\n",
       "      <th></th>\n",
       "      <th></th>\n",
       "      <th></th>\n",
       "      <th></th>\n",
       "      <th></th>\n",
       "      <th></th>\n",
       "      <th></th>\n",
       "      <th></th>\n",
       "      <th></th>\n",
       "      <th></th>\n",
       "      <th></th>\n",
       "      <th></th>\n",
       "      <th></th>\n",
       "      <th></th>\n",
       "      <th></th>\n",
       "      <th></th>\n",
       "      <th></th>\n",
       "    </tr>\n",
       "  </thead>\n",
       "  <tbody>\n",
       "    <tr>\n",
       "      <th>FC Porto</th>\n",
       "      <td>25.0</td>\n",
       "      <td>77.0</td>\n",
       "      <td>81.0</td>\n",
       "      <td>56.0</td>\n",
       "      <td>56.0</td>\n",
       "      <td>61.0</td>\n",
       "      <td>68.0</td>\n",
       "      <td>54.0</td>\n",
       "      <td>67.0</td>\n",
       "      <td>58.0</td>\n",
       "      <td>46.0</td>\n",
       "      <td>60.0</td>\n",
       "      <td>68.0</td>\n",
       "      <td>71.0</td>\n",
       "      <td>70.0</td>\n",
       "      <td>69.0</td>\n",
       "      <td>74.0</td>\n",
       "      <td>64.0</td>\n",
       "      <td>65.0</td>\n",
       "      <td>71.0</td>\n",
       "      <td>70.0</td>\n",
       "      <td>68.0</td>\n",
       "      <td>57.0</td>\n",
       "      <td>65.0</td>\n",
       "      <td>52.0</td>\n",
       "      <td>62.0</td>\n",
       "      <td>63.0</td>\n",
       "      <td>55.0</td>\n",
       "      <td>71.0</td>\n",
       "      <td>56.0</td>\n",
       "      <td>52.0</td>\n",
       "      <td>47.0</td>\n",
       "      <td>17.0</td>\n",
       "      <td>16.0</td>\n",
       "      <td>16.0</td>\n",
       "      <td>17.0</td>\n",
       "      <td>18.0</td>\n",
       "      <td>11985714.0</td>\n",
       "      <td>14643.0</td>\n",
       "    </tr>\n",
       "    <tr>\n",
       "      <th>SL Benfica</th>\n",
       "      <td>24.0</td>\n",
       "      <td>77.0</td>\n",
       "      <td>82.0</td>\n",
       "      <td>58.0</td>\n",
       "      <td>54.0</td>\n",
       "      <td>63.0</td>\n",
       "      <td>68.0</td>\n",
       "      <td>52.0</td>\n",
       "      <td>66.0</td>\n",
       "      <td>60.0</td>\n",
       "      <td>54.0</td>\n",
       "      <td>63.0</td>\n",
       "      <td>69.0</td>\n",
       "      <td>69.0</td>\n",
       "      <td>69.0</td>\n",
       "      <td>68.0</td>\n",
       "      <td>75.0</td>\n",
       "      <td>65.0</td>\n",
       "      <td>67.0</td>\n",
       "      <td>70.0</td>\n",
       "      <td>72.0</td>\n",
       "      <td>69.0</td>\n",
       "      <td>57.0</td>\n",
       "      <td>67.0</td>\n",
       "      <td>59.0</td>\n",
       "      <td>60.0</td>\n",
       "      <td>64.0</td>\n",
       "      <td>57.0</td>\n",
       "      <td>70.0</td>\n",
       "      <td>54.0</td>\n",
       "      <td>58.0</td>\n",
       "      <td>54.0</td>\n",
       "      <td>18.0</td>\n",
       "      <td>17.0</td>\n",
       "      <td>16.0</td>\n",
       "      <td>17.0</td>\n",
       "      <td>18.0</td>\n",
       "      <td>11401786.0</td>\n",
       "      <td>12036.0</td>\n",
       "    </tr>\n",
       "    <tr>\n",
       "      <th>Sporting CP</th>\n",
       "      <td>26.0</td>\n",
       "      <td>76.0</td>\n",
       "      <td>79.0</td>\n",
       "      <td>56.0</td>\n",
       "      <td>53.0</td>\n",
       "      <td>59.0</td>\n",
       "      <td>68.0</td>\n",
       "      <td>55.0</td>\n",
       "      <td>64.0</td>\n",
       "      <td>59.0</td>\n",
       "      <td>49.0</td>\n",
       "      <td>62.0</td>\n",
       "      <td>66.0</td>\n",
       "      <td>66.0</td>\n",
       "      <td>67.0</td>\n",
       "      <td>66.0</td>\n",
       "      <td>73.0</td>\n",
       "      <td>62.0</td>\n",
       "      <td>65.0</td>\n",
       "      <td>67.0</td>\n",
       "      <td>70.0</td>\n",
       "      <td>71.0</td>\n",
       "      <td>60.0</td>\n",
       "      <td>65.0</td>\n",
       "      <td>56.0</td>\n",
       "      <td>59.0</td>\n",
       "      <td>66.0</td>\n",
       "      <td>56.0</td>\n",
       "      <td>70.0</td>\n",
       "      <td>57.0</td>\n",
       "      <td>56.0</td>\n",
       "      <td>51.0</td>\n",
       "      <td>20.0</td>\n",
       "      <td>20.0</td>\n",
       "      <td>18.0</td>\n",
       "      <td>19.0</td>\n",
       "      <td>19.0</td>\n",
       "      <td>9974167.0</td>\n",
       "      <td>14867.0</td>\n",
       "    </tr>\n",
       "    <tr>\n",
       "      <th>SC Braga</th>\n",
       "      <td>25.0</td>\n",
       "      <td>75.0</td>\n",
       "      <td>79.0</td>\n",
       "      <td>55.0</td>\n",
       "      <td>51.0</td>\n",
       "      <td>60.0</td>\n",
       "      <td>65.0</td>\n",
       "      <td>51.0</td>\n",
       "      <td>63.0</td>\n",
       "      <td>55.0</td>\n",
       "      <td>48.0</td>\n",
       "      <td>58.0</td>\n",
       "      <td>66.0</td>\n",
       "      <td>64.0</td>\n",
       "      <td>65.0</td>\n",
       "      <td>65.0</td>\n",
       "      <td>73.0</td>\n",
       "      <td>63.0</td>\n",
       "      <td>65.0</td>\n",
       "      <td>67.0</td>\n",
       "      <td>67.0</td>\n",
       "      <td>68.0</td>\n",
       "      <td>57.0</td>\n",
       "      <td>63.0</td>\n",
       "      <td>55.0</td>\n",
       "      <td>57.0</td>\n",
       "      <td>59.0</td>\n",
       "      <td>55.0</td>\n",
       "      <td>69.0</td>\n",
       "      <td>52.0</td>\n",
       "      <td>56.0</td>\n",
       "      <td>53.0</td>\n",
       "      <td>18.0</td>\n",
       "      <td>17.0</td>\n",
       "      <td>16.0</td>\n",
       "      <td>17.0</td>\n",
       "      <td>17.0</td>\n",
       "      <td>7350893.0</td>\n",
       "      <td>12500.0</td>\n",
       "    </tr>\n",
       "    <tr>\n",
       "      <th>Vitória Guimarães</th>\n",
       "      <td>25.0</td>\n",
       "      <td>72.0</td>\n",
       "      <td>77.0</td>\n",
       "      <td>55.0</td>\n",
       "      <td>48.0</td>\n",
       "      <td>55.0</td>\n",
       "      <td>64.0</td>\n",
       "      <td>45.0</td>\n",
       "      <td>63.0</td>\n",
       "      <td>53.0</td>\n",
       "      <td>45.0</td>\n",
       "      <td>56.0</td>\n",
       "      <td>66.0</td>\n",
       "      <td>68.0</td>\n",
       "      <td>67.0</td>\n",
       "      <td>66.0</td>\n",
       "      <td>70.0</td>\n",
       "      <td>64.0</td>\n",
       "      <td>61.0</td>\n",
       "      <td>68.0</td>\n",
       "      <td>63.0</td>\n",
       "      <td>68.0</td>\n",
       "      <td>50.0</td>\n",
       "      <td>60.0</td>\n",
       "      <td>48.0</td>\n",
       "      <td>56.0</td>\n",
       "      <td>57.0</td>\n",
       "      <td>49.0</td>\n",
       "      <td>66.0</td>\n",
       "      <td>48.0</td>\n",
       "      <td>48.0</td>\n",
       "      <td>45.0</td>\n",
       "      <td>18.0</td>\n",
       "      <td>17.0</td>\n",
       "      <td>17.0</td>\n",
       "      <td>18.0</td>\n",
       "      <td>16.0</td>\n",
       "      <td>4479167.0</td>\n",
       "      <td>7267.0</td>\n",
       "    </tr>\n",
       "    <tr>\n",
       "      <th>Boavista FC</th>\n",
       "      <td>26.0</td>\n",
       "      <td>69.0</td>\n",
       "      <td>72.0</td>\n",
       "      <td>48.0</td>\n",
       "      <td>47.0</td>\n",
       "      <td>55.0</td>\n",
       "      <td>60.0</td>\n",
       "      <td>47.0</td>\n",
       "      <td>56.0</td>\n",
       "      <td>51.0</td>\n",
       "      <td>46.0</td>\n",
       "      <td>51.0</td>\n",
       "      <td>60.0</td>\n",
       "      <td>63.0</td>\n",
       "      <td>63.0</td>\n",
       "      <td>63.0</td>\n",
       "      <td>65.0</td>\n",
       "      <td>62.0</td>\n",
       "      <td>61.0</td>\n",
       "      <td>67.0</td>\n",
       "      <td>63.0</td>\n",
       "      <td>67.0</td>\n",
       "      <td>50.0</td>\n",
       "      <td>58.0</td>\n",
       "      <td>44.0</td>\n",
       "      <td>51.0</td>\n",
       "      <td>51.0</td>\n",
       "      <td>52.0</td>\n",
       "      <td>59.0</td>\n",
       "      <td>50.0</td>\n",
       "      <td>47.0</td>\n",
       "      <td>44.0</td>\n",
       "      <td>17.0</td>\n",
       "      <td>18.0</td>\n",
       "      <td>17.0</td>\n",
       "      <td>17.0</td>\n",
       "      <td>18.0</td>\n",
       "      <td>1508889.0</td>\n",
       "      <td>4148.0</td>\n",
       "    </tr>\n",
       "    <tr>\n",
       "      <th>Moreirense FC</th>\n",
       "      <td>25.0</td>\n",
       "      <td>69.0</td>\n",
       "      <td>73.0</td>\n",
       "      <td>51.0</td>\n",
       "      <td>47.0</td>\n",
       "      <td>54.0</td>\n",
       "      <td>60.0</td>\n",
       "      <td>46.0</td>\n",
       "      <td>57.0</td>\n",
       "      <td>52.0</td>\n",
       "      <td>46.0</td>\n",
       "      <td>53.0</td>\n",
       "      <td>60.0</td>\n",
       "      <td>61.0</td>\n",
       "      <td>63.0</td>\n",
       "      <td>62.0</td>\n",
       "      <td>67.0</td>\n",
       "      <td>63.0</td>\n",
       "      <td>59.0</td>\n",
       "      <td>66.0</td>\n",
       "      <td>64.0</td>\n",
       "      <td>66.0</td>\n",
       "      <td>48.0</td>\n",
       "      <td>60.0</td>\n",
       "      <td>48.0</td>\n",
       "      <td>51.0</td>\n",
       "      <td>55.0</td>\n",
       "      <td>50.0</td>\n",
       "      <td>61.0</td>\n",
       "      <td>44.0</td>\n",
       "      <td>49.0</td>\n",
       "      <td>44.0</td>\n",
       "      <td>17.0</td>\n",
       "      <td>17.0</td>\n",
       "      <td>17.0</td>\n",
       "      <td>16.0</td>\n",
       "      <td>17.0</td>\n",
       "      <td>1900000.0</td>\n",
       "      <td>3880.0</td>\n",
       "    </tr>\n",
       "    <tr>\n",
       "      <th>Portimonense SC</th>\n",
       "      <td>24.0</td>\n",
       "      <td>69.0</td>\n",
       "      <td>75.0</td>\n",
       "      <td>51.0</td>\n",
       "      <td>48.0</td>\n",
       "      <td>54.0</td>\n",
       "      <td>65.0</td>\n",
       "      <td>46.0</td>\n",
       "      <td>59.0</td>\n",
       "      <td>51.0</td>\n",
       "      <td>43.0</td>\n",
       "      <td>56.0</td>\n",
       "      <td>63.0</td>\n",
       "      <td>66.0</td>\n",
       "      <td>66.0</td>\n",
       "      <td>66.0</td>\n",
       "      <td>66.0</td>\n",
       "      <td>66.0</td>\n",
       "      <td>61.0</td>\n",
       "      <td>65.0</td>\n",
       "      <td>68.0</td>\n",
       "      <td>64.0</td>\n",
       "      <td>49.0</td>\n",
       "      <td>57.0</td>\n",
       "      <td>50.0</td>\n",
       "      <td>51.0</td>\n",
       "      <td>52.0</td>\n",
       "      <td>51.0</td>\n",
       "      <td>63.0</td>\n",
       "      <td>44.0</td>\n",
       "      <td>51.0</td>\n",
       "      <td>48.0</td>\n",
       "      <td>14.0</td>\n",
       "      <td>15.0</td>\n",
       "      <td>14.0</td>\n",
       "      <td>14.0</td>\n",
       "      <td>14.0</td>\n",
       "      <td>2686111.0</td>\n",
       "      <td>5370.0</td>\n",
       "    </tr>\n",
       "    <tr>\n",
       "      <th>Rio Ave FC</th>\n",
       "      <td>24.0</td>\n",
       "      <td>69.0</td>\n",
       "      <td>75.0</td>\n",
       "      <td>52.0</td>\n",
       "      <td>47.0</td>\n",
       "      <td>55.0</td>\n",
       "      <td>60.0</td>\n",
       "      <td>48.0</td>\n",
       "      <td>62.0</td>\n",
       "      <td>52.0</td>\n",
       "      <td>44.0</td>\n",
       "      <td>48.0</td>\n",
       "      <td>62.0</td>\n",
       "      <td>64.0</td>\n",
       "      <td>64.0</td>\n",
       "      <td>63.0</td>\n",
       "      <td>67.0</td>\n",
       "      <td>63.0</td>\n",
       "      <td>60.0</td>\n",
       "      <td>62.0</td>\n",
       "      <td>61.0</td>\n",
       "      <td>66.0</td>\n",
       "      <td>48.0</td>\n",
       "      <td>56.0</td>\n",
       "      <td>44.0</td>\n",
       "      <td>55.0</td>\n",
       "      <td>54.0</td>\n",
       "      <td>53.0</td>\n",
       "      <td>62.0</td>\n",
       "      <td>43.0</td>\n",
       "      <td>46.0</td>\n",
       "      <td>45.0</td>\n",
       "      <td>18.0</td>\n",
       "      <td>16.0</td>\n",
       "      <td>16.0</td>\n",
       "      <td>17.0</td>\n",
       "      <td>17.0</td>\n",
       "      <td>2348750.0</td>\n",
       "      <td>5929.0</td>\n",
       "    </tr>\n",
       "    <tr>\n",
       "      <th>Vitória de Setúbal</th>\n",
       "      <td>25.0</td>\n",
       "      <td>69.0</td>\n",
       "      <td>73.0</td>\n",
       "      <td>49.0</td>\n",
       "      <td>46.0</td>\n",
       "      <td>56.0</td>\n",
       "      <td>60.0</td>\n",
       "      <td>47.0</td>\n",
       "      <td>58.0</td>\n",
       "      <td>49.0</td>\n",
       "      <td>44.0</td>\n",
       "      <td>53.0</td>\n",
       "      <td>61.0</td>\n",
       "      <td>64.0</td>\n",
       "      <td>63.0</td>\n",
       "      <td>63.0</td>\n",
       "      <td>66.0</td>\n",
       "      <td>66.0</td>\n",
       "      <td>60.0</td>\n",
       "      <td>65.0</td>\n",
       "      <td>63.0</td>\n",
       "      <td>65.0</td>\n",
       "      <td>48.0</td>\n",
       "      <td>62.0</td>\n",
       "      <td>50.0</td>\n",
       "      <td>51.0</td>\n",
       "      <td>54.0</td>\n",
       "      <td>52.0</td>\n",
       "      <td>60.0</td>\n",
       "      <td>46.0</td>\n",
       "      <td>50.0</td>\n",
       "      <td>46.0</td>\n",
       "      <td>17.0</td>\n",
       "      <td>17.0</td>\n",
       "      <td>17.0</td>\n",
       "      <td>17.0</td>\n",
       "      <td>17.0</td>\n",
       "      <td>1887500.0</td>\n",
       "      <td>4750.0</td>\n",
       "    </tr>\n",
       "    <tr>\n",
       "      <th>CD Aves</th>\n",
       "      <td>27.0</td>\n",
       "      <td>68.0</td>\n",
       "      <td>71.0</td>\n",
       "      <td>52.0</td>\n",
       "      <td>46.0</td>\n",
       "      <td>54.0</td>\n",
       "      <td>61.0</td>\n",
       "      <td>45.0</td>\n",
       "      <td>59.0</td>\n",
       "      <td>51.0</td>\n",
       "      <td>43.0</td>\n",
       "      <td>55.0</td>\n",
       "      <td>62.0</td>\n",
       "      <td>65.0</td>\n",
       "      <td>64.0</td>\n",
       "      <td>63.0</td>\n",
       "      <td>66.0</td>\n",
       "      <td>65.0</td>\n",
       "      <td>60.0</td>\n",
       "      <td>67.0</td>\n",
       "      <td>62.0</td>\n",
       "      <td>66.0</td>\n",
       "      <td>52.0</td>\n",
       "      <td>61.0</td>\n",
       "      <td>52.0</td>\n",
       "      <td>52.0</td>\n",
       "      <td>54.0</td>\n",
       "      <td>51.0</td>\n",
       "      <td>60.0</td>\n",
       "      <td>47.0</td>\n",
       "      <td>51.0</td>\n",
       "      <td>48.0</td>\n",
       "      <td>17.0</td>\n",
       "      <td>17.0</td>\n",
       "      <td>15.0</td>\n",
       "      <td>17.0</td>\n",
       "      <td>16.0</td>\n",
       "      <td>1316429.0</td>\n",
       "      <td>5500.0</td>\n",
       "    </tr>\n",
       "    <tr>\n",
       "      <th>Os Belenenses</th>\n",
       "      <td>26.0</td>\n",
       "      <td>68.0</td>\n",
       "      <td>71.0</td>\n",
       "      <td>51.0</td>\n",
       "      <td>46.0</td>\n",
       "      <td>56.0</td>\n",
       "      <td>60.0</td>\n",
       "      <td>44.0</td>\n",
       "      <td>58.0</td>\n",
       "      <td>51.0</td>\n",
       "      <td>46.0</td>\n",
       "      <td>50.0</td>\n",
       "      <td>60.0</td>\n",
       "      <td>67.0</td>\n",
       "      <td>64.0</td>\n",
       "      <td>66.0</td>\n",
       "      <td>64.0</td>\n",
       "      <td>63.0</td>\n",
       "      <td>58.0</td>\n",
       "      <td>66.0</td>\n",
       "      <td>60.0</td>\n",
       "      <td>69.0</td>\n",
       "      <td>47.0</td>\n",
       "      <td>61.0</td>\n",
       "      <td>50.0</td>\n",
       "      <td>51.0</td>\n",
       "      <td>53.0</td>\n",
       "      <td>48.0</td>\n",
       "      <td>60.0</td>\n",
       "      <td>49.0</td>\n",
       "      <td>50.0</td>\n",
       "      <td>47.0</td>\n",
       "      <td>15.0</td>\n",
       "      <td>16.0</td>\n",
       "      <td>14.0</td>\n",
       "      <td>15.0</td>\n",
       "      <td>14.0</td>\n",
       "      <td>1161458.0</td>\n",
       "      <td>3208.0</td>\n",
       "    </tr>\n",
       "    <tr>\n",
       "      <th>Santa Clara</th>\n",
       "      <td>27.0</td>\n",
       "      <td>68.0</td>\n",
       "      <td>71.0</td>\n",
       "      <td>48.0</td>\n",
       "      <td>47.0</td>\n",
       "      <td>52.0</td>\n",
       "      <td>62.0</td>\n",
       "      <td>42.0</td>\n",
       "      <td>57.0</td>\n",
       "      <td>48.0</td>\n",
       "      <td>44.0</td>\n",
       "      <td>53.0</td>\n",
       "      <td>61.0</td>\n",
       "      <td>60.0</td>\n",
       "      <td>62.0</td>\n",
       "      <td>63.0</td>\n",
       "      <td>64.0</td>\n",
       "      <td>63.0</td>\n",
       "      <td>61.0</td>\n",
       "      <td>63.0</td>\n",
       "      <td>60.0</td>\n",
       "      <td>65.0</td>\n",
       "      <td>46.0</td>\n",
       "      <td>55.0</td>\n",
       "      <td>42.0</td>\n",
       "      <td>52.0</td>\n",
       "      <td>53.0</td>\n",
       "      <td>49.0</td>\n",
       "      <td>60.0</td>\n",
       "      <td>44.0</td>\n",
       "      <td>44.0</td>\n",
       "      <td>42.0</td>\n",
       "      <td>16.0</td>\n",
       "      <td>16.0</td>\n",
       "      <td>15.0</td>\n",
       "      <td>17.0</td>\n",
       "      <td>17.0</td>\n",
       "      <td>1276538.0</td>\n",
       "      <td>2808.0</td>\n",
       "    </tr>\n",
       "    <tr>\n",
       "      <th>CD Tondela</th>\n",
       "      <td>25.0</td>\n",
       "      <td>67.0</td>\n",
       "      <td>72.0</td>\n",
       "      <td>47.0</td>\n",
       "      <td>43.0</td>\n",
       "      <td>54.0</td>\n",
       "      <td>58.0</td>\n",
       "      <td>40.0</td>\n",
       "      <td>55.0</td>\n",
       "      <td>44.0</td>\n",
       "      <td>38.0</td>\n",
       "      <td>50.0</td>\n",
       "      <td>58.0</td>\n",
       "      <td>62.0</td>\n",
       "      <td>61.0</td>\n",
       "      <td>62.0</td>\n",
       "      <td>65.0</td>\n",
       "      <td>63.0</td>\n",
       "      <td>57.0</td>\n",
       "      <td>68.0</td>\n",
       "      <td>62.0</td>\n",
       "      <td>66.0</td>\n",
       "      <td>43.0</td>\n",
       "      <td>58.0</td>\n",
       "      <td>46.0</td>\n",
       "      <td>50.0</td>\n",
       "      <td>51.0</td>\n",
       "      <td>47.0</td>\n",
       "      <td>58.0</td>\n",
       "      <td>51.0</td>\n",
       "      <td>47.0</td>\n",
       "      <td>45.0</td>\n",
       "      <td>17.0</td>\n",
       "      <td>16.0</td>\n",
       "      <td>16.0</td>\n",
       "      <td>16.0</td>\n",
       "      <td>18.0</td>\n",
       "      <td>1315000.0</td>\n",
       "      <td>2600.0</td>\n",
       "    </tr>\n",
       "  </tbody>\n",
       "</table>\n",
       "</div>"
      ],
      "text/plain": [
       "                     Age  Overall  Potential  Crossing  Finishing  \\\n",
       "Club                                                                \n",
       "FC Porto            25.0     77.0       81.0      56.0       56.0   \n",
       "SL Benfica          24.0     77.0       82.0      58.0       54.0   \n",
       "Sporting CP         26.0     76.0       79.0      56.0       53.0   \n",
       "SC Braga            25.0     75.0       79.0      55.0       51.0   \n",
       "Vitória Guimarães   25.0     72.0       77.0      55.0       48.0   \n",
       "Boavista FC         26.0     69.0       72.0      48.0       47.0   \n",
       "Moreirense FC       25.0     69.0       73.0      51.0       47.0   \n",
       "Portimonense SC     24.0     69.0       75.0      51.0       48.0   \n",
       "Rio Ave FC          24.0     69.0       75.0      52.0       47.0   \n",
       "Vitória de Setúbal  25.0     69.0       73.0      49.0       46.0   \n",
       "CD Aves             27.0     68.0       71.0      52.0       46.0   \n",
       "Os Belenenses       26.0     68.0       71.0      51.0       46.0   \n",
       "Santa Clara         27.0     68.0       71.0      48.0       47.0   \n",
       "CD Tondela          25.0     67.0       72.0      47.0       43.0   \n",
       "\n",
       "                    HeadingAccuracy  ShortPassing  Volleys  Dribbling  Curve  \\\n",
       "Club                                                                           \n",
       "FC Porto                       61.0          68.0     54.0       67.0   58.0   \n",
       "SL Benfica                     63.0          68.0     52.0       66.0   60.0   \n",
       "Sporting CP                    59.0          68.0     55.0       64.0   59.0   \n",
       "SC Braga                       60.0          65.0     51.0       63.0   55.0   \n",
       "Vitória Guimarães              55.0          64.0     45.0       63.0   53.0   \n",
       "Boavista FC                    55.0          60.0     47.0       56.0   51.0   \n",
       "Moreirense FC                  54.0          60.0     46.0       57.0   52.0   \n",
       "Portimonense SC                54.0          65.0     46.0       59.0   51.0   \n",
       "Rio Ave FC                     55.0          60.0     48.0       62.0   52.0   \n",
       "Vitória de Setúbal             56.0          60.0     47.0       58.0   49.0   \n",
       "CD Aves                        54.0          61.0     45.0       59.0   51.0   \n",
       "Os Belenenses                  56.0          60.0     44.0       58.0   51.0   \n",
       "Santa Clara                    52.0          62.0     42.0       57.0   48.0   \n",
       "CD Tondela                     54.0          58.0     40.0       55.0   44.0   \n",
       "\n",
       "                    FKAccuracy  LongPassing  BallControl  Acceleration  \\\n",
       "Club                                                                     \n",
       "FC Porto                  46.0         60.0         68.0          71.0   \n",
       "SL Benfica                54.0         63.0         69.0          69.0   \n",
       "Sporting CP               49.0         62.0         66.0          66.0   \n",
       "SC Braga                  48.0         58.0         66.0          64.0   \n",
       "Vitória Guimarães         45.0         56.0         66.0          68.0   \n",
       "Boavista FC               46.0         51.0         60.0          63.0   \n",
       "Moreirense FC             46.0         53.0         60.0          61.0   \n",
       "Portimonense SC           43.0         56.0         63.0          66.0   \n",
       "Rio Ave FC                44.0         48.0         62.0          64.0   \n",
       "Vitória de Setúbal        44.0         53.0         61.0          64.0   \n",
       "CD Aves                   43.0         55.0         62.0          65.0   \n",
       "Os Belenenses             46.0         50.0         60.0          67.0   \n",
       "Santa Clara               44.0         53.0         61.0          60.0   \n",
       "CD Tondela                38.0         50.0         58.0          62.0   \n",
       "\n",
       "                    SprintSpeed  Agility  Reactions  Balance  ShotPower  \\\n",
       "Club                                                                      \n",
       "FC Porto                   70.0     69.0       74.0     64.0       65.0   \n",
       "SL Benfica                 69.0     68.0       75.0     65.0       67.0   \n",
       "Sporting CP                67.0     66.0       73.0     62.0       65.0   \n",
       "SC Braga                   65.0     65.0       73.0     63.0       65.0   \n",
       "Vitória Guimarães          67.0     66.0       70.0     64.0       61.0   \n",
       "Boavista FC                63.0     63.0       65.0     62.0       61.0   \n",
       "Moreirense FC              63.0     62.0       67.0     63.0       59.0   \n",
       "Portimonense SC            66.0     66.0       66.0     66.0       61.0   \n",
       "Rio Ave FC                 64.0     63.0       67.0     63.0       60.0   \n",
       "Vitória de Setúbal         63.0     63.0       66.0     66.0       60.0   \n",
       "CD Aves                    64.0     63.0       66.0     65.0       60.0   \n",
       "Os Belenenses              64.0     66.0       64.0     63.0       58.0   \n",
       "Santa Clara                62.0     63.0       64.0     63.0       61.0   \n",
       "CD Tondela                 61.0     62.0       65.0     63.0       57.0   \n",
       "\n",
       "                    Jumping  Stamina  Strength  LongShots  Aggression  \\\n",
       "Club                                                                    \n",
       "FC Porto               71.0     70.0      68.0       57.0        65.0   \n",
       "SL Benfica             70.0     72.0      69.0       57.0        67.0   \n",
       "Sporting CP            67.0     70.0      71.0       60.0        65.0   \n",
       "SC Braga               67.0     67.0      68.0       57.0        63.0   \n",
       "Vitória Guimarães      68.0     63.0      68.0       50.0        60.0   \n",
       "Boavista FC            67.0     63.0      67.0       50.0        58.0   \n",
       "Moreirense FC          66.0     64.0      66.0       48.0        60.0   \n",
       "Portimonense SC        65.0     68.0      64.0       49.0        57.0   \n",
       "Rio Ave FC             62.0     61.0      66.0       48.0        56.0   \n",
       "Vitória de Setúbal     65.0     63.0      65.0       48.0        62.0   \n",
       "CD Aves                67.0     62.0      66.0       52.0        61.0   \n",
       "Os Belenenses          66.0     60.0      69.0       47.0        61.0   \n",
       "Santa Clara            63.0     60.0      65.0       46.0        55.0   \n",
       "CD Tondela             68.0     62.0      66.0       43.0        58.0   \n",
       "\n",
       "                    Interceptions  Positioning  Vision  Penalties  Composure  \\\n",
       "Club                                                                           \n",
       "FC Porto                     52.0         62.0    63.0       55.0       71.0   \n",
       "SL Benfica                   59.0         60.0    64.0       57.0       70.0   \n",
       "Sporting CP                  56.0         59.0    66.0       56.0       70.0   \n",
       "SC Braga                     55.0         57.0    59.0       55.0       69.0   \n",
       "Vitória Guimarães            48.0         56.0    57.0       49.0       66.0   \n",
       "Boavista FC                  44.0         51.0    51.0       52.0       59.0   \n",
       "Moreirense FC                48.0         51.0    55.0       50.0       61.0   \n",
       "Portimonense SC              50.0         51.0    52.0       51.0       63.0   \n",
       "Rio Ave FC                   44.0         55.0    54.0       53.0       62.0   \n",
       "Vitória de Setúbal           50.0         51.0    54.0       52.0       60.0   \n",
       "CD Aves                      52.0         52.0    54.0       51.0       60.0   \n",
       "Os Belenenses                50.0         51.0    53.0       48.0       60.0   \n",
       "Santa Clara                  42.0         52.0    53.0       49.0       60.0   \n",
       "CD Tondela                   46.0         50.0    51.0       47.0       58.0   \n",
       "\n",
       "                    Marking  StandingTackle  SlidingTackle  GKDiving  \\\n",
       "Club                                                                   \n",
       "FC Porto               56.0            52.0           47.0      17.0   \n",
       "SL Benfica             54.0            58.0           54.0      18.0   \n",
       "Sporting CP            57.0            56.0           51.0      20.0   \n",
       "SC Braga               52.0            56.0           53.0      18.0   \n",
       "Vitória Guimarães      48.0            48.0           45.0      18.0   \n",
       "Boavista FC            50.0            47.0           44.0      17.0   \n",
       "Moreirense FC          44.0            49.0           44.0      17.0   \n",
       "Portimonense SC        44.0            51.0           48.0      14.0   \n",
       "Rio Ave FC             43.0            46.0           45.0      18.0   \n",
       "Vitória de Setúbal     46.0            50.0           46.0      17.0   \n",
       "CD Aves                47.0            51.0           48.0      17.0   \n",
       "Os Belenenses          49.0            50.0           47.0      15.0   \n",
       "Santa Clara            44.0            44.0           42.0      16.0   \n",
       "CD Tondela             51.0            47.0           45.0      17.0   \n",
       "\n",
       "                    GKHandling  GKKicking  GKPositioning  GKReflexes  \\\n",
       "Club                                                                   \n",
       "FC Porto                  16.0       16.0           17.0        18.0   \n",
       "SL Benfica                17.0       16.0           17.0        18.0   \n",
       "Sporting CP               20.0       18.0           19.0        19.0   \n",
       "SC Braga                  17.0       16.0           17.0        17.0   \n",
       "Vitória Guimarães         17.0       17.0           18.0        16.0   \n",
       "Boavista FC               18.0       17.0           17.0        18.0   \n",
       "Moreirense FC             17.0       17.0           16.0        17.0   \n",
       "Portimonense SC           15.0       14.0           14.0        14.0   \n",
       "Rio Ave FC                16.0       16.0           17.0        17.0   \n",
       "Vitória de Setúbal        17.0       17.0           17.0        17.0   \n",
       "CD Aves                   17.0       15.0           17.0        16.0   \n",
       "Os Belenenses             16.0       14.0           15.0        14.0   \n",
       "Santa Clara               16.0       15.0           17.0        17.0   \n",
       "CD Tondela                16.0       16.0           16.0        18.0   \n",
       "\n",
       "                    Clean_Value  Clean_Wage  \n",
       "Club                                         \n",
       "FC Porto             11985714.0     14643.0  \n",
       "SL Benfica           11401786.0     12036.0  \n",
       "Sporting CP           9974167.0     14867.0  \n",
       "SC Braga              7350893.0     12500.0  \n",
       "Vitória Guimarães     4479167.0      7267.0  \n",
       "Boavista FC           1508889.0      4148.0  \n",
       "Moreirense FC         1900000.0      3880.0  \n",
       "Portimonense SC       2686111.0      5370.0  \n",
       "Rio Ave FC            2348750.0      5929.0  \n",
       "Vitória de Setúbal    1887500.0      4750.0  \n",
       "CD Aves               1316429.0      5500.0  \n",
       "Os Belenenses         1161458.0      3208.0  \n",
       "Santa Clara           1276538.0      2808.0  \n",
       "CD Tondela            1315000.0      2600.0  "
      ]
     },
     "execution_count": 132,
     "metadata": {},
     "output_type": "execute_result"
    }
   ],
   "source": [
    "# Remove numerical columns which averages don't have any valid interpretation: ID and Jersey\n",
    "\n",
    "primeira_liga_attributes = primeira_liga.drop(['ID','Jersey Number'], axis=1)\n",
    "rating_overall = primeira_liga_attributes.groupby(\"Club\").mean().round().sort_values('Overall', ascending = False)\n",
    "rating_overall"
   ]
  },
  {
   "cell_type": "markdown",
   "metadata": {},
   "source": [
    "- **FCPorto**, **Benfica** and **Sporting CP** have the highest rated players by Fifa, which makes sense since they are commonly the TOP3 teams fighting for the title every year\n",
    "\n",
    "\n",
    "#### The ranking in the 2018/2019 season was:\n",
    "- (1) SL Benfica \n",
    "- (2) FC Porto\n",
    "- (3) Sporting CP\n",
    "- (4) SC Braga \n",
    "- (5) Vitória Guimarães\n",
    "\n",
    "This follows the TOP5 teams with the highest rated players by Fifa as shown above"
   ]
  },
  {
   "cell_type": "markdown",
   "metadata": {},
   "source": [
    "#### 3.2 Distribution of Fifa Rating in Primeira Liga"
   ]
  },
  {
   "cell_type": "code",
   "execution_count": 38,
   "metadata": {},
   "outputs": [
    {
     "name": "stdout",
     "output_type": "stream",
     "text": [
      "The average player in Primeira Liga has a rating score of 71.07\n",
      "The worst player in Primeira Liga has a rating score of 53\n",
      "The best player in Primeira Liga has a rating score of 85\n"
     ]
    }
   ],
   "source": [
    "avg_rating = primeira_liga['Overall'].mean().round(2)\n",
    "min_rating = primeira_liga['Overall'].min().round(2)\n",
    "max_rating = primeira_liga['Overall'].max().round(2)\n",
    "\n",
    "\n",
    "print(f'The average player in Primeira Liga has a rating score of {avg_rating}')\n",
    "print(f'The worst player in Primeira Liga has a rating score of {min_rating}')\n",
    "print(f'The best player in Primeira Liga has a rating score of {max_rating}')"
   ]
  },
  {
   "cell_type": "markdown",
   "metadata": {},
   "source": [
    "- Most players in Primeira Liga have a rating between `65 and 75`, while a lot of them are concentrated around 68-70"
   ]
  },
  {
   "cell_type": "code",
   "execution_count": 267,
   "metadata": {},
   "outputs": [
    {
     "data": {
      "image/png": "[encoded data removed]",
      "text/plain": [
       "<Figure size 1440x432 with 1 Axes>"
      ]
     },
     "metadata": {},
     "output_type": "display_data"
    }
   ],
   "source": [
    "sns.set(style =\"dark\", palette=\"colorblind\", color_codes=True)\n",
    "x = primeira_liga.Overall\n",
    "plt.figure(figsize=(20,6))\n",
    "ax = sns.distplot(x, bins = 15, kde = True, color='b')\n",
    "ax.set_xlabel(xlabel=\"Overall rating\", fontsize=16)\n",
    "ax.set_ylabel(ylabel='Frequency of players', fontsize=16)\n",
    "ax.set_title(label='Distribution of Fifa Rating in Primeira Liga', fontsize=20)\n",
    "ax.yaxis.grid(True) \n",
    "plt.savefig(\"plt_fifa_rating.png\")\n",
    "\n",
    "plt.show()"
   ]
  },
  {
   "cell_type": "markdown",
   "metadata": {},
   "source": [
    "- **FC Porto** has the best average team in the leageue, while also holding a few low-rating players - presumably young talents that will develop higher ratings\n",
    "- **Sporting CP** is known for its well-regard school of talents and the two low outliers are proof of it\n",
    "- **Portimonense SC** and **Moreirense** which have finished the season in 6th and 12th respectively, have surprisingly high rated players\n",
    "- **Santa Clara** holds the lowest rated player in Primeira Liga - *E. Williamson* "
   ]
  },
  {
   "cell_type": "code",
   "execution_count": 268,
   "metadata": {},
   "outputs": [
    {
     "data": {
      "image/png": "[encoded data removed]",
      "text/plain": [
       "<Figure size 1440x432 with 1 Axes>"
      ]
     },
     "metadata": {},
     "output_type": "display_data"
    }
   ],
   "source": [
    "plt.rcParams['figure.figsize'] = (20, 6)\n",
    "ax = sns.boxplot(x = primeira_liga['Club'], y = primeira_liga['Overall'], palette = 'colorblind')\n",
    "ax.set_xlabel(xlabel = 'Club', fontsize = 12)\n",
    "ax.set_ylabel(ylabel = 'Fifa Rating', fontsize = 12)\n",
    "ax.set_title(label = 'Distribution of Fifa Rating per Club in Primeira Liga', fontsize = 20)\n",
    "ax.yaxis.grid(True) \n",
    "plt.savefig(\"plt_fifa_rating_primeira_liga.png\")\n",
    "\n",
    "\n",
    "plt.show()"
   ]
  },
  {
   "cell_type": "markdown",
   "metadata": {},
   "source": [
    "#### 3.3 Distribution of Age in Primeira Liga"
   ]
  },
  {
   "cell_type": "code",
   "execution_count": 152,
   "metadata": {},
   "outputs": [
    {
     "name": "stdout",
     "output_type": "stream",
     "text": [
      "- Most players in Primeira Liga are between 22 and 27 years old\n",
      "- The average age for a player in Primeira Liga is 25.35\n"
     ]
    }
   ],
   "source": [
    "avg_age = primeira_liga['Age'].mean().round(2)\n",
    "\n",
    "print(f'- Most players in Primeira Liga are between 22 and 27 years old')\n",
    "print(f'- The average age for a player in Primeira Liga is {avg_age}')"
   ]
  },
  {
   "cell_type": "code",
   "execution_count": 269,
   "metadata": {},
   "outputs": [
    {
     "data": {
      "image/png": "[encoded data removed]",
      "text/plain": [
       "<Figure size 1440x432 with 1 Axes>"
      ]
     },
     "metadata": {},
     "output_type": "display_data"
    }
   ],
   "source": [
    "sns.set(style =\"dark\", palette=\"colorblind\", color_codes=True)\n",
    "x = primeira_liga.Age\n",
    "plt.figure(figsize=(20,6))\n",
    "ax = sns.distplot(x, bins = 20, kde = True, color='b')\n",
    "ax.set_xlabel(xlabel=\"Age\", fontsize=16)\n",
    "ax.set_ylabel(ylabel='Frequency of players', fontsize=16)\n",
    "ax.set_title(label='Distribution of Ages in Primeira Liga', fontsize=20)\n",
    "ax.yaxis.grid(True) \n",
    "plt.savefig(\"plt_ages.png\")\n",
    "\n",
    "\n",
    "plt.show()"
   ]
  },
  {
   "cell_type": "code",
   "execution_count": 148,
   "metadata": {},
   "outputs": [
    {
     "name": "stdout",
     "output_type": "stream",
     "text": [
      "The violing plot reveals the youngest squads are Rio Ave FC  (24.0) and Vitória Guimarães (25.0)\n"
     ]
    }
   ],
   "source": [
    "rio_avg = primeira_liga[primeira_liga['Club'] == 'Rio Ave FC']['Age'].mean().round()\n",
    "vitor_avg = primeira_liga[primeira_liga['Club'] == 'Vitória Guimarães']['Age'].mean().round()\n",
    "\n",
    "print(f'The violing plot reveals the youngest squads are Rio Ave FC  ({rio_avg}) and Vitória Guimarães ({vitor_avg})')"
   ]
  },
  {
   "cell_type": "code",
   "execution_count": 270,
   "metadata": {},
   "outputs": [
    {
     "data": {
      "image/png": "[encoded data removed]",
      "text/plain": [
       "<Figure size 1440x432 with 1 Axes>"
      ]
     },
     "metadata": {},
     "output_type": "display_data"
    }
   ],
   "source": [
    "fig, ax = plt.subplots()\n",
    "fig.set_size_inches(20, 6)\n",
    "ax = sns.violinplot(x=\"Club\", y=\"Age\", data=primeira_liga);\n",
    "ax.set_title(label='Distribution of Age per Club in Primeira Liga', fontsize=20);\n",
    "ax.yaxis.grid(True) \n",
    "plt.savefig(\"plt_ages_primeira_liga.png\")\n"
   ]
  },
  {
   "cell_type": "markdown",
   "metadata": {},
   "source": [
    "#### 3.4  Visual correlation of Age with other variables"
   ]
  },
  {
   "cell_type": "code",
   "execution_count": null,
   "metadata": {},
   "outputs": [],
   "source": [
    "top5 = ['SL Benfica', 'FC Porto', 'Sporting CP', 'SC Braga', 'Vitória Guimarães']\n",
    "\n",
    "primeira_liga_5 =  primeira_liga[primeira_liga['Club'].isin(top5)]"
   ]
  },
  {
   "cell_type": "markdown",
   "metadata": {},
   "source": [
    "While looking at the variability of the Fifa Rating per Age across the TOP5 teams of the league, there are a few conclusions that can be drawn:\n",
    "    \n",
    "- The best players are generally between **26-28 years old**\n",
    "- Sporting's best player - *Bruno Fernandes* - is **younger than his team's average** - 23 vs 26\n",
    "- By comparisson, FC Porto and SL Benfica's best players are **28 and 34 years old** respectively\n",
    "- The **oldest player** out of the TOP5 teams is also FCPorto's 5th best player - *Iker Casillas*"
   ]
  },
  {
   "cell_type": "code",
   "execution_count": 271,
   "metadata": {
    "scrolled": true
   },
   "outputs": [
    {
     "data": {
      "image/png": "[encoded data removed]",
      "text/plain": [
       "<Figure size 1440x432 with 1 Axes>"
      ]
     },
     "metadata": {},
     "output_type": "display_data"
    }
   ],
   "source": [
    "sns.lineplot(primeira_liga_5['Age'], primeira_liga_5['Overall'], hue = primeira_liga_5['Club'])\n",
    "plt.title('Age vs Fifa Rating', fontsize = 30)\n",
    "plt.savefig(\"plt_age_vs_fifa_rating.png\")\n",
    "\n",
    "plt.show()"
   ]
  },
  {
   "cell_type": "markdown",
   "metadata": {},
   "source": [
    "While looking at the Age vs Potential across the same TOP5 teams, the tables seem to turn since:\n",
    "\n",
    "- The **youngest** players have the **highest** potential - which is alligned with reality\n",
    "- *Bruno Fernandes* - from Sporting CP is also the player with the highest potential among the TOP5 teams\n",
    "- The 3 best clubs have the players with **highest potential** - *FC Porto, SL Benfica and Sporting CP* - which shows their investment on future generations\n",
    "- The plot ilustrates how the player's potential **drastically drops** after 26-28 years old, since most achieve their peak performance at that age"
   ]
  },
  {
   "cell_type": "code",
   "execution_count": 272,
   "metadata": {},
   "outputs": [
    {
     "data": {
      "image/png": "[encoded data removed]",
      "text/plain": [
       "<Figure size 1440x432 with 1 Axes>"
      ]
     },
     "metadata": {},
     "output_type": "display_data"
    }
   ],
   "source": [
    "primeira_liga_5 =  primeira_liga[primeira_liga['Club'].isin(top5)]\n",
    "\n",
    "sns.lineplot(primeira_liga_5['Age'], primeira_liga_5['Potential'], hue = primeira_liga_5['Club'])\n",
    "plt.title('Age vs Potential', fontsize = 30)\n",
    "plt.savefig(\"plt_age_vs_potential.png\")\n",
    "\n",
    "\n",
    "plt.show()"
   ]
  },
  {
   "cell_type": "markdown",
   "metadata": {},
   "source": [
    "#### 3.5  Visual correlation of Fifa Rating with other variables"
   ]
  },
  {
   "cell_type": "code",
   "execution_count": 229,
   "metadata": {},
   "outputs": [
    {
     "name": "stdout",
     "output_type": "stream",
     "text": [
      "- As proven before, most players rating orbits around 65-75 and are specially concentrated in 68-70\n",
      "- The average value of a player in Primeira Liga is 4.46M€\n",
      "- Fifa rating and the player value have a correlation of 0.82\n"
     ]
    }
   ],
   "source": [
    "avg_value= (primeira_liga['Clean_Value'].mean()/1000000).round(2)\n",
    "corr = primeira_liga_5['Clean_Value'].corr(primeira_liga['Overall']).round(2)\n",
    "\n",
    "print(f'- As proven before, most players rating orbits around 65-75 and are specially concentrated in 68-70')\n",
    "print(f'- The average value of a player in Primeira Liga is {avg_value}M€')\n",
    "print(f'- Fifa rating and the player value have a correlation of {corr}')"
   ]
  },
  {
   "cell_type": "markdown",
   "metadata": {},
   "source": [
    "The following scatter plot ilustrates how the Value of the players in Primeira Liga is distributed across the different ratings:\n",
    "    \n",
    "- FC Porto, SL Benfica and Sporting CP hold the **most valuable players**\n",
    "- FC Porto's Iker Casillas (82) and Sporting CP's J. Mathieu (81) are worth **only 1.1M€ and 5.5M€** - due to their older age of 37 and 34\n",
    "- The **positive correlation** between the two variables is quite visible"
   ]
  },
  {
   "cell_type": "code",
   "execution_count": 228,
   "metadata": {},
   "outputs": [
    {
     "data": {
      "text/plain": [
       "0.82"
      ]
     },
     "execution_count": 228,
     "metadata": {},
     "output_type": "execute_result"
    }
   ],
   "source": [
    "primeira_liga_5['Clean_Value'].corr(primeira_liga['Overall']).round(2)"
   ]
  },
  {
   "cell_type": "code",
   "execution_count": 273,
   "metadata": {},
   "outputs": [
    {
     "data": {
      "application/vnd.plotly.v1+json": {
       "config": {
        "plotlyServerURL": "https://plot.ly"
       },
       "data": [
        {
         "hoverlabel": {
          "namelength": 0
         },
         "hovertemplate": "Club=FC Porto<br>Clean_Value=%{x}<br>Overall=%{y}",
         "legendgroup": "FC Porto",
         "marker": {
          "color": "#636efa",
          "symbol": "circle"
         },
         "mode": "markers",
         "name": "FC Porto",
         "showlegend": true,
         "type": "scatter",
         "x": [
          39000000,
          32000000,
          20000000,
          27000000,
          1500000,
          21500000,
          17500000,
          16000000,
          18000000,
          17500000,
          15500000,
          14000000,
          12000000,
          13500000,
          2500000,
          8500000,
          7000000,
          7500000,
          8000000,
          9500000,
          6500000,
          7000000,
          3000000,
          4099999.9999999995,
          3400000,
          1300000,
          1200000,
          1100000
         ],
         "xaxis": "x",
         "y": [
          85,
          84,
          83,
          83,
          82,
          81,
          81,
          80,
          80,
          79,
          79,
          78,
          78,
          78,
          77,
          77,
          75,
          75,
          74,
          74,
          74,
          74,
          73,
          72,
          71,
          67,
          67,
          66
         ],
         "yaxis": "y"
        },
        {
         "hoverlabel": {
          "namelength": 0
         },
         "hovertemplate": "Club=Sporting CP<br>Clean_Value=%{x}<br>Overall=%{y}",
         "legendgroup": "Sporting CP",
         "marker": {
          "color": "#EF553B",
          "symbol": "circle"
         },
         "mode": "markers",
         "name": "Sporting CP",
         "showlegend": true,
         "type": "scatter",
         "x": [
          40500000,
          26000000,
          21000000,
          12500000,
          15500000,
          5500000,
          12500000,
          18000000,
          14500000,
          10500000,
          7000000,
          6500000,
          7000000,
          12500000,
          6000000,
          7500000,
          7500000,
          5000000,
          7000000,
          8000000,
          9000000,
          12000000,
          6000000,
          5500000,
          2800000,
          5500000,
          3900000,
          2300000,
          950000,
          775000
         ],
         "xaxis": "x",
         "y": [
          84,
          83,
          82,
          82,
          81,
          81,
          80,
          79,
          79,
          78,
          77,
          77,
          77,
          76,
          76,
          76,
          76,
          75,
          75,
          75,
          75,
          75,
          74,
          74,
          74,
          73,
          72,
          70,
          65,
          63
         ],
         "yaxis": "y"
        },
        {
         "hoverlabel": {
          "namelength": 0
         },
         "hovertemplate": "Club=SL Benfica<br>Clean_Value=%{x}<br>Overall=%{y}",
         "legendgroup": "SL Benfica",
         "marker": {
          "color": "#00cc96",
          "symbol": "circle"
         },
         "mode": "markers",
         "name": "SL Benfica",
         "showlegend": true,
         "type": "scatter",
         "x": [
          16500000,
          25500000,
          17000000,
          12500000,
          20500000,
          18500000,
          18500000,
          12000000,
          15000000,
          17000000,
          14000000,
          11500000,
          10500000,
          12500000,
          12000000,
          10500000,
          8000000,
          10500000,
          12000000,
          6000000,
          7500000,
          5500000,
          5500000,
          7000000,
          4600000,
          6500000,
          850000,
          1300000
         ],
         "xaxis": "x",
         "y": [
          84,
          83,
          82,
          82,
          81,
          81,
          80,
          80,
          79,
          79,
          78,
          77,
          77,
          77,
          77,
          77,
          76,
          76,
          76,
          76,
          75,
          75,
          74,
          74,
          74,
          72,
          67,
          67
         ],
         "yaxis": "y"
        },
        {
         "hoverlabel": {
          "namelength": 0
         },
         "hovertemplate": "Club=SC Braga<br>Clean_Value=%{x}<br>Overall=%{y}",
         "legendgroup": "SC Braga",
         "marker": {
          "color": "#ab63fa",
          "symbol": "circle"
         },
         "mode": "markers",
         "name": "SC Braga",
         "showlegend": true,
         "type": "scatter",
         "x": [
          12000000,
          17000000,
          13000000,
          10500000,
          7500000,
          12500000,
          9500000,
          9500000,
          11000000,
          10500000,
          7000000,
          8000000,
          6000000,
          4000000,
          8500000,
          7000000,
          6000000,
          5000000,
          4600000,
          6500000,
          7000000,
          4900000,
          4500000,
          4300000,
          4099999.9999999995,
          2600000,
          1900000,
          925000
         ],
         "xaxis": "x",
         "y": [
          80,
          79,
          78,
          78,
          78,
          78,
          78,
          77,
          77,
          77,
          75,
          75,
          75,
          75,
          75,
          75,
          74,
          74,
          74,
          74,
          73,
          73,
          73,
          72,
          72,
          71,
          69,
          66
         ],
         "yaxis": "y"
        },
        {
         "hoverlabel": {
          "namelength": 0
         },
         "hovertemplate": "Club=Vitória Guimarães<br>Clean_Value=%{x}<br>Overall=%{y}",
         "legendgroup": "Vitória Guimarães",
         "marker": {
          "color": "#FFA15A",
          "symbol": "circle"
         },
         "mode": "markers",
         "name": "Vitória Guimarães",
         "showlegend": true,
         "type": "scatter",
         "x": [
          2100000,
          9000000,
          8500000,
          10000000,
          5500000,
          6500000,
          8500000,
          8500000,
          5500000,
          6000000,
          7500000,
          7000000,
          4300000,
          4500000,
          3900000,
          2500000,
          3300000,
          4099999.9999999995,
          2500000,
          3600000,
          3200000,
          3200000,
          2000000,
          2800000,
          2900000,
          2600000,
          1500000,
          1400000,
          700000,
          775000
         ],
         "xaxis": "x",
         "y": [
          77,
          77,
          76,
          76,
          75,
          75,
          75,
          75,
          74,
          74,
          74,
          74,
          73,
          73,
          72,
          72,
          72,
          72,
          71,
          71,
          71,
          71,
          70,
          70,
          70,
          70,
          69,
          69,
          67,
          65
         ],
         "yaxis": "y"
        }
       ],
       "layout": {
        "legend": {
         "title": {
          "text": "Club"
         },
         "tracegroupgap": 0
        },
        "margin": {
         "t": 60
        },
        "template": {
         "data": {
          "bar": [
           {
            "error_x": {
             "color": "#2a3f5f"
            },
            "error_y": {
             "color": "#2a3f5f"
            },
            "marker": {
             "line": {
              "color": "#E5ECF6",
              "width": 0.5
             }
            },
            "type": "bar"
           }
          ],
          "barpolar": [
           {
            "marker": {
             "line": {
              "color": "#E5ECF6",
              "width": 0.5
             }
            },
            "type": "barpolar"
           }
          ],
          "carpet": [
           {
            "aaxis": {
             "endlinecolor": "#2a3f5f",
             "gridcolor": "white",
             "linecolor": "white",
             "minorgridcolor": "white",
             "startlinecolor": "#2a3f5f"
            },
            "baxis": {
             "endlinecolor": "#2a3f5f",
             "gridcolor": "white",
             "linecolor": "white",
             "minorgridcolor": "white",
             "startlinecolor": "#2a3f5f"
            },
            "type": "carpet"
           }
          ],
          "choropleth": [
           {
            "colorbar": {
             "outlinewidth": 0,
             "ticks": ""
            },
            "type": "choropleth"
           }
          ],
          "contour": [
           {
            "colorbar": {
             "outlinewidth": 0,
             "ticks": ""
            },
            "colorscale": [
             [
              0,
              "#0d0887"
             ],
             [
              0.1111111111111111,
              "#46039f"
             ],
             [
              0.2222222222222222,
              "#7201a8"
             ],
             [
              0.3333333333333333,
              "#9c179e"
             ],
             [
              0.4444444444444444,
              "#bd3786"
             ],
             [
              0.5555555555555556,
              "#d8576b"
             ],
             [
              0.6666666666666666,
              "#ed7953"
             ],
             [
              0.7777777777777778,
              "#fb9f3a"
             ],
             [
              0.8888888888888888,
              "#fdca26"
             ],
             [
              1,
              "#f0f921"
             ]
            ],
            "type": "contour"
           }
          ],
          "contourcarpet": [
           {
            "colorbar": {
             "outlinewidth": 0,
             "ticks": ""
            },
            "type": "contourcarpet"
           }
          ],
          "heatmap": [
           {
            "colorbar": {
             "outlinewidth": 0,
             "ticks": ""
            },
            "colorscale": [
             [
              0,
              "#0d0887"
             ],
             [
              0.1111111111111111,
              "#46039f"
             ],
             [
              0.2222222222222222,
              "#7201a8"
             ],
             [
              0.3333333333333333,
              "#9c179e"
             ],
             [
              0.4444444444444444,
              "#bd3786"
             ],
             [
              0.5555555555555556,
              "#d8576b"
             ],
             [
              0.6666666666666666,
              "#ed7953"
             ],
             [
              0.7777777777777778,
              "#fb9f3a"
             ],
             [
              0.8888888888888888,
              "#fdca26"
             ],
             [
              1,
              "#f0f921"
             ]
            ],
            "type": "heatmap"
           }
          ],
          "heatmapgl": [
           {
            "colorbar": {
             "outlinewidth": 0,
             "ticks": ""
            },
            "colorscale": [
             [
              0,
              "#0d0887"
             ],
             [
              0.1111111111111111,
              "#46039f"
             ],
             [
              0.2222222222222222,
              "#7201a8"
             ],
             [
              0.3333333333333333,
              "#9c179e"
             ],
             [
              0.4444444444444444,
              "#bd3786"
             ],
             [
              0.5555555555555556,
              "#d8576b"
             ],
             [
              0.6666666666666666,
              "#ed7953"
             ],
             [
              0.7777777777777778,
              "#fb9f3a"
             ],
             [
              0.8888888888888888,
              "#fdca26"
             ],
             [
              1,
              "#f0f921"
             ]
            ],
            "type": "heatmapgl"
           }
          ],
          "histogram": [
           {
            "marker": {
             "colorbar": {
              "outlinewidth": 0,
              "ticks": ""
             }
            },
            "type": "histogram"
           }
          ],
          "histogram2d": [
           {
            "colorbar": {
             "outlinewidth": 0,
             "ticks": ""
            },
            "colorscale": [
             [
              0,
              "#0d0887"
             ],
             [
              0.1111111111111111,
              "#46039f"
             ],
             [
              0.2222222222222222,
              "#7201a8"
             ],
             [
              0.3333333333333333,
              "#9c179e"
             ],
             [
              0.4444444444444444,
              "#bd3786"
             ],
             [
              0.5555555555555556,
              "#d8576b"
             ],
             [
              0.6666666666666666,
              "#ed7953"
             ],
             [
              0.7777777777777778,
              "#fb9f3a"
             ],
             [
              0.8888888888888888,
              "#fdca26"
             ],
             [
              1,
              "#f0f921"
             ]
            ],
            "type": "histogram2d"
           }
          ],
          "histogram2dcontour": [
           {
            "colorbar": {
             "outlinewidth": 0,
             "ticks": ""
            },
            "colorscale": [
             [
              0,
              "#0d0887"
             ],
             [
              0.1111111111111111,
              "#46039f"
             ],
             [
              0.2222222222222222,
              "#7201a8"
             ],
             [
              0.3333333333333333,
              "#9c179e"
             ],
             [
              0.4444444444444444,
              "#bd3786"
             ],
             [
              0.5555555555555556,
              "#d8576b"
             ],
             [
              0.6666666666666666,
              "#ed7953"
             ],
             [
              0.7777777777777778,
              "#fb9f3a"
             ],
             [
              0.8888888888888888,
              "#fdca26"
             ],
             [
              1,
              "#f0f921"
             ]
            ],
            "type": "histogram2dcontour"
           }
          ],
          "mesh3d": [
           {
            "colorbar": {
             "outlinewidth": 0,
             "ticks": ""
            },
            "type": "mesh3d"
           }
          ],
          "parcoords": [
           {
            "line": {
             "colorbar": {
              "outlinewidth": 0,
              "ticks": ""
             }
            },
            "type": "parcoords"
           }
          ],
          "pie": [
           {
            "automargin": true,
            "type": "pie"
           }
          ],
          "scatter": [
           {
            "marker": {
             "colorbar": {
              "outlinewidth": 0,
              "ticks": ""
             }
            },
            "type": "scatter"
           }
          ],
          "scatter3d": [
           {
            "line": {
             "colorbar": {
              "outlinewidth": 0,
              "ticks": ""
             }
            },
            "marker": {
             "colorbar": {
              "outlinewidth": 0,
              "ticks": ""
             }
            },
            "type": "scatter3d"
           }
          ],
          "scattercarpet": [
           {
            "marker": {
             "colorbar": {
              "outlinewidth": 0,
              "ticks": ""
             }
            },
            "type": "scattercarpet"
           }
          ],
          "scattergeo": [
           {
            "marker": {
             "colorbar": {
              "outlinewidth": 0,
              "ticks": ""
             }
            },
            "type": "scattergeo"
           }
          ],
          "scattergl": [
           {
            "marker": {
             "colorbar": {
              "outlinewidth": 0,
              "ticks": ""
             }
            },
            "type": "scattergl"
           }
          ],
          "scattermapbox": [
           {
            "marker": {
             "colorbar": {
              "outlinewidth": 0,
              "ticks": ""
             }
            },
            "type": "scattermapbox"
           }
          ],
          "scatterpolar": [
           {
            "marker": {
             "colorbar": {
              "outlinewidth": 0,
              "ticks": ""
             }
            },
            "type": "scatterpolar"
           }
          ],
          "scatterpolargl": [
           {
            "marker": {
             "colorbar": {
              "outlinewidth": 0,
              "ticks": ""
             }
            },
            "type": "scatterpolargl"
           }
          ],
          "scatterternary": [
           {
            "marker": {
             "colorbar": {
              "outlinewidth": 0,
              "ticks": ""
             }
            },
            "type": "scatterternary"
           }
          ],
          "surface": [
           {
            "colorbar": {
             "outlinewidth": 0,
             "ticks": ""
            },
            "colorscale": [
             [
              0,
              "#0d0887"
             ],
             [
              0.1111111111111111,
              "#46039f"
             ],
             [
              0.2222222222222222,
              "#7201a8"
             ],
             [
              0.3333333333333333,
              "#9c179e"
             ],
             [
              0.4444444444444444,
              "#bd3786"
             ],
             [
              0.5555555555555556,
              "#d8576b"
             ],
             [
              0.6666666666666666,
              "#ed7953"
             ],
             [
              0.7777777777777778,
              "#fb9f3a"
             ],
             [
              0.8888888888888888,
              "#fdca26"
             ],
             [
              1,
              "#f0f921"
             ]
            ],
            "type": "surface"
           }
          ],
          "table": [
           {
            "cells": {
             "fill": {
              "color": "#EBF0F8"
             },
             "line": {
              "color": "white"
             }
            },
            "header": {
             "fill": {
              "color": "#C8D4E3"
             },
             "line": {
              "color": "white"
             }
            },
            "type": "table"
           }
          ]
         },
         "layout": {
          "annotationdefaults": {
           "arrowcolor": "#2a3f5f",
           "arrowhead": 0,
           "arrowwidth": 1
          },
          "coloraxis": {
           "colorbar": {
            "outlinewidth": 0,
            "ticks": ""
           }
          },
          "colorscale": {
           "diverging": [
            [
             0,
             "#8e0152"
            ],
            [
             0.1,
             "#c51b7d"
            ],
            [
             0.2,
             "#de77ae"
            ],
            [
             0.3,
             "#f1b6da"
            ],
            [
             0.4,
             "#fde0ef"
            ],
            [
             0.5,
             "#f7f7f7"
            ],
            [
             0.6,
             "#e6f5d0"
            ],
            [
             0.7,
             "#b8e186"
            ],
            [
             0.8,
             "#7fbc41"
            ],
            [
             0.9,
             "#4d9221"
            ],
            [
             1,
             "#276419"
            ]
           ],
           "sequential": [
            [
             0,
             "#0d0887"
            ],
            [
             0.1111111111111111,
             "#46039f"
            ],
            [
             0.2222222222222222,
             "#7201a8"
            ],
            [
             0.3333333333333333,
             "#9c179e"
            ],
            [
             0.4444444444444444,
             "#bd3786"
            ],
            [
             0.5555555555555556,
             "#d8576b"
            ],
            [
             0.6666666666666666,
             "#ed7953"
            ],
            [
             0.7777777777777778,
             "#fb9f3a"
            ],
            [
             0.8888888888888888,
             "#fdca26"
            ],
            [
             1,
             "#f0f921"
            ]
           ],
           "sequentialminus": [
            [
             0,
             "#0d0887"
            ],
            [
             0.1111111111111111,
             "#46039f"
            ],
            [
             0.2222222222222222,
             "#7201a8"
            ],
            [
             0.3333333333333333,
             "#9c179e"
            ],
            [
             0.4444444444444444,
             "#bd3786"
            ],
            [
             0.5555555555555556,
             "#d8576b"
            ],
            [
             0.6666666666666666,
             "#ed7953"
            ],
            [
             0.7777777777777778,
             "#fb9f3a"
            ],
            [
             0.8888888888888888,
             "#fdca26"
            ],
            [
             1,
             "#f0f921"
            ]
           ]
          },
          "colorway": [
           "#636efa",
           "#EF553B",
           "#00cc96",
           "#ab63fa",
           "#FFA15A",
           "#19d3f3",
           "#FF6692",
           "#B6E880",
           "#FF97FF",
           "#FECB52"
          ],
          "font": {
           "color": "#2a3f5f"
          },
          "geo": {
           "bgcolor": "white",
           "lakecolor": "white",
           "landcolor": "#E5ECF6",
           "showlakes": true,
           "showland": true,
           "subunitcolor": "white"
          },
          "hoverlabel": {
           "align": "left"
          },
          "hovermode": "closest",
          "mapbox": {
           "style": "light"
          },
          "paper_bgcolor": "white",
          "plot_bgcolor": "#E5ECF6",
          "polar": {
           "angularaxis": {
            "gridcolor": "white",
            "linecolor": "white",
            "ticks": ""
           },
           "bgcolor": "#E5ECF6",
           "radialaxis": {
            "gridcolor": "white",
            "linecolor": "white",
            "ticks": ""
           }
          },
          "scene": {
           "xaxis": {
            "backgroundcolor": "#E5ECF6",
            "gridcolor": "white",
            "gridwidth": 2,
            "linecolor": "white",
            "showbackground": true,
            "ticks": "",
            "zerolinecolor": "white"
           },
           "yaxis": {
            "backgroundcolor": "#E5ECF6",
            "gridcolor": "white",
            "gridwidth": 2,
            "linecolor": "white",
            "showbackground": true,
            "ticks": "",
            "zerolinecolor": "white"
           },
           "zaxis": {
            "backgroundcolor": "#E5ECF6",
            "gridcolor": "white",
            "gridwidth": 2,
            "linecolor": "white",
            "showbackground": true,
            "ticks": "",
            "zerolinecolor": "white"
           }
          },
          "shapedefaults": {
           "line": {
            "color": "#2a3f5f"
           }
          },
          "ternary": {
           "aaxis": {
            "gridcolor": "white",
            "linecolor": "white",
            "ticks": ""
           },
           "baxis": {
            "gridcolor": "white",
            "linecolor": "white",
            "ticks": ""
           },
           "bgcolor": "#E5ECF6",
           "caxis": {
            "gridcolor": "white",
            "linecolor": "white",
            "ticks": ""
           }
          },
          "title": {
           "x": 0.05
          },
          "xaxis": {
           "automargin": true,
           "gridcolor": "white",
           "linecolor": "white",
           "ticks": "",
           "title": {
            "standoff": 15
           },
           "zerolinecolor": "white",
           "zerolinewidth": 2
          },
          "yaxis": {
           "automargin": true,
           "gridcolor": "white",
           "linecolor": "white",
           "ticks": "",
           "title": {
            "standoff": 15
           },
           "zerolinecolor": "white",
           "zerolinewidth": 2
          }
         }
        },
        "title": {
         "text": "Fifa Rating vs Value",
         "x": 0.5
        },
        "xaxis": {
         "anchor": "y",
         "domain": [
          0,
          1
         ],
         "title": {
          "text": "Clean_Value"
         }
        },
        "yaxis": {
         "anchor": "x",
         "domain": [
          0,
          1
         ],
         "title": {
          "text": "Overall"
         }
        }
       }
      },
      "text/html": [
       "<div>\n",
       "        \n",
       "        \n",
       "            <div id=\"9a8257e5-a51d-45d3-8b00-045a256b7078\" class=\"plotly-graph-div\" style=\"height:525px; width:100%;\"></div>\n",
       "            <script type=\"text/javascript\">\n",
       "                require([\"plotly\"], function(Plotly) {\n",
       "                    window.PLOTLYENV=window.PLOTLYENV || {};\n",
       "                    \n",
       "                if (document.getElementById(\"9a8257e5-a51d-45d3-8b00-045a256b7078\")) {\n",
       "                    Plotly.newPlot(\n",
       "                        '9a8257e5-a51d-45d3-8b00-045a256b7078',\n",
       "                        [{\"hoverlabel\": {\"namelength\": 0}, \"hovertemplate\": \"Club=FC Porto<br>Clean_Value=%{x}<br>Overall=%{y}\", \"legendgroup\": \"FC Porto\", \"marker\": {\"color\": \"#636efa\", \"symbol\": \"circle\"}, \"mode\": \"markers\", \"name\": \"FC Porto\", \"showlegend\": true, \"type\": \"scatter\", \"x\": [39000000.0, 32000000.0, 20000000.0, 27000000.0, 1500000.0, 21500000.0, 17500000.0, 16000000.0, 18000000.0, 17500000.0, 15500000.0, 14000000.0, 12000000.0, 13500000.0, 2500000.0, 8500000.0, 7000000.0, 7500000.0, 8000000.0, 9500000.0, 6500000.0, 7000000.0, 3000000.0, 4099999.9999999995, 3400000.0, 1300000.0, 1200000.0, 1100000.0], \"xaxis\": \"x\", \"y\": [85, 84, 83, 83, 82, 81, 81, 80, 80, 79, 79, 78, 78, 78, 77, 77, 75, 75, 74, 74, 74, 74, 73, 72, 71, 67, 67, 66], \"yaxis\": \"y\"}, {\"hoverlabel\": {\"namelength\": 0}, \"hovertemplate\": \"Club=Sporting CP<br>Clean_Value=%{x}<br>Overall=%{y}\", \"legendgroup\": \"Sporting CP\", \"marker\": {\"color\": \"#EF553B\", \"symbol\": \"circle\"}, \"mode\": \"markers\", \"name\": \"Sporting CP\", \"showlegend\": true, \"type\": \"scatter\", \"x\": [40500000.0, 26000000.0, 21000000.0, 12500000.0, 15500000.0, 5500000.0, 12500000.0, 18000000.0, 14500000.0, 10500000.0, 7000000.0, 6500000.0, 7000000.0, 12500000.0, 6000000.0, 7500000.0, 7500000.0, 5000000.0, 7000000.0, 8000000.0, 9000000.0, 12000000.0, 6000000.0, 5500000.0, 2800000.0, 5500000.0, 3900000.0, 2300000.0, 950000.0, 775000.0], \"xaxis\": \"x\", \"y\": [84, 83, 82, 82, 81, 81, 80, 79, 79, 78, 77, 77, 77, 76, 76, 76, 76, 75, 75, 75, 75, 75, 74, 74, 74, 73, 72, 70, 65, 63], \"yaxis\": \"y\"}, {\"hoverlabel\": {\"namelength\": 0}, \"hovertemplate\": \"Club=SL Benfica<br>Clean_Value=%{x}<br>Overall=%{y}\", \"legendgroup\": \"SL Benfica\", \"marker\": {\"color\": \"#00cc96\", \"symbol\": \"circle\"}, \"mode\": \"markers\", \"name\": \"SL Benfica\", \"showlegend\": true, \"type\": \"scatter\", \"x\": [16500000.0, 25500000.0, 17000000.0, 12500000.0, 20500000.0, 18500000.0, 18500000.0, 12000000.0, 15000000.0, 17000000.0, 14000000.0, 11500000.0, 10500000.0, 12500000.0, 12000000.0, 10500000.0, 8000000.0, 10500000.0, 12000000.0, 6000000.0, 7500000.0, 5500000.0, 5500000.0, 7000000.0, 4600000.0, 6500000.0, 850000.0, 1300000.0], \"xaxis\": \"x\", \"y\": [84, 83, 82, 82, 81, 81, 80, 80, 79, 79, 78, 77, 77, 77, 77, 77, 76, 76, 76, 76, 75, 75, 74, 74, 74, 72, 67, 67], \"yaxis\": \"y\"}, {\"hoverlabel\": {\"namelength\": 0}, \"hovertemplate\": \"Club=SC Braga<br>Clean_Value=%{x}<br>Overall=%{y}\", \"legendgroup\": \"SC Braga\", \"marker\": {\"color\": \"#ab63fa\", \"symbol\": \"circle\"}, \"mode\": \"markers\", \"name\": \"SC Braga\", \"showlegend\": true, \"type\": \"scatter\", \"x\": [12000000.0, 17000000.0, 13000000.0, 10500000.0, 7500000.0, 12500000.0, 9500000.0, 9500000.0, 11000000.0, 10500000.0, 7000000.0, 8000000.0, 6000000.0, 4000000.0, 8500000.0, 7000000.0, 6000000.0, 5000000.0, 4600000.0, 6500000.0, 7000000.0, 4900000.0, 4500000.0, 4300000.0, 4099999.9999999995, 2600000.0, 1900000.0, 925000.0], \"xaxis\": \"x\", \"y\": [80, 79, 78, 78, 78, 78, 78, 77, 77, 77, 75, 75, 75, 75, 75, 75, 74, 74, 74, 74, 73, 73, 73, 72, 72, 71, 69, 66], \"yaxis\": \"y\"}, {\"hoverlabel\": {\"namelength\": 0}, \"hovertemplate\": \"Club=Vit\\u00f3ria Guimar\\u00e3es<br>Clean_Value=%{x}<br>Overall=%{y}\", \"legendgroup\": \"Vit\\u00f3ria Guimar\\u00e3es\", \"marker\": {\"color\": \"#FFA15A\", \"symbol\": \"circle\"}, \"mode\": \"markers\", \"name\": \"Vit\\u00f3ria Guimar\\u00e3es\", \"showlegend\": true, \"type\": \"scatter\", \"x\": [2100000.0, 9000000.0, 8500000.0, 10000000.0, 5500000.0, 6500000.0, 8500000.0, 8500000.0, 5500000.0, 6000000.0, 7500000.0, 7000000.0, 4300000.0, 4500000.0, 3900000.0, 2500000.0, 3300000.0, 4099999.9999999995, 2500000.0, 3600000.0, 3200000.0, 3200000.0, 2000000.0, 2800000.0, 2900000.0, 2600000.0, 1500000.0, 1400000.0, 700000.0, 775000.0], \"xaxis\": \"x\", \"y\": [77, 77, 76, 76, 75, 75, 75, 75, 74, 74, 74, 74, 73, 73, 72, 72, 72, 72, 71, 71, 71, 71, 70, 70, 70, 70, 69, 69, 67, 65], \"yaxis\": \"y\"}],\n",
       "                        {\"legend\": {\"title\": {\"text\": \"Club\"}, \"tracegroupgap\": 0}, \"margin\": {\"t\": 60}, \"template\": {\"data\": {\"bar\": [{\"error_x\": {\"color\": \"#2a3f5f\"}, \"error_y\": {\"color\": \"#2a3f5f\"}, \"marker\": {\"line\": {\"color\": \"#E5ECF6\", \"width\": 0.5}}, \"type\": \"bar\"}], \"barpolar\": [{\"marker\": {\"line\": {\"color\": \"#E5ECF6\", \"width\": 0.5}}, \"type\": \"barpolar\"}], \"carpet\": [{\"aaxis\": {\"endlinecolor\": \"#2a3f5f\", \"gridcolor\": \"white\", \"linecolor\": \"white\", \"minorgridcolor\": \"white\", \"startlinecolor\": \"#2a3f5f\"}, \"baxis\": {\"endlinecolor\": \"#2a3f5f\", \"gridcolor\": \"white\", \"linecolor\": \"white\", \"minorgridcolor\": \"white\", \"startlinecolor\": \"#2a3f5f\"}, \"type\": \"carpet\"}], \"choropleth\": [{\"colorbar\": {\"outlinewidth\": 0, \"ticks\": \"\"}, \"type\": \"choropleth\"}], \"contour\": [{\"colorbar\": {\"outlinewidth\": 0, \"ticks\": \"\"}, \"colorscale\": [[0.0, \"#0d0887\"], [0.1111111111111111, \"#46039f\"], [0.2222222222222222, \"#7201a8\"], [0.3333333333333333, \"#9c179e\"], [0.4444444444444444, \"#bd3786\"], [0.5555555555555556, \"#d8576b\"], [0.6666666666666666, \"#ed7953\"], [0.7777777777777778, \"#fb9f3a\"], [0.8888888888888888, \"#fdca26\"], [1.0, \"#f0f921\"]], \"type\": \"contour\"}], \"contourcarpet\": [{\"colorbar\": {\"outlinewidth\": 0, \"ticks\": \"\"}, \"type\": \"contourcarpet\"}], \"heatmap\": [{\"colorbar\": {\"outlinewidth\": 0, \"ticks\": \"\"}, \"colorscale\": [[0.0, \"#0d0887\"], [0.1111111111111111, \"#46039f\"], [0.2222222222222222, \"#7201a8\"], [0.3333333333333333, \"#9c179e\"], [0.4444444444444444, \"#bd3786\"], [0.5555555555555556, \"#d8576b\"], [0.6666666666666666, \"#ed7953\"], [0.7777777777777778, \"#fb9f3a\"], [0.8888888888888888, \"#fdca26\"], [1.0, \"#f0f921\"]], \"type\": \"heatmap\"}], \"heatmapgl\": [{\"colorbar\": {\"outlinewidth\": 0, \"ticks\": \"\"}, \"colorscale\": [[0.0, \"#0d0887\"], [0.1111111111111111, \"#46039f\"], [0.2222222222222222, \"#7201a8\"], [0.3333333333333333, \"#9c179e\"], [0.4444444444444444, \"#bd3786\"], [0.5555555555555556, \"#d8576b\"], [0.6666666666666666, \"#ed7953\"], [0.7777777777777778, \"#fb9f3a\"], [0.8888888888888888, \"#fdca26\"], [1.0, \"#f0f921\"]], \"type\": \"heatmapgl\"}], \"histogram\": [{\"marker\": {\"colorbar\": {\"outlinewidth\": 0, \"ticks\": \"\"}}, \"type\": \"histogram\"}], \"histogram2d\": [{\"colorbar\": {\"outlinewidth\": 0, \"ticks\": \"\"}, \"colorscale\": [[0.0, \"#0d0887\"], [0.1111111111111111, \"#46039f\"], [0.2222222222222222, \"#7201a8\"], [0.3333333333333333, \"#9c179e\"], [0.4444444444444444, \"#bd3786\"], [0.5555555555555556, \"#d8576b\"], [0.6666666666666666, \"#ed7953\"], [0.7777777777777778, \"#fb9f3a\"], [0.8888888888888888, \"#fdca26\"], [1.0, \"#f0f921\"]], \"type\": \"histogram2d\"}], \"histogram2dcontour\": [{\"colorbar\": {\"outlinewidth\": 0, \"ticks\": \"\"}, \"colorscale\": [[0.0, \"#0d0887\"], [0.1111111111111111, \"#46039f\"], [0.2222222222222222, \"#7201a8\"], [0.3333333333333333, \"#9c179e\"], [0.4444444444444444, \"#bd3786\"], [0.5555555555555556, \"#d8576b\"], [0.6666666666666666, \"#ed7953\"], [0.7777777777777778, \"#fb9f3a\"], [0.8888888888888888, \"#fdca26\"], [1.0, \"#f0f921\"]], \"type\": \"histogram2dcontour\"}], \"mesh3d\": [{\"colorbar\": {\"outlinewidth\": 0, \"ticks\": \"\"}, \"type\": \"mesh3d\"}], \"parcoords\": [{\"line\": {\"colorbar\": {\"outlinewidth\": 0, \"ticks\": \"\"}}, \"type\": \"parcoords\"}], \"pie\": [{\"automargin\": true, \"type\": \"pie\"}], \"scatter\": [{\"marker\": {\"colorbar\": {\"outlinewidth\": 0, \"ticks\": \"\"}}, \"type\": \"scatter\"}], \"scatter3d\": [{\"line\": {\"colorbar\": {\"outlinewidth\": 0, \"ticks\": \"\"}}, \"marker\": {\"colorbar\": {\"outlinewidth\": 0, \"ticks\": \"\"}}, \"type\": \"scatter3d\"}], \"scattercarpet\": [{\"marker\": {\"colorbar\": {\"outlinewidth\": 0, \"ticks\": \"\"}}, \"type\": \"scattercarpet\"}], \"scattergeo\": [{\"marker\": {\"colorbar\": {\"outlinewidth\": 0, \"ticks\": \"\"}}, \"type\": \"scattergeo\"}], \"scattergl\": [{\"marker\": {\"colorbar\": {\"outlinewidth\": 0, \"ticks\": \"\"}}, \"type\": \"scattergl\"}], \"scattermapbox\": [{\"marker\": {\"colorbar\": {\"outlinewidth\": 0, \"ticks\": \"\"}}, \"type\": \"scattermapbox\"}], \"scatterpolar\": [{\"marker\": {\"colorbar\": {\"outlinewidth\": 0, \"ticks\": \"\"}}, \"type\": \"scatterpolar\"}], \"scatterpolargl\": [{\"marker\": {\"colorbar\": {\"outlinewidth\": 0, \"ticks\": \"\"}}, \"type\": \"scatterpolargl\"}], \"scatterternary\": [{\"marker\": {\"colorbar\": {\"outlinewidth\": 0, \"ticks\": \"\"}}, \"type\": \"scatterternary\"}], \"surface\": [{\"colorbar\": {\"outlinewidth\": 0, \"ticks\": \"\"}, \"colorscale\": [[0.0, \"#0d0887\"], [0.1111111111111111, \"#46039f\"], [0.2222222222222222, \"#7201a8\"], [0.3333333333333333, \"#9c179e\"], [0.4444444444444444, \"#bd3786\"], [0.5555555555555556, \"#d8576b\"], [0.6666666666666666, \"#ed7953\"], [0.7777777777777778, \"#fb9f3a\"], [0.8888888888888888, \"#fdca26\"], [1.0, \"#f0f921\"]], \"type\": \"surface\"}], \"table\": [{\"cells\": {\"fill\": {\"color\": \"#EBF0F8\"}, \"line\": {\"color\": \"white\"}}, \"header\": {\"fill\": {\"color\": \"#C8D4E3\"}, \"line\": {\"color\": \"white\"}}, \"type\": \"table\"}]}, \"layout\": {\"annotationdefaults\": {\"arrowcolor\": \"#2a3f5f\", \"arrowhead\": 0, \"arrowwidth\": 1}, \"coloraxis\": {\"colorbar\": {\"outlinewidth\": 0, \"ticks\": \"\"}}, \"colorscale\": {\"diverging\": [[0, \"#8e0152\"], [0.1, \"#c51b7d\"], [0.2, \"#de77ae\"], [0.3, \"#f1b6da\"], [0.4, \"#fde0ef\"], [0.5, \"#f7f7f7\"], [0.6, \"#e6f5d0\"], [0.7, \"#b8e186\"], [0.8, \"#7fbc41\"], [0.9, \"#4d9221\"], [1, \"#276419\"]], \"sequential\": [[0.0, \"#0d0887\"], [0.1111111111111111, \"#46039f\"], [0.2222222222222222, \"#7201a8\"], [0.3333333333333333, \"#9c179e\"], [0.4444444444444444, \"#bd3786\"], [0.5555555555555556, \"#d8576b\"], [0.6666666666666666, \"#ed7953\"], [0.7777777777777778, \"#fb9f3a\"], [0.8888888888888888, \"#fdca26\"], [1.0, \"#f0f921\"]], \"sequentialminus\": [[0.0, \"#0d0887\"], [0.1111111111111111, \"#46039f\"], [0.2222222222222222, \"#7201a8\"], [0.3333333333333333, \"#9c179e\"], [0.4444444444444444, \"#bd3786\"], [0.5555555555555556, \"#d8576b\"], [0.6666666666666666, \"#ed7953\"], [0.7777777777777778, \"#fb9f3a\"], [0.8888888888888888, \"#fdca26\"], [1.0, \"#f0f921\"]]}, \"colorway\": [\"#636efa\", \"#EF553B\", \"#00cc96\", \"#ab63fa\", \"#FFA15A\", \"#19d3f3\", \"#FF6692\", \"#B6E880\", \"#FF97FF\", \"#FECB52\"], \"font\": {\"color\": \"#2a3f5f\"}, \"geo\": {\"bgcolor\": \"white\", \"lakecolor\": \"white\", \"landcolor\": \"#E5ECF6\", \"showlakes\": true, \"showland\": true, \"subunitcolor\": \"white\"}, \"hoverlabel\": {\"align\": \"left\"}, \"hovermode\": \"closest\", \"mapbox\": {\"style\": \"light\"}, \"paper_bgcolor\": \"white\", \"plot_bgcolor\": \"#E5ECF6\", \"polar\": {\"angularaxis\": {\"gridcolor\": \"white\", \"linecolor\": \"white\", \"ticks\": \"\"}, \"bgcolor\": \"#E5ECF6\", \"radialaxis\": {\"gridcolor\": \"white\", \"linecolor\": \"white\", \"ticks\": \"\"}}, \"scene\": {\"xaxis\": {\"backgroundcolor\": \"#E5ECF6\", \"gridcolor\": \"white\", \"gridwidth\": 2, \"linecolor\": \"white\", \"showbackground\": true, \"ticks\": \"\", \"zerolinecolor\": \"white\"}, \"yaxis\": {\"backgroundcolor\": \"#E5ECF6\", \"gridcolor\": \"white\", \"gridwidth\": 2, \"linecolor\": \"white\", \"showbackground\": true, \"ticks\": \"\", \"zerolinecolor\": \"white\"}, \"zaxis\": {\"backgroundcolor\": \"#E5ECF6\", \"gridcolor\": \"white\", \"gridwidth\": 2, \"linecolor\": \"white\", \"showbackground\": true, \"ticks\": \"\", \"zerolinecolor\": \"white\"}}, \"shapedefaults\": {\"line\": {\"color\": \"#2a3f5f\"}}, \"ternary\": {\"aaxis\": {\"gridcolor\": \"white\", \"linecolor\": \"white\", \"ticks\": \"\"}, \"baxis\": {\"gridcolor\": \"white\", \"linecolor\": \"white\", \"ticks\": \"\"}, \"bgcolor\": \"#E5ECF6\", \"caxis\": {\"gridcolor\": \"white\", \"linecolor\": \"white\", \"ticks\": \"\"}}, \"title\": {\"x\": 0.05}, \"xaxis\": {\"automargin\": true, \"gridcolor\": \"white\", \"linecolor\": \"white\", \"ticks\": \"\", \"title\": {\"standoff\": 15}, \"zerolinecolor\": \"white\", \"zerolinewidth\": 2}, \"yaxis\": {\"automargin\": true, \"gridcolor\": \"white\", \"linecolor\": \"white\", \"ticks\": \"\", \"title\": {\"standoff\": 15}, \"zerolinecolor\": \"white\", \"zerolinewidth\": 2}}}, \"title\": {\"text\": \"Fifa Rating vs Value\", \"x\": 0.5}, \"xaxis\": {\"anchor\": \"y\", \"domain\": [0.0, 1.0], \"title\": {\"text\": \"Clean_Value\"}}, \"yaxis\": {\"anchor\": \"x\", \"domain\": [0.0, 1.0], \"title\": {\"text\": \"Overall\"}}},\n",
       "                        {\"responsive\": true}\n",
       "                    ).then(function(){\n",
       "                            \n",
       "var gd = document.getElementById('9a8257e5-a51d-45d3-8b00-045a256b7078');\n",
       "var x = new MutationObserver(function (mutations, observer) {{\n",
       "        var display = window.getComputedStyle(gd).display;\n",
       "        if (!display || display === 'none') {{\n",
       "            console.log([gd, 'removed!']);\n",
       "            Plotly.purge(gd);\n",
       "            observer.disconnect();\n",
       "        }}\n",
       "}});\n",
       "\n",
       "// Listen for the removal of the full notebook cells\n",
       "var notebookContainer = gd.closest('#notebook-container');\n",
       "if (notebookContainer) {{\n",
       "    x.observe(notebookContainer, {childList: true});\n",
       "}}\n",
       "\n",
       "// Listen for the clearing of the current output cell\n",
       "var outputEl = gd.closest('.output');\n",
       "if (outputEl) {{\n",
       "    x.observe(outputEl, {childList: true});\n",
       "}}\n",
       "\n",
       "                        })\n",
       "                };\n",
       "                });\n",
       "            </script>\n",
       "        </div>"
      ]
     },
     "metadata": {},
     "output_type": "display_data"
    },
    {
     "data": {
      "text/plain": [
       "<Figure size 1440x432 with 0 Axes>"
      ]
     },
     "metadata": {},
     "output_type": "display_data"
    }
   ],
   "source": [
    "fig = px.scatter(primeira_liga_5, \n",
    "                 x=primeira_liga_5['Clean_Value'], \n",
    "                 y=primeira_liga_5['Overall'], \n",
    "                 color=primeira_liga_5['Club'])\n",
    "\n",
    "fig.update_layout(title_text='Fifa Rating vs Value', title_x=0.5)\n",
    "plt.savefig(\"fifa_vs_value.png\")\n",
    "\n",
    "\n",
    "fig.show()"
   ]
  },
  {
   "cell_type": "code",
   "execution_count": 233,
   "metadata": {},
   "outputs": [
    {
     "name": "stdout",
     "output_type": "stream",
     "text": [
      "- The average wage of a player in Primeira Liga is 4.46K€\n",
      "- Fifa rating and the player wage have a correlation of 0.604\n"
     ]
    }
   ],
   "source": [
    "avg_wage= (primeira_liga['Clean_Wage'].mean()/100000).round(3)\n",
    "corr = primeira_liga_5['Clean_Wage'].corr(primeira_liga['Overall']).round(3)\n",
    "\n",
    "print(f'- The average wage of a player in Primeira Liga is {avg_value}K€')\n",
    "print(f'- Fifa rating and the player wage have a correlation of {corr}')"
   ]
  },
  {
   "cell_type": "markdown",
   "metadata": {},
   "source": [
    "- Stefano Sturaro (Sporting CP - Juventus), Jorge Moraes (FC Porto-AS Monaco), R. Bazoer (FC Porto-VfL Wolfsburg) and Ailton (SC Braga - VfB Stuttgart) are the **four highest outliers** due to being loaned from leagues outside of Portugal\n",
    "- Y. Brahimi (FC Porto) is the **highest paid owned player** in the Primeira Liga\n",
    "- Since most clubs have different salaries for players with the same Fifa rating, the correlation is **not as strong** as with their Value\n"
   ]
  },
  {
   "cell_type": "code",
   "execution_count": 274,
   "metadata": {},
   "outputs": [
    {
     "data": {
      "application/vnd.plotly.v1+json": {
       "config": {
        "plotlyServerURL": "https://plot.ly"
       },
       "data": [
        {
         "hoverlabel": {
          "namelength": 0
         },
         "hovertemplate": "Club=FC Porto<br>Clean_Wage=%{x}<br>Overall=%{y}",
         "legendgroup": "FC Porto",
         "marker": {
          "color": "#636efa",
          "symbol": "circle"
         },
         "mode": "markers",
         "name": "FC Porto",
         "showlegend": true,
         "type": "scatter",
         "x": [
          28000,
          22000,
          22000,
          21000,
          10000,
          18000,
          20000,
          19000,
          19000,
          15000,
          17000,
          10000,
          17000,
          13000,
          13000,
          16000,
          13000,
          10000,
          26000,
          5000,
          38000,
          8000,
          8000,
          6000,
          8000,
          4000,
          3000,
          1000
         ],
         "xaxis": "x",
         "y": [
          85,
          84,
          83,
          83,
          82,
          81,
          81,
          80,
          80,
          79,
          79,
          78,
          78,
          78,
          77,
          77,
          75,
          75,
          74,
          74,
          74,
          74,
          73,
          72,
          71,
          67,
          67,
          66
         ],
         "yaxis": "y"
        },
        {
         "hoverlabel": {
          "namelength": 0
         },
         "hovertemplate": "Club=Sporting CP<br>Clean_Wage=%{x}<br>Overall=%{y}",
         "legendgroup": "Sporting CP",
         "marker": {
          "color": "#EF553B",
          "symbol": "circle"
         },
         "mode": "markers",
         "name": "Sporting CP",
         "showlegend": true,
         "type": "scatter",
         "x": [
          22000,
          26000,
          19000,
          15000,
          19000,
          18000,
          16000,
          13000,
          17000,
          19000,
          14000,
          14000,
          11000,
          10000,
          13000,
          12000,
          15000,
          12000,
          14000,
          71000,
          11000,
          9000,
          10000,
          12000,
          9000,
          9000,
          6000,
          8000,
          1000,
          1000
         ],
         "xaxis": "x",
         "y": [
          84,
          83,
          82,
          82,
          81,
          81,
          80,
          79,
          79,
          78,
          77,
          77,
          77,
          76,
          76,
          76,
          76,
          75,
          75,
          75,
          75,
          75,
          74,
          74,
          74,
          73,
          72,
          70,
          65,
          63
         ],
         "yaxis": "y"
        },
        {
         "hoverlabel": {
          "namelength": 0
         },
         "hovertemplate": "Club=SL Benfica<br>Clean_Wage=%{x}<br>Overall=%{y}",
         "legendgroup": "SL Benfica",
         "marker": {
          "color": "#00cc96",
          "symbol": "circle"
         },
         "mode": "markers",
         "name": "SL Benfica",
         "showlegend": true,
         "type": "scatter",
         "x": [
          25000,
          22000,
          18000,
          17000,
          14000,
          19000,
          17000,
          15000,
          10000,
          15000,
          12000,
          11000,
          10000,
          11000,
          14000,
          14000,
          7000,
          8000,
          6000,
          12000,
          8000,
          14000,
          7000,
          12000,
          10000,
          5000,
          3000,
          1000
         ],
         "xaxis": "x",
         "y": [
          84,
          83,
          82,
          82,
          81,
          81,
          80,
          80,
          79,
          79,
          78,
          77,
          77,
          77,
          77,
          77,
          76,
          76,
          76,
          76,
          75,
          75,
          74,
          74,
          74,
          72,
          67,
          67
         ],
         "yaxis": "y"
        },
        {
         "hoverlabel": {
          "namelength": 0
         },
         "hovertemplate": "Club=SC Braga<br>Clean_Wage=%{x}<br>Overall=%{y}",
         "legendgroup": "SC Braga",
         "marker": {
          "color": "#ab63fa",
          "symbol": "circle"
         },
         "mode": "markers",
         "name": "SC Braga",
         "showlegend": true,
         "type": "scatter",
         "x": [
          19000,
          16000,
          15000,
          19000,
          15000,
          16000,
          12000,
          17000,
          16000,
          12000,
          13000,
          10000,
          14000,
          10000,
          12000,
          12000,
          13000,
          12000,
          12000,
          22000,
          9000,
          11000,
          10000,
          9000,
          9000,
          6000,
          6000,
          3000
         ],
         "xaxis": "x",
         "y": [
          80,
          79,
          78,
          78,
          78,
          78,
          78,
          77,
          77,
          77,
          75,
          75,
          75,
          75,
          75,
          75,
          74,
          74,
          74,
          74,
          73,
          73,
          73,
          72,
          72,
          71,
          69,
          66
         ],
         "yaxis": "y"
        },
        {
         "hoverlabel": {
          "namelength": 0
         },
         "hovertemplate": "Club=Vitória Guimarães<br>Clean_Wage=%{x}<br>Overall=%{y}",
         "legendgroup": "Vitória Guimarães",
         "marker": {
          "color": "#FFA15A",
          "symbol": "circle"
         },
         "mode": "markers",
         "name": "Vitória Guimarães",
         "showlegend": true,
         "type": "scatter",
         "x": [
          6000,
          13000,
          10000,
          11000,
          10000,
          7000,
          10000,
          10000,
          9000,
          10000,
          10000,
          11000,
          8000,
          7000,
          6000,
          8000,
          8000,
          8000,
          6000,
          6000,
          6000,
          7000,
          5000,
          5000,
          2000,
          5000,
          4000,
          5000,
          2000,
          3000
         ],
         "xaxis": "x",
         "y": [
          77,
          77,
          76,
          76,
          75,
          75,
          75,
          75,
          74,
          74,
          74,
          74,
          73,
          73,
          72,
          72,
          72,
          72,
          71,
          71,
          71,
          71,
          70,
          70,
          70,
          70,
          69,
          69,
          67,
          65
         ],
         "yaxis": "y"
        }
       ],
       "layout": {
        "legend": {
         "title": {
          "text": "Club"
         },
         "tracegroupgap": 0
        },
        "margin": {
         "t": 60
        },
        "template": {
         "data": {
          "bar": [
           {
            "error_x": {
             "color": "#2a3f5f"
            },
            "error_y": {
             "color": "#2a3f5f"
            },
            "marker": {
             "line": {
              "color": "#E5ECF6",
              "width": 0.5
             }
            },
            "type": "bar"
           }
          ],
          "barpolar": [
           {
            "marker": {
             "line": {
              "color": "#E5ECF6",
              "width": 0.5
             }
            },
            "type": "barpolar"
           }
          ],
          "carpet": [
           {
            "aaxis": {
             "endlinecolor": "#2a3f5f",
             "gridcolor": "white",
             "linecolor": "white",
             "minorgridcolor": "white",
             "startlinecolor": "#2a3f5f"
            },
            "baxis": {
             "endlinecolor": "#2a3f5f",
             "gridcolor": "white",
             "linecolor": "white",
             "minorgridcolor": "white",
             "startlinecolor": "#2a3f5f"
            },
            "type": "carpet"
           }
          ],
          "choropleth": [
           {
            "colorbar": {
             "outlinewidth": 0,
             "ticks": ""
            },
            "type": "choropleth"
           }
          ],
          "contour": [
           {
            "colorbar": {
             "outlinewidth": 0,
             "ticks": ""
            },
            "colorscale": [
             [
              0,
              "#0d0887"
             ],
             [
              0.1111111111111111,
              "#46039f"
             ],
             [
              0.2222222222222222,
              "#7201a8"
             ],
             [
              0.3333333333333333,
              "#9c179e"
             ],
             [
              0.4444444444444444,
              "#bd3786"
             ],
             [
              0.5555555555555556,
              "#d8576b"
             ],
             [
              0.6666666666666666,
              "#ed7953"
             ],
             [
              0.7777777777777778,
              "#fb9f3a"
             ],
             [
              0.8888888888888888,
              "#fdca26"
             ],
             [
              1,
              "#f0f921"
             ]
            ],
            "type": "contour"
           }
          ],
          "contourcarpet": [
           {
            "colorbar": {
             "outlinewidth": 0,
             "ticks": ""
            },
            "type": "contourcarpet"
           }
          ],
          "heatmap": [
           {
            "colorbar": {
             "outlinewidth": 0,
             "ticks": ""
            },
            "colorscale": [
             [
              0,
              "#0d0887"
             ],
             [
              0.1111111111111111,
              "#46039f"
             ],
             [
              0.2222222222222222,
              "#7201a8"
             ],
             [
              0.3333333333333333,
              "#9c179e"
             ],
             [
              0.4444444444444444,
              "#bd3786"
             ],
             [
              0.5555555555555556,
              "#d8576b"
             ],
             [
              0.6666666666666666,
              "#ed7953"
             ],
             [
              0.7777777777777778,
              "#fb9f3a"
             ],
             [
              0.8888888888888888,
              "#fdca26"
             ],
             [
              1,
              "#f0f921"
             ]
            ],
            "type": "heatmap"
           }
          ],
          "heatmapgl": [
           {
            "colorbar": {
             "outlinewidth": 0,
             "ticks": ""
            },
            "colorscale": [
             [
              0,
              "#0d0887"
             ],
             [
              0.1111111111111111,
              "#46039f"
             ],
             [
              0.2222222222222222,
              "#7201a8"
             ],
             [
              0.3333333333333333,
              "#9c179e"
             ],
             [
              0.4444444444444444,
              "#bd3786"
             ],
             [
              0.5555555555555556,
              "#d8576b"
             ],
             [
              0.6666666666666666,
              "#ed7953"
             ],
             [
              0.7777777777777778,
              "#fb9f3a"
             ],
             [
              0.8888888888888888,
              "#fdca26"
             ],
             [
              1,
              "#f0f921"
             ]
            ],
            "type": "heatmapgl"
           }
          ],
          "histogram": [
           {
            "marker": {
             "colorbar": {
              "outlinewidth": 0,
              "ticks": ""
             }
            },
            "type": "histogram"
           }
          ],
          "histogram2d": [
           {
            "colorbar": {
             "outlinewidth": 0,
             "ticks": ""
            },
            "colorscale": [
             [
              0,
              "#0d0887"
             ],
             [
              0.1111111111111111,
              "#46039f"
             ],
             [
              0.2222222222222222,
              "#7201a8"
             ],
             [
              0.3333333333333333,
              "#9c179e"
             ],
             [
              0.4444444444444444,
              "#bd3786"
             ],
             [
              0.5555555555555556,
              "#d8576b"
             ],
             [
              0.6666666666666666,
              "#ed7953"
             ],
             [
              0.7777777777777778,
              "#fb9f3a"
             ],
             [
              0.8888888888888888,
              "#fdca26"
             ],
             [
              1,
              "#f0f921"
             ]
            ],
            "type": "histogram2d"
           }
          ],
          "histogram2dcontour": [
           {
            "colorbar": {
             "outlinewidth": 0,
             "ticks": ""
            },
            "colorscale": [
             [
              0,
              "#0d0887"
             ],
             [
              0.1111111111111111,
              "#46039f"
             ],
             [
              0.2222222222222222,
              "#7201a8"
             ],
             [
              0.3333333333333333,
              "#9c179e"
             ],
             [
              0.4444444444444444,
              "#bd3786"
             ],
             [
              0.5555555555555556,
              "#d8576b"
             ],
             [
              0.6666666666666666,
              "#ed7953"
             ],
             [
              0.7777777777777778,
              "#fb9f3a"
             ],
             [
              0.8888888888888888,
              "#fdca26"
             ],
             [
              1,
              "#f0f921"
             ]
            ],
            "type": "histogram2dcontour"
           }
          ],
          "mesh3d": [
           {
            "colorbar": {
             "outlinewidth": 0,
             "ticks": ""
            },
            "type": "mesh3d"
           }
          ],
          "parcoords": [
           {
            "line": {
             "colorbar": {
              "outlinewidth": 0,
              "ticks": ""
             }
            },
            "type": "parcoords"
           }
          ],
          "pie": [
           {
            "automargin": true,
            "type": "pie"
           }
          ],
          "scatter": [
           {
            "marker": {
             "colorbar": {
              "outlinewidth": 0,
              "ticks": ""
             }
            },
            "type": "scatter"
           }
          ],
          "scatter3d": [
           {
            "line": {
             "colorbar": {
              "outlinewidth": 0,
              "ticks": ""
             }
            },
            "marker": {
             "colorbar": {
              "outlinewidth": 0,
              "ticks": ""
             }
            },
            "type": "scatter3d"
           }
          ],
          "scattercarpet": [
           {
            "marker": {
             "colorbar": {
              "outlinewidth": 0,
              "ticks": ""
             }
            },
            "type": "scattercarpet"
           }
          ],
          "scattergeo": [
           {
            "marker": {
             "colorbar": {
              "outlinewidth": 0,
              "ticks": ""
             }
            },
            "type": "scattergeo"
           }
          ],
          "scattergl": [
           {
            "marker": {
             "colorbar": {
              "outlinewidth": 0,
              "ticks": ""
             }
            },
            "type": "scattergl"
           }
          ],
          "scattermapbox": [
           {
            "marker": {
             "colorbar": {
              "outlinewidth": 0,
              "ticks": ""
             }
            },
            "type": "scattermapbox"
           }
          ],
          "scatterpolar": [
           {
            "marker": {
             "colorbar": {
              "outlinewidth": 0,
              "ticks": ""
             }
            },
            "type": "scatterpolar"
           }
          ],
          "scatterpolargl": [
           {
            "marker": {
             "colorbar": {
              "outlinewidth": 0,
              "ticks": ""
             }
            },
            "type": "scatterpolargl"
           }
          ],
          "scatterternary": [
           {
            "marker": {
             "colorbar": {
              "outlinewidth": 0,
              "ticks": ""
             }
            },
            "type": "scatterternary"
           }
          ],
          "surface": [
           {
            "colorbar": {
             "outlinewidth": 0,
             "ticks": ""
            },
            "colorscale": [
             [
              0,
              "#0d0887"
             ],
             [
              0.1111111111111111,
              "#46039f"
             ],
             [
              0.2222222222222222,
              "#7201a8"
             ],
             [
              0.3333333333333333,
              "#9c179e"
             ],
             [
              0.4444444444444444,
              "#bd3786"
             ],
             [
              0.5555555555555556,
              "#d8576b"
             ],
             [
              0.6666666666666666,
              "#ed7953"
             ],
             [
              0.7777777777777778,
              "#fb9f3a"
             ],
             [
              0.8888888888888888,
              "#fdca26"
             ],
             [
              1,
              "#f0f921"
             ]
            ],
            "type": "surface"
           }
          ],
          "table": [
           {
            "cells": {
             "fill": {
              "color": "#EBF0F8"
             },
             "line": {
              "color": "white"
             }
            },
            "header": {
             "fill": {
              "color": "#C8D4E3"
             },
             "line": {
              "color": "white"
             }
            },
            "type": "table"
           }
          ]
         },
         "layout": {
          "annotationdefaults": {
           "arrowcolor": "#2a3f5f",
           "arrowhead": 0,
           "arrowwidth": 1
          },
          "coloraxis": {
           "colorbar": {
            "outlinewidth": 0,
            "ticks": ""
           }
          },
          "colorscale": {
           "diverging": [
            [
             0,
             "#8e0152"
            ],
            [
             0.1,
             "#c51b7d"
            ],
            [
             0.2,
             "#de77ae"
            ],
            [
             0.3,
             "#f1b6da"
            ],
            [
             0.4,
             "#fde0ef"
            ],
            [
             0.5,
             "#f7f7f7"
            ],
            [
             0.6,
             "#e6f5d0"
            ],
            [
             0.7,
             "#b8e186"
            ],
            [
             0.8,
             "#7fbc41"
            ],
            [
             0.9,
             "#4d9221"
            ],
            [
             1,
             "#276419"
            ]
           ],
           "sequential": [
            [
             0,
             "#0d0887"
            ],
            [
             0.1111111111111111,
             "#46039f"
            ],
            [
             0.2222222222222222,
             "#7201a8"
            ],
            [
             0.3333333333333333,
             "#9c179e"
            ],
            [
             0.4444444444444444,
             "#bd3786"
            ],
            [
             0.5555555555555556,
             "#d8576b"
            ],
            [
             0.6666666666666666,
             "#ed7953"
            ],
            [
             0.7777777777777778,
             "#fb9f3a"
            ],
            [
             0.8888888888888888,
             "#fdca26"
            ],
            [
             1,
             "#f0f921"
            ]
           ],
           "sequentialminus": [
            [
             0,
             "#0d0887"
            ],
            [
             0.1111111111111111,
             "#46039f"
            ],
            [
             0.2222222222222222,
             "#7201a8"
            ],
            [
             0.3333333333333333,
             "#9c179e"
            ],
            [
             0.4444444444444444,
             "#bd3786"
            ],
            [
             0.5555555555555556,
             "#d8576b"
            ],
            [
             0.6666666666666666,
             "#ed7953"
            ],
            [
             0.7777777777777778,
             "#fb9f3a"
            ],
            [
             0.8888888888888888,
             "#fdca26"
            ],
            [
             1,
             "#f0f921"
            ]
           ]
          },
          "colorway": [
           "#636efa",
           "#EF553B",
           "#00cc96",
           "#ab63fa",
           "#FFA15A",
           "#19d3f3",
           "#FF6692",
           "#B6E880",
           "#FF97FF",
           "#FECB52"
          ],
          "font": {
           "color": "#2a3f5f"
          },
          "geo": {
           "bgcolor": "white",
           "lakecolor": "white",
           "landcolor": "#E5ECF6",
           "showlakes": true,
           "showland": true,
           "subunitcolor": "white"
          },
          "hoverlabel": {
           "align": "left"
          },
          "hovermode": "closest",
          "mapbox": {
           "style": "light"
          },
          "paper_bgcolor": "white",
          "plot_bgcolor": "#E5ECF6",
          "polar": {
           "angularaxis": {
            "gridcolor": "white",
            "linecolor": "white",
            "ticks": ""
           },
           "bgcolor": "#E5ECF6",
           "radialaxis": {
            "gridcolor": "white",
            "linecolor": "white",
            "ticks": ""
           }
          },
          "scene": {
           "xaxis": {
            "backgroundcolor": "#E5ECF6",
            "gridcolor": "white",
            "gridwidth": 2,
            "linecolor": "white",
            "showbackground": true,
            "ticks": "",
            "zerolinecolor": "white"
           },
           "yaxis": {
            "backgroundcolor": "#E5ECF6",
            "gridcolor": "white",
            "gridwidth": 2,
            "linecolor": "white",
            "showbackground": true,
            "ticks": "",
            "zerolinecolor": "white"
           },
           "zaxis": {
            "backgroundcolor": "#E5ECF6",
            "gridcolor": "white",
            "gridwidth": 2,
            "linecolor": "white",
            "showbackground": true,
            "ticks": "",
            "zerolinecolor": "white"
           }
          },
          "shapedefaults": {
           "line": {
            "color": "#2a3f5f"
           }
          },
          "ternary": {
           "aaxis": {
            "gridcolor": "white",
            "linecolor": "white",
            "ticks": ""
           },
           "baxis": {
            "gridcolor": "white",
            "linecolor": "white",
            "ticks": ""
           },
           "bgcolor": "#E5ECF6",
           "caxis": {
            "gridcolor": "white",
            "linecolor": "white",
            "ticks": ""
           }
          },
          "title": {
           "x": 0.05
          },
          "xaxis": {
           "automargin": true,
           "gridcolor": "white",
           "linecolor": "white",
           "ticks": "",
           "title": {
            "standoff": 15
           },
           "zerolinecolor": "white",
           "zerolinewidth": 2
          },
          "yaxis": {
           "automargin": true,
           "gridcolor": "white",
           "linecolor": "white",
           "ticks": "",
           "title": {
            "standoff": 15
           },
           "zerolinecolor": "white",
           "zerolinewidth": 2
          }
         }
        },
        "title": {
         "text": "Fifa Rating vs Wage",
         "x": 0.5
        },
        "xaxis": {
         "anchor": "y",
         "domain": [
          0,
          1
         ],
         "title": {
          "text": "Clean_Wage"
         }
        },
        "yaxis": {
         "anchor": "x",
         "domain": [
          0,
          1
         ],
         "title": {
          "text": "Overall"
         }
        }
       }
      },
      "text/html": [
       "<div>\n",
       "        \n",
       "        \n",
       "            <div id=\"235c4b29-6b49-45f3-a795-0146a2e1bde1\" class=\"plotly-graph-div\" style=\"height:525px; width:100%;\"></div>\n",
       "            <script type=\"text/javascript\">\n",
       "                require([\"plotly\"], function(Plotly) {\n",
       "                    window.PLOTLYENV=window.PLOTLYENV || {};\n",
       "                    \n",
       "                if (document.getElementById(\"235c4b29-6b49-45f3-a795-0146a2e1bde1\")) {\n",
       "                    Plotly.newPlot(\n",
       "                        '235c4b29-6b49-45f3-a795-0146a2e1bde1',\n",
       "                        [{\"hoverlabel\": {\"namelength\": 0}, \"hovertemplate\": \"Club=FC Porto<br>Clean_Wage=%{x}<br>Overall=%{y}\", \"legendgroup\": \"FC Porto\", \"marker\": {\"color\": \"#636efa\", \"symbol\": \"circle\"}, \"mode\": \"markers\", \"name\": \"FC Porto\", \"showlegend\": true, \"type\": \"scatter\", \"x\": [28000.0, 22000.0, 22000.0, 21000.0, 10000.0, 18000.0, 20000.0, 19000.0, 19000.0, 15000.0, 17000.0, 10000.0, 17000.0, 13000.0, 13000.0, 16000.0, 13000.0, 10000.0, 26000.0, 5000.0, 38000.0, 8000.0, 8000.0, 6000.0, 8000.0, 4000.0, 3000.0, 1000.0], \"xaxis\": \"x\", \"y\": [85, 84, 83, 83, 82, 81, 81, 80, 80, 79, 79, 78, 78, 78, 77, 77, 75, 75, 74, 74, 74, 74, 73, 72, 71, 67, 67, 66], \"yaxis\": \"y\"}, {\"hoverlabel\": {\"namelength\": 0}, \"hovertemplate\": \"Club=Sporting CP<br>Clean_Wage=%{x}<br>Overall=%{y}\", \"legendgroup\": \"Sporting CP\", \"marker\": {\"color\": \"#EF553B\", \"symbol\": \"circle\"}, \"mode\": \"markers\", \"name\": \"Sporting CP\", \"showlegend\": true, \"type\": \"scatter\", \"x\": [22000.0, 26000.0, 19000.0, 15000.0, 19000.0, 18000.0, 16000.0, 13000.0, 17000.0, 19000.0, 14000.0, 14000.0, 11000.0, 10000.0, 13000.0, 12000.0, 15000.0, 12000.0, 14000.0, 71000.0, 11000.0, 9000.0, 10000.0, 12000.0, 9000.0, 9000.0, 6000.0, 8000.0, 1000.0, 1000.0], \"xaxis\": \"x\", \"y\": [84, 83, 82, 82, 81, 81, 80, 79, 79, 78, 77, 77, 77, 76, 76, 76, 76, 75, 75, 75, 75, 75, 74, 74, 74, 73, 72, 70, 65, 63], \"yaxis\": \"y\"}, {\"hoverlabel\": {\"namelength\": 0}, \"hovertemplate\": \"Club=SL Benfica<br>Clean_Wage=%{x}<br>Overall=%{y}\", \"legendgroup\": \"SL Benfica\", \"marker\": {\"color\": \"#00cc96\", \"symbol\": \"circle\"}, \"mode\": \"markers\", \"name\": \"SL Benfica\", \"showlegend\": true, \"type\": \"scatter\", \"x\": [25000.0, 22000.0, 18000.0, 17000.0, 14000.0, 19000.0, 17000.0, 15000.0, 10000.0, 15000.0, 12000.0, 11000.0, 10000.0, 11000.0, 14000.0, 14000.0, 7000.0, 8000.0, 6000.0, 12000.0, 8000.0, 14000.0, 7000.0, 12000.0, 10000.0, 5000.0, 3000.0, 1000.0], \"xaxis\": \"x\", \"y\": [84, 83, 82, 82, 81, 81, 80, 80, 79, 79, 78, 77, 77, 77, 77, 77, 76, 76, 76, 76, 75, 75, 74, 74, 74, 72, 67, 67], \"yaxis\": \"y\"}, {\"hoverlabel\": {\"namelength\": 0}, \"hovertemplate\": \"Club=SC Braga<br>Clean_Wage=%{x}<br>Overall=%{y}\", \"legendgroup\": \"SC Braga\", \"marker\": {\"color\": \"#ab63fa\", \"symbol\": \"circle\"}, \"mode\": \"markers\", \"name\": \"SC Braga\", \"showlegend\": true, \"type\": \"scatter\", \"x\": [19000.0, 16000.0, 15000.0, 19000.0, 15000.0, 16000.0, 12000.0, 17000.0, 16000.0, 12000.0, 13000.0, 10000.0, 14000.0, 10000.0, 12000.0, 12000.0, 13000.0, 12000.0, 12000.0, 22000.0, 9000.0, 11000.0, 10000.0, 9000.0, 9000.0, 6000.0, 6000.0, 3000.0], \"xaxis\": \"x\", \"y\": [80, 79, 78, 78, 78, 78, 78, 77, 77, 77, 75, 75, 75, 75, 75, 75, 74, 74, 74, 74, 73, 73, 73, 72, 72, 71, 69, 66], \"yaxis\": \"y\"}, {\"hoverlabel\": {\"namelength\": 0}, \"hovertemplate\": \"Club=Vit\\u00f3ria Guimar\\u00e3es<br>Clean_Wage=%{x}<br>Overall=%{y}\", \"legendgroup\": \"Vit\\u00f3ria Guimar\\u00e3es\", \"marker\": {\"color\": \"#FFA15A\", \"symbol\": \"circle\"}, \"mode\": \"markers\", \"name\": \"Vit\\u00f3ria Guimar\\u00e3es\", \"showlegend\": true, \"type\": \"scatter\", \"x\": [6000.0, 13000.0, 10000.0, 11000.0, 10000.0, 7000.0, 10000.0, 10000.0, 9000.0, 10000.0, 10000.0, 11000.0, 8000.0, 7000.0, 6000.0, 8000.0, 8000.0, 8000.0, 6000.0, 6000.0, 6000.0, 7000.0, 5000.0, 5000.0, 2000.0, 5000.0, 4000.0, 5000.0, 2000.0, 3000.0], \"xaxis\": \"x\", \"y\": [77, 77, 76, 76, 75, 75, 75, 75, 74, 74, 74, 74, 73, 73, 72, 72, 72, 72, 71, 71, 71, 71, 70, 70, 70, 70, 69, 69, 67, 65], \"yaxis\": \"y\"}],\n",
       "                        {\"legend\": {\"title\": {\"text\": \"Club\"}, \"tracegroupgap\": 0}, \"margin\": {\"t\": 60}, \"template\": {\"data\": {\"bar\": [{\"error_x\": {\"color\": \"#2a3f5f\"}, \"error_y\": {\"color\": \"#2a3f5f\"}, \"marker\": {\"line\": {\"color\": \"#E5ECF6\", \"width\": 0.5}}, \"type\": \"bar\"}], \"barpolar\": [{\"marker\": {\"line\": {\"color\": \"#E5ECF6\", \"width\": 0.5}}, \"type\": \"barpolar\"}], \"carpet\": [{\"aaxis\": {\"endlinecolor\": \"#2a3f5f\", \"gridcolor\": \"white\", \"linecolor\": \"white\", \"minorgridcolor\": \"white\", \"startlinecolor\": \"#2a3f5f\"}, \"baxis\": {\"endlinecolor\": \"#2a3f5f\", \"gridcolor\": \"white\", \"linecolor\": \"white\", \"minorgridcolor\": \"white\", \"startlinecolor\": \"#2a3f5f\"}, \"type\": \"carpet\"}], \"choropleth\": [{\"colorbar\": {\"outlinewidth\": 0, \"ticks\": \"\"}, \"type\": \"choropleth\"}], \"contour\": [{\"colorbar\": {\"outlinewidth\": 0, \"ticks\": \"\"}, \"colorscale\": [[0.0, \"#0d0887\"], [0.1111111111111111, \"#46039f\"], [0.2222222222222222, \"#7201a8\"], [0.3333333333333333, \"#9c179e\"], [0.4444444444444444, \"#bd3786\"], [0.5555555555555556, \"#d8576b\"], [0.6666666666666666, \"#ed7953\"], [0.7777777777777778, \"#fb9f3a\"], [0.8888888888888888, \"#fdca26\"], [1.0, \"#f0f921\"]], \"type\": \"contour\"}], \"contourcarpet\": [{\"colorbar\": {\"outlinewidth\": 0, \"ticks\": \"\"}, \"type\": \"contourcarpet\"}], \"heatmap\": [{\"colorbar\": {\"outlinewidth\": 0, \"ticks\": \"\"}, \"colorscale\": [[0.0, \"#0d0887\"], [0.1111111111111111, \"#46039f\"], [0.2222222222222222, \"#7201a8\"], [0.3333333333333333, \"#9c179e\"], [0.4444444444444444, \"#bd3786\"], [0.5555555555555556, \"#d8576b\"], [0.6666666666666666, \"#ed7953\"], [0.7777777777777778, \"#fb9f3a\"], [0.8888888888888888, \"#fdca26\"], [1.0, \"#f0f921\"]], \"type\": \"heatmap\"}], \"heatmapgl\": [{\"colorbar\": {\"outlinewidth\": 0, \"ticks\": \"\"}, \"colorscale\": [[0.0, \"#0d0887\"], [0.1111111111111111, \"#46039f\"], [0.2222222222222222, \"#7201a8\"], [0.3333333333333333, \"#9c179e\"], [0.4444444444444444, \"#bd3786\"], [0.5555555555555556, \"#d8576b\"], [0.6666666666666666, \"#ed7953\"], [0.7777777777777778, \"#fb9f3a\"], [0.8888888888888888, \"#fdca26\"], [1.0, \"#f0f921\"]], \"type\": \"heatmapgl\"}], \"histogram\": [{\"marker\": {\"colorbar\": {\"outlinewidth\": 0, \"ticks\": \"\"}}, \"type\": \"histogram\"}], \"histogram2d\": [{\"colorbar\": {\"outlinewidth\": 0, \"ticks\": \"\"}, \"colorscale\": [[0.0, \"#0d0887\"], [0.1111111111111111, \"#46039f\"], [0.2222222222222222, \"#7201a8\"], [0.3333333333333333, \"#9c179e\"], [0.4444444444444444, \"#bd3786\"], [0.5555555555555556, \"#d8576b\"], [0.6666666666666666, \"#ed7953\"], [0.7777777777777778, \"#fb9f3a\"], [0.8888888888888888, \"#fdca26\"], [1.0, \"#f0f921\"]], \"type\": \"histogram2d\"}], \"histogram2dcontour\": [{\"colorbar\": {\"outlinewidth\": 0, \"ticks\": \"\"}, \"colorscale\": [[0.0, \"#0d0887\"], [0.1111111111111111, \"#46039f\"], [0.2222222222222222, \"#7201a8\"], [0.3333333333333333, \"#9c179e\"], [0.4444444444444444, \"#bd3786\"], [0.5555555555555556, \"#d8576b\"], [0.6666666666666666, \"#ed7953\"], [0.7777777777777778, \"#fb9f3a\"], [0.8888888888888888, \"#fdca26\"], [1.0, \"#f0f921\"]], \"type\": \"histogram2dcontour\"}], \"mesh3d\": [{\"colorbar\": {\"outlinewidth\": 0, \"ticks\": \"\"}, \"type\": \"mesh3d\"}], \"parcoords\": [{\"line\": {\"colorbar\": {\"outlinewidth\": 0, \"ticks\": \"\"}}, \"type\": \"parcoords\"}], \"pie\": [{\"automargin\": true, \"type\": \"pie\"}], \"scatter\": [{\"marker\": {\"colorbar\": {\"outlinewidth\": 0, \"ticks\": \"\"}}, \"type\": \"scatter\"}], \"scatter3d\": [{\"line\": {\"colorbar\": {\"outlinewidth\": 0, \"ticks\": \"\"}}, \"marker\": {\"colorbar\": {\"outlinewidth\": 0, \"ticks\": \"\"}}, \"type\": \"scatter3d\"}], \"scattercarpet\": [{\"marker\": {\"colorbar\": {\"outlinewidth\": 0, \"ticks\": \"\"}}, \"type\": \"scattercarpet\"}], \"scattergeo\": [{\"marker\": {\"colorbar\": {\"outlinewidth\": 0, \"ticks\": \"\"}}, \"type\": \"scattergeo\"}], \"scattergl\": [{\"marker\": {\"colorbar\": {\"outlinewidth\": 0, \"ticks\": \"\"}}, \"type\": \"scattergl\"}], \"scattermapbox\": [{\"marker\": {\"colorbar\": {\"outlinewidth\": 0, \"ticks\": \"\"}}, \"type\": \"scattermapbox\"}], \"scatterpolar\": [{\"marker\": {\"colorbar\": {\"outlinewidth\": 0, \"ticks\": \"\"}}, \"type\": \"scatterpolar\"}], \"scatterpolargl\": [{\"marker\": {\"colorbar\": {\"outlinewidth\": 0, \"ticks\": \"\"}}, \"type\": \"scatterpolargl\"}], \"scatterternary\": [{\"marker\": {\"colorbar\": {\"outlinewidth\": 0, \"ticks\": \"\"}}, \"type\": \"scatterternary\"}], \"surface\": [{\"colorbar\": {\"outlinewidth\": 0, \"ticks\": \"\"}, \"colorscale\": [[0.0, \"#0d0887\"], [0.1111111111111111, \"#46039f\"], [0.2222222222222222, \"#7201a8\"], [0.3333333333333333, \"#9c179e\"], [0.4444444444444444, \"#bd3786\"], [0.5555555555555556, \"#d8576b\"], [0.6666666666666666, \"#ed7953\"], [0.7777777777777778, \"#fb9f3a\"], [0.8888888888888888, \"#fdca26\"], [1.0, \"#f0f921\"]], \"type\": \"surface\"}], \"table\": [{\"cells\": {\"fill\": {\"color\": \"#EBF0F8\"}, \"line\": {\"color\": \"white\"}}, \"header\": {\"fill\": {\"color\": \"#C8D4E3\"}, \"line\": {\"color\": \"white\"}}, \"type\": \"table\"}]}, \"layout\": {\"annotationdefaults\": {\"arrowcolor\": \"#2a3f5f\", \"arrowhead\": 0, \"arrowwidth\": 1}, \"coloraxis\": {\"colorbar\": {\"outlinewidth\": 0, \"ticks\": \"\"}}, \"colorscale\": {\"diverging\": [[0, \"#8e0152\"], [0.1, \"#c51b7d\"], [0.2, \"#de77ae\"], [0.3, \"#f1b6da\"], [0.4, \"#fde0ef\"], [0.5, \"#f7f7f7\"], [0.6, \"#e6f5d0\"], [0.7, \"#b8e186\"], [0.8, \"#7fbc41\"], [0.9, \"#4d9221\"], [1, \"#276419\"]], \"sequential\": [[0.0, \"#0d0887\"], [0.1111111111111111, \"#46039f\"], [0.2222222222222222, \"#7201a8\"], [0.3333333333333333, \"#9c179e\"], [0.4444444444444444, \"#bd3786\"], [0.5555555555555556, \"#d8576b\"], [0.6666666666666666, \"#ed7953\"], [0.7777777777777778, \"#fb9f3a\"], [0.8888888888888888, \"#fdca26\"], [1.0, \"#f0f921\"]], \"sequentialminus\": [[0.0, \"#0d0887\"], [0.1111111111111111, \"#46039f\"], [0.2222222222222222, \"#7201a8\"], [0.3333333333333333, \"#9c179e\"], [0.4444444444444444, \"#bd3786\"], [0.5555555555555556, \"#d8576b\"], [0.6666666666666666, \"#ed7953\"], [0.7777777777777778, \"#fb9f3a\"], [0.8888888888888888, \"#fdca26\"], [1.0, \"#f0f921\"]]}, \"colorway\": [\"#636efa\", \"#EF553B\", \"#00cc96\", \"#ab63fa\", \"#FFA15A\", \"#19d3f3\", \"#FF6692\", \"#B6E880\", \"#FF97FF\", \"#FECB52\"], \"font\": {\"color\": \"#2a3f5f\"}, \"geo\": {\"bgcolor\": \"white\", \"lakecolor\": \"white\", \"landcolor\": \"#E5ECF6\", \"showlakes\": true, \"showland\": true, \"subunitcolor\": \"white\"}, \"hoverlabel\": {\"align\": \"left\"}, \"hovermode\": \"closest\", \"mapbox\": {\"style\": \"light\"}, \"paper_bgcolor\": \"white\", \"plot_bgcolor\": \"#E5ECF6\", \"polar\": {\"angularaxis\": {\"gridcolor\": \"white\", \"linecolor\": \"white\", \"ticks\": \"\"}, \"bgcolor\": \"#E5ECF6\", \"radialaxis\": {\"gridcolor\": \"white\", \"linecolor\": \"white\", \"ticks\": \"\"}}, \"scene\": {\"xaxis\": {\"backgroundcolor\": \"#E5ECF6\", \"gridcolor\": \"white\", \"gridwidth\": 2, \"linecolor\": \"white\", \"showbackground\": true, \"ticks\": \"\", \"zerolinecolor\": \"white\"}, \"yaxis\": {\"backgroundcolor\": \"#E5ECF6\", \"gridcolor\": \"white\", \"gridwidth\": 2, \"linecolor\": \"white\", \"showbackground\": true, \"ticks\": \"\", \"zerolinecolor\": \"white\"}, \"zaxis\": {\"backgroundcolor\": \"#E5ECF6\", \"gridcolor\": \"white\", \"gridwidth\": 2, \"linecolor\": \"white\", \"showbackground\": true, \"ticks\": \"\", \"zerolinecolor\": \"white\"}}, \"shapedefaults\": {\"line\": {\"color\": \"#2a3f5f\"}}, \"ternary\": {\"aaxis\": {\"gridcolor\": \"white\", \"linecolor\": \"white\", \"ticks\": \"\"}, \"baxis\": {\"gridcolor\": \"white\", \"linecolor\": \"white\", \"ticks\": \"\"}, \"bgcolor\": \"#E5ECF6\", \"caxis\": {\"gridcolor\": \"white\", \"linecolor\": \"white\", \"ticks\": \"\"}}, \"title\": {\"x\": 0.05}, \"xaxis\": {\"automargin\": true, \"gridcolor\": \"white\", \"linecolor\": \"white\", \"ticks\": \"\", \"title\": {\"standoff\": 15}, \"zerolinecolor\": \"white\", \"zerolinewidth\": 2}, \"yaxis\": {\"automargin\": true, \"gridcolor\": \"white\", \"linecolor\": \"white\", \"ticks\": \"\", \"title\": {\"standoff\": 15}, \"zerolinecolor\": \"white\", \"zerolinewidth\": 2}}}, \"title\": {\"text\": \"Fifa Rating vs Wage\", \"x\": 0.5}, \"xaxis\": {\"anchor\": \"y\", \"domain\": [0.0, 1.0], \"title\": {\"text\": \"Clean_Wage\"}}, \"yaxis\": {\"anchor\": \"x\", \"domain\": [0.0, 1.0], \"title\": {\"text\": \"Overall\"}}},\n",
       "                        {\"responsive\": true}\n",
       "                    ).then(function(){\n",
       "                            \n",
       "var gd = document.getElementById('235c4b29-6b49-45f3-a795-0146a2e1bde1');\n",
       "var x = new MutationObserver(function (mutations, observer) {{\n",
       "        var display = window.getComputedStyle(gd).display;\n",
       "        if (!display || display === 'none') {{\n",
       "            console.log([gd, 'removed!']);\n",
       "            Plotly.purge(gd);\n",
       "            observer.disconnect();\n",
       "        }}\n",
       "}});\n",
       "\n",
       "// Listen for the removal of the full notebook cells\n",
       "var notebookContainer = gd.closest('#notebook-container');\n",
       "if (notebookContainer) {{\n",
       "    x.observe(notebookContainer, {childList: true});\n",
       "}}\n",
       "\n",
       "// Listen for the clearing of the current output cell\n",
       "var outputEl = gd.closest('.output');\n",
       "if (outputEl) {{\n",
       "    x.observe(outputEl, {childList: true});\n",
       "}}\n",
       "\n",
       "                        })\n",
       "                };\n",
       "                });\n",
       "            </script>\n",
       "        </div>"
      ]
     },
     "metadata": {},
     "output_type": "display_data"
    },
    {
     "data": {
      "text/plain": [
       "<Figure size 1440x432 with 0 Axes>"
      ]
     },
     "metadata": {},
     "output_type": "display_data"
    }
   ],
   "source": [
    "fig = px.scatter(primeira_liga_5, \n",
    "                 x=primeira_liga_5['Clean_Wage'], \n",
    "                 y=primeira_liga_5['Overall'], \n",
    "                 color=primeira_liga_5['Club'])\n",
    "\n",
    "fig.update_layout(title_text='Fifa Rating vs Wage', title_x=0.5)\n",
    "plt.savefig(\"fifa_rating_vs_wage.png\")\n",
    "\n",
    "\n",
    "fig.show()"
   ]
  },
  {
   "cell_type": "markdown",
   "metadata": {},
   "source": [
    "The map reveals that the **highest ranked players** in Primeira Liga are from: \n",
    "    \n",
    "    \n",
    "- Algeria (Y. Brahimi - 85) \n",
    "- Brazil (Alex Telles - 84), \n",
    "- Portgual (Bruno Fernandes - 84) \n",
    "- Netherlands (Bas Dost - 83)\n",
    "- Uruguay (Sebastián Coates - 82)\n"
   ]
  },
  {
   "cell_type": "code",
   "execution_count": 275,
   "metadata": {},
   "outputs": [
    {
     "data": {
      "application/vnd.plotly.v1+json": {
       "config": {
        "linkText": "Export to plot.ly",
        "plotlyServerURL": "https://plot.ly",
        "showLink": false
       },
       "data": [
        {
         "colorscale": [
          [
           0,
           "rgb(255,255,204)"
          ],
          [
           0.125,
           "rgb(255,237,160)"
          ],
          [
           0.25,
           "rgb(254,217,118)"
          ],
          [
           0.375,
           "rgb(254,178,76)"
          ],
          [
           0.5,
           "rgb(253,141,60)"
          ],
          [
           0.625,
           "rgb(252,78,42)"
          ],
          [
           0.75,
           "rgb(227,26,28)"
          ],
          [
           0.875,
           "rgb(189,0,38)"
          ],
          [
           1,
           "rgb(128,0,38)"
          ]
         ],
         "locationmode": "country names",
         "locations": [
          "Algeria",
          "Brazil",
          "Portugal",
          "Brazil",
          "Brazil",
          "Portugal",
          "Portugal",
          "Netherlands",
          "Uruguay",
          "Serbia",
          "Brazil",
          "Italy",
          "Spain",
          "Spain",
          "Mexico",
          "Argentina",
          "Mexico",
          "Portugal",
          "France",
          "Mali",
          "Argentina",
          "Brazil",
          "Portugal",
          "Cameroon",
          "Portugal",
          "Portugal",
          "Brazil",
          "Argentina",
          "Argentina",
          "Portugal",
          "Brazil",
          "Portugal",
          "Brazil",
          "Japan",
          "Croatia",
          "Portugal",
          "Brazil",
          "Brazil",
          "Brazil",
          "Portugal",
          "Spain",
          "Brazil",
          "Portugal",
          "Portugal",
          "Serbia",
          "Brazil",
          "Argentina",
          "Colombia",
          "Portugal",
          "Portugal",
          "Serbia",
          "Uruguay",
          "Chile",
          "Brazil",
          "Brazil",
          "Argentina",
          "Portugal",
          "Portugal",
          "Brazil",
          "Brazil",
          "Spain",
          "Greece",
          "Brazil",
          "Guinea Bissau",
          "Brazil",
          "Portugal",
          "Greece",
          "Brazil",
          "FYR Macedonia",
          "Colombia",
          "Portugal",
          "Brazil",
          "Portugal",
          "Serbia",
          "France",
          "Senegal",
          "Brazil",
          "Nigeria",
          "Mali",
          "Portugal",
          "Brazil",
          "Portugal",
          "Portugal",
          "Italy",
          "Portugal",
          "Portugal",
          "Portugal",
          "Portugal",
          "Portugal",
          "Portugal",
          "Portugal",
          "DR Congo",
          "Cape Verde",
          "France",
          "Venezuela",
          "Brazil",
          "Netherlands",
          "Ghana",
          "Portugal",
          "Brazil",
          "Brazil",
          "Portugal",
          "Portugal",
          "Portugal",
          "Portugal",
          "Switzerland",
          "Portugal",
          "Portugal",
          "Argentina",
          "Portugal",
          "Brazil",
          "France",
          "Brazil",
          "Portugal",
          "Brazil",
          "Nigeria",
          "Brazil",
          "Portugal",
          "Cape Verde",
          "Brazil",
          "Portugal",
          "Brazil",
          "Croatia",
          "Brazil",
          "Portugal",
          "Portugal",
          "Brazil",
          "Brazil",
          "Brazil",
          "Brazil",
          "Portugal",
          "Guinea Bissau",
          "Algeria",
          "Brazil",
          "Serbia",
          "Venezuela",
          "Brazil",
          "Portugal",
          "Brazil",
          "Brazil",
          "Portugal",
          "Brazil",
          "Portugal",
          "Portugal",
          "Portugal",
          "Portugal",
          "Brazil",
          "Portugal",
          "Netherlands",
          "Portugal",
          "Brazil",
          "Portugal",
          "Ghana",
          "Brazil",
          "Ivory Coast",
          "Portugal",
          "Morocco",
          "Portugal",
          "Portugal",
          "Brazil",
          "Brazil",
          "Portugal",
          "Portugal",
          "Angola",
          "Senegal",
          "Angola",
          "Brazil",
          "Brazil",
          "Portugal",
          "Colombia",
          "Portugal",
          "Portugal",
          "Portugal",
          "Portugal",
          "Portugal",
          "Brazil",
          "Portugal",
          "Portugal",
          "Portugal",
          "Colombia",
          "Portugal",
          "Portugal",
          "New Zealand",
          "Brazil",
          "Brazil",
          "Portugal",
          "Portugal",
          "Portugal",
          "Iraq",
          "Portugal",
          "Brazil",
          "Portugal",
          "Mali",
          "Portugal",
          "Portugal",
          "Portugal",
          "Portugal",
          "Brazil",
          "Georgia",
          "Brazil",
          "Netherlands",
          "Senegal",
          "Morocco",
          "France",
          "Nigeria",
          "Portugal",
          "Portugal",
          "Brazil",
          "Portugal",
          "Brazil",
          "Brazil",
          "Venezuela",
          "France",
          "Portugal",
          "Portugal",
          "Brazil",
          "Brazil",
          "Portugal",
          "Portugal",
          "Brazil",
          "Portugal",
          "Portugal",
          "South Africa",
          "Ghana",
          "Brazil",
          "France",
          "Brazil",
          "Portugal",
          "Brazil",
          "Argentina",
          "Portugal",
          "Brazil",
          "Uruguay",
          "Colombia",
          "Portugal",
          "Croatia",
          "Nigeria",
          "Angola",
          "Portugal",
          "Portugal",
          "Colombia",
          "Brazil",
          "Brazil",
          "Gambia",
          "Cape Verde",
          "Brazil",
          "Brazil",
          "South Africa",
          "Brazil",
          "Portugal",
          "Portugal",
          "Brazil",
          "Portugal",
          "Portugal",
          "Brazil",
          "Brazil",
          "Portugal",
          "Brazil",
          "Portugal",
          "Argentina",
          "Brazil",
          "Slovakia",
          "Morocco",
          "France",
          "Canada",
          "Guinea Bissau",
          "Brazil",
          "El Salvador",
          "Portugal",
          "France",
          "Argentina",
          "Brazil",
          "Portugal",
          "Portugal",
          "Peru",
          "Portugal",
          "Portugal",
          "Portugal",
          "Brazil",
          "Guinea Bissau",
          "Panama",
          "Portugal",
          "Gabon",
          "Brazil",
          "Portugal",
          "Portugal",
          "Chile",
          "Portugal",
          "Brazil",
          "Portugal",
          "Portugal",
          "Portugal",
          "Brazil",
          "Portugal",
          "Portugal",
          "Belgium",
          "Cameroon",
          "Brazil",
          "Brazil",
          "Brazil",
          "Brazil",
          "Brazil",
          "Portugal",
          "Angola",
          "Libya",
          "Guinea Bissau",
          "Brazil",
          "Brazil",
          "Brazil",
          "Venezuela",
          "Chad",
          "Nigeria",
          "Belgium",
          "Portugal",
          "Portugal",
          "Brazil",
          "Brazil",
          "Mozambique",
          "Japan",
          "Portugal",
          "Portugal",
          "Portugal",
          "Portugal",
          "Portugal",
          "Guinea",
          "Portugal",
          "Serbia",
          "Portugal",
          "Portugal",
          "Croatia",
          "Brazil",
          "Brazil",
          "Brazil",
          "Brazil",
          "Brazil",
          "Cape Verde",
          "Brazil",
          "Portugal",
          "Brazil",
          "Brazil",
          "Brazil",
          "Portugal",
          "Portugal",
          "Cameroon",
          "Algeria",
          "Portugal",
          "Ghana",
          "Portugal",
          "Panama",
          "Brazil",
          "Portugal",
          "Brazil",
          "Brazil",
          "Morocco",
          "Portugal",
          "Croatia",
          "Brazil",
          "Portugal",
          "China PR",
          "Guinea Bissau",
          "Brazil",
          "Portugal",
          "Portugal",
          "France",
          "Portugal",
          "Portugal",
          "Brazil",
          "Portugal",
          "Brazil",
          "Portugal",
          "Guinea Bissau",
          "Colombia",
          "Guinea Bissau",
          "Portugal",
          "Portugal",
          "Portugal",
          "Brazil",
          "Brazil",
          "Brazil",
          "Guinea Bissau",
          "Portugal",
          "United States"
         ],
         "text": [
          "Algeria",
          "Brazil",
          "Portugal",
          "Brazil",
          "Brazil",
          "Portugal",
          "Portugal",
          "Netherlands",
          "Uruguay",
          "Serbia",
          "Brazil",
          "Italy",
          "Spain",
          "Spain",
          "Mexico",
          "Argentina",
          "Mexico",
          "Portugal",
          "France",
          "Mali",
          "Argentina",
          "Brazil",
          "Portugal",
          "Cameroon",
          "Portugal",
          "Portugal",
          "Brazil",
          "Argentina",
          "Argentina",
          "Portugal",
          "Brazil",
          "Portugal",
          "Brazil",
          "Japan",
          "Croatia",
          "Portugal",
          "Brazil",
          "Brazil",
          "Brazil",
          "Portugal",
          "Spain",
          "Brazil",
          "Portugal",
          "Portugal",
          "Serbia",
          "Brazil",
          "Argentina",
          "Colombia",
          "Portugal",
          "Portugal",
          "Serbia",
          "Uruguay",
          "Chile",
          "Brazil",
          "Brazil",
          "Argentina",
          "Portugal",
          "Portugal",
          "Brazil",
          "Brazil",
          "Spain",
          "Greece",
          "Brazil",
          "Guinea Bissau",
          "Brazil",
          "Portugal",
          "Greece",
          "Brazil",
          "FYR Macedonia",
          "Colombia",
          "Portugal",
          "Brazil",
          "Portugal",
          "Serbia",
          "France",
          "Senegal",
          "Brazil",
          "Nigeria",
          "Mali",
          "Portugal",
          "Brazil",
          "Portugal",
          "Portugal",
          "Italy",
          "Portugal",
          "Portugal",
          "Portugal",
          "Portugal",
          "Portugal",
          "Portugal",
          "Portugal",
          "DR Congo",
          "Cape Verde",
          "France",
          "Venezuela",
          "Brazil",
          "Netherlands",
          "Ghana",
          "Portugal",
          "Brazil",
          "Brazil",
          "Portugal",
          "Portugal",
          "Portugal",
          "Portugal",
          "Switzerland",
          "Portugal",
          "Portugal",
          "Argentina",
          "Portugal",
          "Brazil",
          "France",
          "Brazil",
          "Portugal",
          "Brazil",
          "Nigeria",
          "Brazil",
          "Portugal",
          "Cape Verde",
          "Brazil",
          "Portugal",
          "Brazil",
          "Croatia",
          "Brazil",
          "Portugal",
          "Portugal",
          "Brazil",
          "Brazil",
          "Brazil",
          "Brazil",
          "Portugal",
          "Guinea Bissau",
          "Algeria",
          "Brazil",
          "Serbia",
          "Venezuela",
          "Brazil",
          "Portugal",
          "Brazil",
          "Brazil",
          "Portugal",
          "Brazil",
          "Portugal",
          "Portugal",
          "Portugal",
          "Portugal",
          "Brazil",
          "Portugal",
          "Netherlands",
          "Portugal",
          "Brazil",
          "Portugal",
          "Ghana",
          "Brazil",
          "Ivory Coast",
          "Portugal",
          "Morocco",
          "Portugal",
          "Portugal",
          "Brazil",
          "Brazil",
          "Portugal",
          "Portugal",
          "Angola",
          "Senegal",
          "Angola",
          "Brazil",
          "Brazil",
          "Portugal",
          "Colombia",
          "Portugal",
          "Portugal",
          "Portugal",
          "Portugal",
          "Portugal",
          "Brazil",
          "Portugal",
          "Portugal",
          "Portugal",
          "Colombia",
          "Portugal",
          "Portugal",
          "New Zealand",
          "Brazil",
          "Brazil",
          "Portugal",
          "Portugal",
          "Portugal",
          "Iraq",
          "Portugal",
          "Brazil",
          "Portugal",
          "Mali",
          "Portugal",
          "Portugal",
          "Portugal",
          "Portugal",
          "Brazil",
          "Georgia",
          "Brazil",
          "Netherlands",
          "Senegal",
          "Morocco",
          "France",
          "Nigeria",
          "Portugal",
          "Portugal",
          "Brazil",
          "Portugal",
          "Brazil",
          "Brazil",
          "Venezuela",
          "France",
          "Portugal",
          "Portugal",
          "Brazil",
          "Brazil",
          "Portugal",
          "Portugal",
          "Brazil",
          "Portugal",
          "Portugal",
          "South Africa",
          "Ghana",
          "Brazil",
          "France",
          "Brazil",
          "Portugal",
          "Brazil",
          "Argentina",
          "Portugal",
          "Brazil",
          "Uruguay",
          "Colombia",
          "Portugal",
          "Croatia",
          "Nigeria",
          "Angola",
          "Portugal",
          "Portugal",
          "Colombia",
          "Brazil",
          "Brazil",
          "Gambia",
          "Cape Verde",
          "Brazil",
          "Brazil",
          "South Africa",
          "Brazil",
          "Portugal",
          "Portugal",
          "Brazil",
          "Portugal",
          "Portugal",
          "Brazil",
          "Brazil",
          "Portugal",
          "Brazil",
          "Portugal",
          "Argentina",
          "Brazil",
          "Slovakia",
          "Morocco",
          "France",
          "Canada",
          "Guinea Bissau",
          "Brazil",
          "El Salvador",
          "Portugal",
          "France",
          "Argentina",
          "Brazil",
          "Portugal",
          "Portugal",
          "Peru",
          "Portugal",
          "Portugal",
          "Portugal",
          "Brazil",
          "Guinea Bissau",
          "Panama",
          "Portugal",
          "Gabon",
          "Brazil",
          "Portugal",
          "Portugal",
          "Chile",
          "Portugal",
          "Brazil",
          "Portugal",
          "Portugal",
          "Portugal",
          "Brazil",
          "Portugal",
          "Portugal",
          "Belgium",
          "Cameroon",
          "Brazil",
          "Brazil",
          "Brazil",
          "Brazil",
          "Brazil",
          "Portugal",
          "Angola",
          "Libya",
          "Guinea Bissau",
          "Brazil",
          "Brazil",
          "Brazil",
          "Venezuela",
          "Chad",
          "Nigeria",
          "Belgium",
          "Portugal",
          "Portugal",
          "Brazil",
          "Brazil",
          "Mozambique",
          "Japan",
          "Portugal",
          "Portugal",
          "Portugal",
          "Portugal",
          "Portugal",
          "Guinea",
          "Portugal",
          "Serbia",
          "Portugal",
          "Portugal",
          "Croatia",
          "Brazil",
          "Brazil",
          "Brazil",
          "Brazil",
          "Brazil",
          "Cape Verde",
          "Brazil",
          "Portugal",
          "Brazil",
          "Brazil",
          "Brazil",
          "Portugal",
          "Portugal",
          "Cameroon",
          "Algeria",
          "Portugal",
          "Ghana",
          "Portugal",
          "Panama",
          "Brazil",
          "Portugal",
          "Brazil",
          "Brazil",
          "Morocco",
          "Portugal",
          "Croatia",
          "Brazil",
          "Portugal",
          "China PR",
          "Guinea Bissau",
          "Brazil",
          "Portugal",
          "Portugal",
          "France",
          "Portugal",
          "Portugal",
          "Brazil",
          "Portugal",
          "Brazil",
          "Portugal",
          "Guinea Bissau",
          "Colombia",
          "Guinea Bissau",
          "Portugal",
          "Portugal",
          "Portugal",
          "Brazil",
          "Brazil",
          "Brazil",
          "Guinea Bissau",
          "Portugal",
          "United States"
         ],
         "type": "choropleth",
         "z": [
          85,
          84,
          84,
          84,
          83,
          83,
          83,
          83,
          82,
          82,
          82,
          82,
          82,
          81,
          81,
          81,
          81,
          81,
          81,
          80,
          80,
          80,
          80,
          80,
          80,
          79,
          79,
          79,
          79,
          79,
          79,
          79,
          78,
          78,
          78,
          78,
          78,
          78,
          78,
          78,
          78,
          78,
          78,
          78,
          78,
          77,
          77,
          77,
          77,
          77,
          77,
          77,
          77,
          77,
          77,
          77,
          77,
          77,
          77,
          77,
          77,
          76,
          76,
          76,
          76,
          76,
          76,
          76,
          76,
          76,
          76,
          75,
          75,
          75,
          75,
          75,
          75,
          75,
          75,
          75,
          75,
          75,
          75,
          75,
          75,
          75,
          75,
          75,
          75,
          75,
          75,
          75,
          75,
          75,
          75,
          74,
          74,
          74,
          74,
          74,
          74,
          74,
          74,
          74,
          74,
          74,
          74,
          74,
          74,
          74,
          74,
          74,
          74,
          74,
          74,
          74,
          74,
          73,
          73,
          73,
          73,
          73,
          73,
          73,
          73,
          73,
          73,
          73,
          73,
          73,
          73,
          73,
          73,
          73,
          73,
          73,
          72,
          72,
          72,
          72,
          72,
          72,
          72,
          72,
          72,
          72,
          72,
          72,
          72,
          72,
          72,
          72,
          72,
          72,
          72,
          72,
          72,
          72,
          72,
          72,
          72,
          72,
          72,
          72,
          71,
          71,
          71,
          71,
          71,
          71,
          71,
          71,
          71,
          71,
          71,
          71,
          71,
          71,
          71,
          71,
          71,
          71,
          71,
          71,
          71,
          71,
          71,
          71,
          71,
          71,
          71,
          71,
          70,
          70,
          70,
          70,
          70,
          70,
          70,
          70,
          70,
          70,
          70,
          70,
          70,
          70,
          70,
          70,
          70,
          70,
          70,
          70,
          70,
          70,
          70,
          70,
          70,
          70,
          70,
          70,
          70,
          70,
          69,
          69,
          69,
          69,
          69,
          69,
          69,
          69,
          69,
          69,
          69,
          69,
          69,
          69,
          69,
          69,
          69,
          69,
          69,
          69,
          69,
          69,
          69,
          69,
          69,
          69,
          69,
          69,
          69,
          69,
          69,
          69,
          68,
          68,
          68,
          68,
          68,
          68,
          68,
          68,
          68,
          68,
          68,
          68,
          68,
          68,
          68,
          68,
          68,
          68,
          68,
          68,
          68,
          68,
          68,
          68,
          68,
          67,
          67,
          67,
          67,
          67,
          67,
          67,
          67,
          67,
          67,
          67,
          67,
          67,
          67,
          67,
          67,
          67,
          67,
          67,
          67,
          67,
          67,
          67,
          67,
          67,
          67,
          67,
          67,
          67,
          67,
          67,
          67,
          67,
          67,
          67,
          67,
          67,
          66,
          66,
          66,
          66,
          66,
          66,
          66,
          66,
          66,
          66,
          66,
          66,
          66,
          66,
          66,
          66,
          66,
          66,
          65,
          65,
          65,
          65,
          65,
          65,
          65,
          65,
          65,
          65,
          65,
          65,
          65,
          65,
          65,
          64,
          64,
          64,
          64,
          64,
          64,
          64,
          64,
          64,
          64,
          64,
          64,
          64,
          64,
          64,
          64,
          64,
          63,
          63,
          63,
          63,
          63,
          63,
          63,
          63,
          63,
          63,
          62,
          62,
          62,
          62,
          57,
          53
         ]
        }
       ],
       "layout": {
        "template": {
         "data": {
          "bar": [
           {
            "error_x": {
             "color": "#2a3f5f"
            },
            "error_y": {
             "color": "#2a3f5f"
            },
            "marker": {
             "line": {
              "color": "#E5ECF6",
              "width": 0.5
             }
            },
            "type": "bar"
           }
          ],
          "barpolar": [
           {
            "marker": {
             "line": {
              "color": "#E5ECF6",
              "width": 0.5
             }
            },
            "type": "barpolar"
           }
          ],
          "carpet": [
           {
            "aaxis": {
             "endlinecolor": "#2a3f5f",
             "gridcolor": "white",
             "linecolor": "white",
             "minorgridcolor": "white",
             "startlinecolor": "#2a3f5f"
            },
            "baxis": {
             "endlinecolor": "#2a3f5f",
             "gridcolor": "white",
             "linecolor": "white",
             "minorgridcolor": "white",
             "startlinecolor": "#2a3f5f"
            },
            "type": "carpet"
           }
          ],
          "choropleth": [
           {
            "colorbar": {
             "outlinewidth": 0,
             "ticks": ""
            },
            "type": "choropleth"
           }
          ],
          "contour": [
           {
            "colorbar": {
             "outlinewidth": 0,
             "ticks": ""
            },
            "colorscale": [
             [
              0,
              "#0d0887"
             ],
             [
              0.1111111111111111,
              "#46039f"
             ],
             [
              0.2222222222222222,
              "#7201a8"
             ],
             [
              0.3333333333333333,
              "#9c179e"
             ],
             [
              0.4444444444444444,
              "#bd3786"
             ],
             [
              0.5555555555555556,
              "#d8576b"
             ],
             [
              0.6666666666666666,
              "#ed7953"
             ],
             [
              0.7777777777777778,
              "#fb9f3a"
             ],
             [
              0.8888888888888888,
              "#fdca26"
             ],
             [
              1,
              "#f0f921"
             ]
            ],
            "type": "contour"
           }
          ],
          "contourcarpet": [
           {
            "colorbar": {
             "outlinewidth": 0,
             "ticks": ""
            },
            "type": "contourcarpet"
           }
          ],
          "heatmap": [
           {
            "colorbar": {
             "outlinewidth": 0,
             "ticks": ""
            },
            "colorscale": [
             [
              0,
              "#0d0887"
             ],
             [
              0.1111111111111111,
              "#46039f"
             ],
             [
              0.2222222222222222,
              "#7201a8"
             ],
             [
              0.3333333333333333,
              "#9c179e"
             ],
             [
              0.4444444444444444,
              "#bd3786"
             ],
             [
              0.5555555555555556,
              "#d8576b"
             ],
             [
              0.6666666666666666,
              "#ed7953"
             ],
             [
              0.7777777777777778,
              "#fb9f3a"
             ],
             [
              0.8888888888888888,
              "#fdca26"
             ],
             [
              1,
              "#f0f921"
             ]
            ],
            "type": "heatmap"
           }
          ],
          "heatmapgl": [
           {
            "colorbar": {
             "outlinewidth": 0,
             "ticks": ""
            },
            "colorscale": [
             [
              0,
              "#0d0887"
             ],
             [
              0.1111111111111111,
              "#46039f"
             ],
             [
              0.2222222222222222,
              "#7201a8"
             ],
             [
              0.3333333333333333,
              "#9c179e"
             ],
             [
              0.4444444444444444,
              "#bd3786"
             ],
             [
              0.5555555555555556,
              "#d8576b"
             ],
             [
              0.6666666666666666,
              "#ed7953"
             ],
             [
              0.7777777777777778,
              "#fb9f3a"
             ],
             [
              0.8888888888888888,
              "#fdca26"
             ],
             [
              1,
              "#f0f921"
             ]
            ],
            "type": "heatmapgl"
           }
          ],
          "histogram": [
           {
            "marker": {
             "colorbar": {
              "outlinewidth": 0,
              "ticks": ""
             }
            },
            "type": "histogram"
           }
          ],
          "histogram2d": [
           {
            "colorbar": {
             "outlinewidth": 0,
             "ticks": ""
            },
            "colorscale": [
             [
              0,
              "#0d0887"
             ],
             [
              0.1111111111111111,
              "#46039f"
             ],
             [
              0.2222222222222222,
              "#7201a8"
             ],
             [
              0.3333333333333333,
              "#9c179e"
             ],
             [
              0.4444444444444444,
              "#bd3786"
             ],
             [
              0.5555555555555556,
              "#d8576b"
             ],
             [
              0.6666666666666666,
              "#ed7953"
             ],
             [
              0.7777777777777778,
              "#fb9f3a"
             ],
             [
              0.8888888888888888,
              "#fdca26"
             ],
             [
              1,
              "#f0f921"
             ]
            ],
            "type": "histogram2d"
           }
          ],
          "histogram2dcontour": [
           {
            "colorbar": {
             "outlinewidth": 0,
             "ticks": ""
            },
            "colorscale": [
             [
              0,
              "#0d0887"
             ],
             [
              0.1111111111111111,
              "#46039f"
             ],
             [
              0.2222222222222222,
              "#7201a8"
             ],
             [
              0.3333333333333333,
              "#9c179e"
             ],
             [
              0.4444444444444444,
              "#bd3786"
             ],
             [
              0.5555555555555556,
              "#d8576b"
             ],
             [
              0.6666666666666666,
              "#ed7953"
             ],
             [
              0.7777777777777778,
              "#fb9f3a"
             ],
             [
              0.8888888888888888,
              "#fdca26"
             ],
             [
              1,
              "#f0f921"
             ]
            ],
            "type": "histogram2dcontour"
           }
          ],
          "mesh3d": [
           {
            "colorbar": {
             "outlinewidth": 0,
             "ticks": ""
            },
            "type": "mesh3d"
           }
          ],
          "parcoords": [
           {
            "line": {
             "colorbar": {
              "outlinewidth": 0,
              "ticks": ""
             }
            },
            "type": "parcoords"
           }
          ],
          "pie": [
           {
            "automargin": true,
            "type": "pie"
           }
          ],
          "scatter": [
           {
            "marker": {
             "colorbar": {
              "outlinewidth": 0,
              "ticks": ""
             }
            },
            "type": "scatter"
           }
          ],
          "scatter3d": [
           {
            "line": {
             "colorbar": {
              "outlinewidth": 0,
              "ticks": ""
             }
            },
            "marker": {
             "colorbar": {
              "outlinewidth": 0,
              "ticks": ""
             }
            },
            "type": "scatter3d"
           }
          ],
          "scattercarpet": [
           {
            "marker": {
             "colorbar": {
              "outlinewidth": 0,
              "ticks": ""
             }
            },
            "type": "scattercarpet"
           }
          ],
          "scattergeo": [
           {
            "marker": {
             "colorbar": {
              "outlinewidth": 0,
              "ticks": ""
             }
            },
            "type": "scattergeo"
           }
          ],
          "scattergl": [
           {
            "marker": {
             "colorbar": {
              "outlinewidth": 0,
              "ticks": ""
             }
            },
            "type": "scattergl"
           }
          ],
          "scattermapbox": [
           {
            "marker": {
             "colorbar": {
              "outlinewidth": 0,
              "ticks": ""
             }
            },
            "type": "scattermapbox"
           }
          ],
          "scatterpolar": [
           {
            "marker": {
             "colorbar": {
              "outlinewidth": 0,
              "ticks": ""
             }
            },
            "type": "scatterpolar"
           }
          ],
          "scatterpolargl": [
           {
            "marker": {
             "colorbar": {
              "outlinewidth": 0,
              "ticks": ""
             }
            },
            "type": "scatterpolargl"
           }
          ],
          "scatterternary": [
           {
            "marker": {
             "colorbar": {
              "outlinewidth": 0,
              "ticks": ""
             }
            },
            "type": "scatterternary"
           }
          ],
          "surface": [
           {
            "colorbar": {
             "outlinewidth": 0,
             "ticks": ""
            },
            "colorscale": [
             [
              0,
              "#0d0887"
             ],
             [
              0.1111111111111111,
              "#46039f"
             ],
             [
              0.2222222222222222,
              "#7201a8"
             ],
             [
              0.3333333333333333,
              "#9c179e"
             ],
             [
              0.4444444444444444,
              "#bd3786"
             ],
             [
              0.5555555555555556,
              "#d8576b"
             ],
             [
              0.6666666666666666,
              "#ed7953"
             ],
             [
              0.7777777777777778,
              "#fb9f3a"
             ],
             [
              0.8888888888888888,
              "#fdca26"
             ],
             [
              1,
              "#f0f921"
             ]
            ],
            "type": "surface"
           }
          ],
          "table": [
           {
            "cells": {
             "fill": {
              "color": "#EBF0F8"
             },
             "line": {
              "color": "white"
             }
            },
            "header": {
             "fill": {
              "color": "#C8D4E3"
             },
             "line": {
              "color": "white"
             }
            },
            "type": "table"
           }
          ]
         },
         "layout": {
          "annotationdefaults": {
           "arrowcolor": "#2a3f5f",
           "arrowhead": 0,
           "arrowwidth": 1
          },
          "coloraxis": {
           "colorbar": {
            "outlinewidth": 0,
            "ticks": ""
           }
          },
          "colorscale": {
           "diverging": [
            [
             0,
             "#8e0152"
            ],
            [
             0.1,
             "#c51b7d"
            ],
            [
             0.2,
             "#de77ae"
            ],
            [
             0.3,
             "#f1b6da"
            ],
            [
             0.4,
             "#fde0ef"
            ],
            [
             0.5,
             "#f7f7f7"
            ],
            [
             0.6,
             "#e6f5d0"
            ],
            [
             0.7,
             "#b8e186"
            ],
            [
             0.8,
             "#7fbc41"
            ],
            [
             0.9,
             "#4d9221"
            ],
            [
             1,
             "#276419"
            ]
           ],
           "sequential": [
            [
             0,
             "#0d0887"
            ],
            [
             0.1111111111111111,
             "#46039f"
            ],
            [
             0.2222222222222222,
             "#7201a8"
            ],
            [
             0.3333333333333333,
             "#9c179e"
            ],
            [
             0.4444444444444444,
             "#bd3786"
            ],
            [
             0.5555555555555556,
             "#d8576b"
            ],
            [
             0.6666666666666666,
             "#ed7953"
            ],
            [
             0.7777777777777778,
             "#fb9f3a"
            ],
            [
             0.8888888888888888,
             "#fdca26"
            ],
            [
             1,
             "#f0f921"
            ]
           ],
           "sequentialminus": [
            [
             0,
             "#0d0887"
            ],
            [
             0.1111111111111111,
             "#46039f"
            ],
            [
             0.2222222222222222,
             "#7201a8"
            ],
            [
             0.3333333333333333,
             "#9c179e"
            ],
            [
             0.4444444444444444,
             "#bd3786"
            ],
            [
             0.5555555555555556,
             "#d8576b"
            ],
            [
             0.6666666666666666,
             "#ed7953"
            ],
            [
             0.7777777777777778,
             "#fb9f3a"
            ],
            [
             0.8888888888888888,
             "#fdca26"
            ],
            [
             1,
             "#f0f921"
            ]
           ]
          },
          "colorway": [
           "#636efa",
           "#EF553B",
           "#00cc96",
           "#ab63fa",
           "#FFA15A",
           "#19d3f3",
           "#FF6692",
           "#B6E880",
           "#FF97FF",
           "#FECB52"
          ],
          "font": {
           "color": "#2a3f5f"
          },
          "geo": {
           "bgcolor": "white",
           "lakecolor": "white",
           "landcolor": "#E5ECF6",
           "showlakes": true,
           "showland": true,
           "subunitcolor": "white"
          },
          "hoverlabel": {
           "align": "left"
          },
          "hovermode": "closest",
          "mapbox": {
           "style": "light"
          },
          "paper_bgcolor": "white",
          "plot_bgcolor": "#E5ECF6",
          "polar": {
           "angularaxis": {
            "gridcolor": "white",
            "linecolor": "white",
            "ticks": ""
           },
           "bgcolor": "#E5ECF6",
           "radialaxis": {
            "gridcolor": "white",
            "linecolor": "white",
            "ticks": ""
           }
          },
          "scene": {
           "xaxis": {
            "backgroundcolor": "#E5ECF6",
            "gridcolor": "white",
            "gridwidth": 2,
            "linecolor": "white",
            "showbackground": true,
            "ticks": "",
            "zerolinecolor": "white"
           },
           "yaxis": {
            "backgroundcolor": "#E5ECF6",
            "gridcolor": "white",
            "gridwidth": 2,
            "linecolor": "white",
            "showbackground": true,
            "ticks": "",
            "zerolinecolor": "white"
           },
           "zaxis": {
            "backgroundcolor": "#E5ECF6",
            "gridcolor": "white",
            "gridwidth": 2,
            "linecolor": "white",
            "showbackground": true,
            "ticks": "",
            "zerolinecolor": "white"
           }
          },
          "shapedefaults": {
           "line": {
            "color": "#2a3f5f"
           }
          },
          "ternary": {
           "aaxis": {
            "gridcolor": "white",
            "linecolor": "white",
            "ticks": ""
           },
           "baxis": {
            "gridcolor": "white",
            "linecolor": "white",
            "ticks": ""
           },
           "bgcolor": "#E5ECF6",
           "caxis": {
            "gridcolor": "white",
            "linecolor": "white",
            "ticks": ""
           }
          },
          "title": {
           "x": 0.05
          },
          "xaxis": {
           "automargin": true,
           "gridcolor": "white",
           "linecolor": "white",
           "ticks": "",
           "title": {
            "standoff": 15
           },
           "zerolinecolor": "white",
           "zerolinewidth": 2
          },
          "yaxis": {
           "automargin": true,
           "gridcolor": "white",
           "linecolor": "white",
           "ticks": "",
           "title": {
            "standoff": 15
           },
           "zerolinecolor": "white",
           "zerolinewidth": 2
          }
         }
        },
        "title": {
         "text": "Fifa Rating vs Nationality",
         "x": 0.5
        }
       }
      },
      "text/html": [
       "<div>\n",
       "        \n",
       "        \n",
       "            <div id=\"5e8630a8-ce1f-4170-b877-3b00036912e4\" class=\"plotly-graph-div\" style=\"height:525px; width:100%;\"></div>\n",
       "            <script type=\"text/javascript\">\n",
       "                require([\"plotly\"], function(Plotly) {\n",
       "                    window.PLOTLYENV=window.PLOTLYENV || {};\n",
       "                    \n",
       "                if (document.getElementById(\"5e8630a8-ce1f-4170-b877-3b00036912e4\")) {\n",
       "                    Plotly.newPlot(\n",
       "                        '5e8630a8-ce1f-4170-b877-3b00036912e4',\n",
       "                        [{\"colorscale\": [[0.0, \"rgb(255,255,204)\"], [0.125, \"rgb(255,237,160)\"], [0.25, \"rgb(254,217,118)\"], [0.375, \"rgb(254,178,76)\"], [0.5, \"rgb(253,141,60)\"], [0.625, \"rgb(252,78,42)\"], [0.75, \"rgb(227,26,28)\"], [0.875, \"rgb(189,0,38)\"], [1.0, \"rgb(128,0,38)\"]], \"locationmode\": \"country names\", \"locations\": [\"Algeria\", \"Brazil\", \"Portugal\", \"Brazil\", \"Brazil\", \"Portugal\", \"Portugal\", \"Netherlands\", \"Uruguay\", \"Serbia\", \"Brazil\", \"Italy\", \"Spain\", \"Spain\", \"Mexico\", \"Argentina\", \"Mexico\", \"Portugal\", \"France\", \"Mali\", \"Argentina\", \"Brazil\", \"Portugal\", \"Cameroon\", \"Portugal\", \"Portugal\", \"Brazil\", \"Argentina\", \"Argentina\", \"Portugal\", \"Brazil\", \"Portugal\", \"Brazil\", \"Japan\", \"Croatia\", \"Portugal\", \"Brazil\", \"Brazil\", \"Brazil\", \"Portugal\", \"Spain\", \"Brazil\", \"Portugal\", \"Portugal\", \"Serbia\", \"Brazil\", \"Argentina\", \"Colombia\", \"Portugal\", \"Portugal\", \"Serbia\", \"Uruguay\", \"Chile\", \"Brazil\", \"Brazil\", \"Argentina\", \"Portugal\", \"Portugal\", \"Brazil\", \"Brazil\", \"Spain\", \"Greece\", \"Brazil\", \"Guinea Bissau\", \"Brazil\", \"Portugal\", \"Greece\", \"Brazil\", \"FYR Macedonia\", \"Colombia\", \"Portugal\", \"Brazil\", \"Portugal\", \"Serbia\", \"France\", \"Senegal\", \"Brazil\", \"Nigeria\", \"Mali\", \"Portugal\", \"Brazil\", \"Portugal\", \"Portugal\", \"Italy\", \"Portugal\", \"Portugal\", \"Portugal\", \"Portugal\", \"Portugal\", \"Portugal\", \"Portugal\", \"DR Congo\", \"Cape Verde\", \"France\", \"Venezuela\", \"Brazil\", \"Netherlands\", \"Ghana\", \"Portugal\", \"Brazil\", \"Brazil\", \"Portugal\", \"Portugal\", \"Portugal\", \"Portugal\", \"Switzerland\", \"Portugal\", \"Portugal\", \"Argentina\", \"Portugal\", \"Brazil\", \"France\", \"Brazil\", \"Portugal\", \"Brazil\", \"Nigeria\", \"Brazil\", \"Portugal\", \"Cape Verde\", \"Brazil\", \"Portugal\", \"Brazil\", \"Croatia\", \"Brazil\", \"Portugal\", \"Portugal\", \"Brazil\", \"Brazil\", \"Brazil\", \"Brazil\", \"Portugal\", \"Guinea Bissau\", \"Algeria\", \"Brazil\", \"Serbia\", \"Venezuela\", \"Brazil\", \"Portugal\", \"Brazil\", \"Brazil\", \"Portugal\", \"Brazil\", \"Portugal\", \"Portugal\", \"Portugal\", \"Portugal\", \"Brazil\", \"Portugal\", \"Netherlands\", \"Portugal\", \"Brazil\", \"Portugal\", \"Ghana\", \"Brazil\", \"Ivory Coast\", \"Portugal\", \"Morocco\", \"Portugal\", \"Portugal\", \"Brazil\", \"Brazil\", \"Portugal\", \"Portugal\", \"Angola\", \"Senegal\", \"Angola\", \"Brazil\", \"Brazil\", \"Portugal\", \"Colombia\", \"Portugal\", \"Portugal\", \"Portugal\", \"Portugal\", \"Portugal\", \"Brazil\", \"Portugal\", \"Portugal\", \"Portugal\", \"Colombia\", \"Portugal\", \"Portugal\", \"New Zealand\", \"Brazil\", \"Brazil\", \"Portugal\", \"Portugal\", \"Portugal\", \"Iraq\", \"Portugal\", \"Brazil\", \"Portugal\", \"Mali\", \"Portugal\", \"Portugal\", \"Portugal\", \"Portugal\", \"Brazil\", \"Georgia\", \"Brazil\", \"Netherlands\", \"Senegal\", \"Morocco\", \"France\", \"Nigeria\", \"Portugal\", \"Portugal\", \"Brazil\", \"Portugal\", \"Brazil\", \"Brazil\", \"Venezuela\", \"France\", \"Portugal\", \"Portugal\", \"Brazil\", \"Brazil\", \"Portugal\", \"Portugal\", \"Brazil\", \"Portugal\", \"Portugal\", \"South Africa\", \"Ghana\", \"Brazil\", \"France\", \"Brazil\", \"Portugal\", \"Brazil\", \"Argentina\", \"Portugal\", \"Brazil\", \"Uruguay\", \"Colombia\", \"Portugal\", \"Croatia\", \"Nigeria\", \"Angola\", \"Portugal\", \"Portugal\", \"Colombia\", \"Brazil\", \"Brazil\", \"Gambia\", \"Cape Verde\", \"Brazil\", \"Brazil\", \"South Africa\", \"Brazil\", \"Portugal\", \"Portugal\", \"Brazil\", \"Portugal\", \"Portugal\", \"Brazil\", \"Brazil\", \"Portugal\", \"Brazil\", \"Portugal\", \"Argentina\", \"Brazil\", \"Slovakia\", \"Morocco\", \"France\", \"Canada\", \"Guinea Bissau\", \"Brazil\", \"El Salvador\", \"Portugal\", \"France\", \"Argentina\", \"Brazil\", \"Portugal\", \"Portugal\", \"Peru\", \"Portugal\", \"Portugal\", \"Portugal\", \"Brazil\", \"Guinea Bissau\", \"Panama\", \"Portugal\", \"Gabon\", \"Brazil\", \"Portugal\", \"Portugal\", \"Chile\", \"Portugal\", \"Brazil\", \"Portugal\", \"Portugal\", \"Portugal\", \"Brazil\", \"Portugal\", \"Portugal\", \"Belgium\", \"Cameroon\", \"Brazil\", \"Brazil\", \"Brazil\", \"Brazil\", \"Brazil\", \"Portugal\", \"Angola\", \"Libya\", \"Guinea Bissau\", \"Brazil\", \"Brazil\", \"Brazil\", \"Venezuela\", \"Chad\", \"Nigeria\", \"Belgium\", \"Portugal\", \"Portugal\", \"Brazil\", \"Brazil\", \"Mozambique\", \"Japan\", \"Portugal\", \"Portugal\", \"Portugal\", \"Portugal\", \"Portugal\", \"Guinea\", \"Portugal\", \"Serbia\", \"Portugal\", \"Portugal\", \"Croatia\", \"Brazil\", \"Brazil\", \"Brazil\", \"Brazil\", \"Brazil\", \"Cape Verde\", \"Brazil\", \"Portugal\", \"Brazil\", \"Brazil\", \"Brazil\", \"Portugal\", \"Portugal\", \"Cameroon\", \"Algeria\", \"Portugal\", \"Ghana\", \"Portugal\", \"Panama\", \"Brazil\", \"Portugal\", \"Brazil\", \"Brazil\", \"Morocco\", \"Portugal\", \"Croatia\", \"Brazil\", \"Portugal\", \"China PR\", \"Guinea Bissau\", \"Brazil\", \"Portugal\", \"Portugal\", \"France\", \"Portugal\", \"Portugal\", \"Brazil\", \"Portugal\", \"Brazil\", \"Portugal\", \"Guinea Bissau\", \"Colombia\", \"Guinea Bissau\", \"Portugal\", \"Portugal\", \"Portugal\", \"Brazil\", \"Brazil\", \"Brazil\", \"Guinea Bissau\", \"Portugal\", \"United States\"], \"text\": [\"Algeria\", \"Brazil\", \"Portugal\", \"Brazil\", \"Brazil\", \"Portugal\", \"Portugal\", \"Netherlands\", \"Uruguay\", \"Serbia\", \"Brazil\", \"Italy\", \"Spain\", \"Spain\", \"Mexico\", \"Argentina\", \"Mexico\", \"Portugal\", \"France\", \"Mali\", \"Argentina\", \"Brazil\", \"Portugal\", \"Cameroon\", \"Portugal\", \"Portugal\", \"Brazil\", \"Argentina\", \"Argentina\", \"Portugal\", \"Brazil\", \"Portugal\", \"Brazil\", \"Japan\", \"Croatia\", \"Portugal\", \"Brazil\", \"Brazil\", \"Brazil\", \"Portugal\", \"Spain\", \"Brazil\", \"Portugal\", \"Portugal\", \"Serbia\", \"Brazil\", \"Argentina\", \"Colombia\", \"Portugal\", \"Portugal\", \"Serbia\", \"Uruguay\", \"Chile\", \"Brazil\", \"Brazil\", \"Argentina\", \"Portugal\", \"Portugal\", \"Brazil\", \"Brazil\", \"Spain\", \"Greece\", \"Brazil\", \"Guinea Bissau\", \"Brazil\", \"Portugal\", \"Greece\", \"Brazil\", \"FYR Macedonia\", \"Colombia\", \"Portugal\", \"Brazil\", \"Portugal\", \"Serbia\", \"France\", \"Senegal\", \"Brazil\", \"Nigeria\", \"Mali\", \"Portugal\", \"Brazil\", \"Portugal\", \"Portugal\", \"Italy\", \"Portugal\", \"Portugal\", \"Portugal\", \"Portugal\", \"Portugal\", \"Portugal\", \"Portugal\", \"DR Congo\", \"Cape Verde\", \"France\", \"Venezuela\", \"Brazil\", \"Netherlands\", \"Ghana\", \"Portugal\", \"Brazil\", \"Brazil\", \"Portugal\", \"Portugal\", \"Portugal\", \"Portugal\", \"Switzerland\", \"Portugal\", \"Portugal\", \"Argentina\", \"Portugal\", \"Brazil\", \"France\", \"Brazil\", \"Portugal\", \"Brazil\", \"Nigeria\", \"Brazil\", \"Portugal\", \"Cape Verde\", \"Brazil\", \"Portugal\", \"Brazil\", \"Croatia\", \"Brazil\", \"Portugal\", \"Portugal\", \"Brazil\", \"Brazil\", \"Brazil\", \"Brazil\", \"Portugal\", \"Guinea Bissau\", \"Algeria\", \"Brazil\", \"Serbia\", \"Venezuela\", \"Brazil\", \"Portugal\", \"Brazil\", \"Brazil\", \"Portugal\", \"Brazil\", \"Portugal\", \"Portugal\", \"Portugal\", \"Portugal\", \"Brazil\", \"Portugal\", \"Netherlands\", \"Portugal\", \"Brazil\", \"Portugal\", \"Ghana\", \"Brazil\", \"Ivory Coast\", \"Portugal\", \"Morocco\", \"Portugal\", \"Portugal\", \"Brazil\", \"Brazil\", \"Portugal\", \"Portugal\", \"Angola\", \"Senegal\", \"Angola\", \"Brazil\", \"Brazil\", \"Portugal\", \"Colombia\", \"Portugal\", \"Portugal\", \"Portugal\", \"Portugal\", \"Portugal\", \"Brazil\", \"Portugal\", \"Portugal\", \"Portugal\", \"Colombia\", \"Portugal\", \"Portugal\", \"New Zealand\", \"Brazil\", \"Brazil\", \"Portugal\", \"Portugal\", \"Portugal\", \"Iraq\", \"Portugal\", \"Brazil\", \"Portugal\", \"Mali\", \"Portugal\", \"Portugal\", \"Portugal\", \"Portugal\", \"Brazil\", \"Georgia\", \"Brazil\", \"Netherlands\", \"Senegal\", \"Morocco\", \"France\", \"Nigeria\", \"Portugal\", \"Portugal\", \"Brazil\", \"Portugal\", \"Brazil\", \"Brazil\", \"Venezuela\", \"France\", \"Portugal\", \"Portugal\", \"Brazil\", \"Brazil\", \"Portugal\", \"Portugal\", \"Brazil\", \"Portugal\", \"Portugal\", \"South Africa\", \"Ghana\", \"Brazil\", \"France\", \"Brazil\", \"Portugal\", \"Brazil\", \"Argentina\", \"Portugal\", \"Brazil\", \"Uruguay\", \"Colombia\", \"Portugal\", \"Croatia\", \"Nigeria\", \"Angola\", \"Portugal\", \"Portugal\", \"Colombia\", \"Brazil\", \"Brazil\", \"Gambia\", \"Cape Verde\", \"Brazil\", \"Brazil\", \"South Africa\", \"Brazil\", \"Portugal\", \"Portugal\", \"Brazil\", \"Portugal\", \"Portugal\", \"Brazil\", \"Brazil\", \"Portugal\", \"Brazil\", \"Portugal\", \"Argentina\", \"Brazil\", \"Slovakia\", \"Morocco\", \"France\", \"Canada\", \"Guinea Bissau\", \"Brazil\", \"El Salvador\", \"Portugal\", \"France\", \"Argentina\", \"Brazil\", \"Portugal\", \"Portugal\", \"Peru\", \"Portugal\", \"Portugal\", \"Portugal\", \"Brazil\", \"Guinea Bissau\", \"Panama\", \"Portugal\", \"Gabon\", \"Brazil\", \"Portugal\", \"Portugal\", \"Chile\", \"Portugal\", \"Brazil\", \"Portugal\", \"Portugal\", \"Portugal\", \"Brazil\", \"Portugal\", \"Portugal\", \"Belgium\", \"Cameroon\", \"Brazil\", \"Brazil\", \"Brazil\", \"Brazil\", \"Brazil\", \"Portugal\", \"Angola\", \"Libya\", \"Guinea Bissau\", \"Brazil\", \"Brazil\", \"Brazil\", \"Venezuela\", \"Chad\", \"Nigeria\", \"Belgium\", \"Portugal\", \"Portugal\", \"Brazil\", \"Brazil\", \"Mozambique\", \"Japan\", \"Portugal\", \"Portugal\", \"Portugal\", \"Portugal\", \"Portugal\", \"Guinea\", \"Portugal\", \"Serbia\", \"Portugal\", \"Portugal\", \"Croatia\", \"Brazil\", \"Brazil\", \"Brazil\", \"Brazil\", \"Brazil\", \"Cape Verde\", \"Brazil\", \"Portugal\", \"Brazil\", \"Brazil\", \"Brazil\", \"Portugal\", \"Portugal\", \"Cameroon\", \"Algeria\", \"Portugal\", \"Ghana\", \"Portugal\", \"Panama\", \"Brazil\", \"Portugal\", \"Brazil\", \"Brazil\", \"Morocco\", \"Portugal\", \"Croatia\", \"Brazil\", \"Portugal\", \"China PR\", \"Guinea Bissau\", \"Brazil\", \"Portugal\", \"Portugal\", \"France\", \"Portugal\", \"Portugal\", \"Brazil\", \"Portugal\", \"Brazil\", \"Portugal\", \"Guinea Bissau\", \"Colombia\", \"Guinea Bissau\", \"Portugal\", \"Portugal\", \"Portugal\", \"Brazil\", \"Brazil\", \"Brazil\", \"Guinea Bissau\", \"Portugal\", \"United States\"], \"type\": \"choropleth\", \"z\": [85, 84, 84, 84, 83, 83, 83, 83, 82, 82, 82, 82, 82, 81, 81, 81, 81, 81, 81, 80, 80, 80, 80, 80, 80, 79, 79, 79, 79, 79, 79, 79, 78, 78, 78, 78, 78, 78, 78, 78, 78, 78, 78, 78, 78, 77, 77, 77, 77, 77, 77, 77, 77, 77, 77, 77, 77, 77, 77, 77, 77, 76, 76, 76, 76, 76, 76, 76, 76, 76, 76, 75, 75, 75, 75, 75, 75, 75, 75, 75, 75, 75, 75, 75, 75, 75, 75, 75, 75, 75, 75, 75, 75, 75, 75, 74, 74, 74, 74, 74, 74, 74, 74, 74, 74, 74, 74, 74, 74, 74, 74, 74, 74, 74, 74, 74, 74, 73, 73, 73, 73, 73, 73, 73, 73, 73, 73, 73, 73, 73, 73, 73, 73, 73, 73, 73, 72, 72, 72, 72, 72, 72, 72, 72, 72, 72, 72, 72, 72, 72, 72, 72, 72, 72, 72, 72, 72, 72, 72, 72, 72, 72, 72, 72, 71, 71, 71, 71, 71, 71, 71, 71, 71, 71, 71, 71, 71, 71, 71, 71, 71, 71, 71, 71, 71, 71, 71, 71, 71, 71, 71, 71, 70, 70, 70, 70, 70, 70, 70, 70, 70, 70, 70, 70, 70, 70, 70, 70, 70, 70, 70, 70, 70, 70, 70, 70, 70, 70, 70, 70, 70, 70, 69, 69, 69, 69, 69, 69, 69, 69, 69, 69, 69, 69, 69, 69, 69, 69, 69, 69, 69, 69, 69, 69, 69, 69, 69, 69, 69, 69, 69, 69, 69, 69, 68, 68, 68, 68, 68, 68, 68, 68, 68, 68, 68, 68, 68, 68, 68, 68, 68, 68, 68, 68, 68, 68, 68, 68, 68, 67, 67, 67, 67, 67, 67, 67, 67, 67, 67, 67, 67, 67, 67, 67, 67, 67, 67, 67, 67, 67, 67, 67, 67, 67, 67, 67, 67, 67, 67, 67, 67, 67, 67, 67, 67, 67, 66, 66, 66, 66, 66, 66, 66, 66, 66, 66, 66, 66, 66, 66, 66, 66, 66, 66, 65, 65, 65, 65, 65, 65, 65, 65, 65, 65, 65, 65, 65, 65, 65, 64, 64, 64, 64, 64, 64, 64, 64, 64, 64, 64, 64, 64, 64, 64, 64, 64, 63, 63, 63, 63, 63, 63, 63, 63, 63, 63, 62, 62, 62, 62, 57, 53]}],\n",
       "                        {\"template\": {\"data\": {\"bar\": [{\"error_x\": {\"color\": \"#2a3f5f\"}, \"error_y\": {\"color\": \"#2a3f5f\"}, \"marker\": {\"line\": {\"color\": \"#E5ECF6\", \"width\": 0.5}}, \"type\": \"bar\"}], \"barpolar\": [{\"marker\": {\"line\": {\"color\": \"#E5ECF6\", \"width\": 0.5}}, \"type\": \"barpolar\"}], \"carpet\": [{\"aaxis\": {\"endlinecolor\": \"#2a3f5f\", \"gridcolor\": \"white\", \"linecolor\": \"white\", \"minorgridcolor\": \"white\", \"startlinecolor\": \"#2a3f5f\"}, \"baxis\": {\"endlinecolor\": \"#2a3f5f\", \"gridcolor\": \"white\", \"linecolor\": \"white\", \"minorgridcolor\": \"white\", \"startlinecolor\": \"#2a3f5f\"}, \"type\": \"carpet\"}], \"choropleth\": [{\"colorbar\": {\"outlinewidth\": 0, \"ticks\": \"\"}, \"type\": \"choropleth\"}], \"contour\": [{\"colorbar\": {\"outlinewidth\": 0, \"ticks\": \"\"}, \"colorscale\": [[0.0, \"#0d0887\"], [0.1111111111111111, \"#46039f\"], [0.2222222222222222, \"#7201a8\"], [0.3333333333333333, \"#9c179e\"], [0.4444444444444444, \"#bd3786\"], [0.5555555555555556, \"#d8576b\"], [0.6666666666666666, \"#ed7953\"], [0.7777777777777778, \"#fb9f3a\"], [0.8888888888888888, \"#fdca26\"], [1.0, \"#f0f921\"]], \"type\": \"contour\"}], \"contourcarpet\": [{\"colorbar\": {\"outlinewidth\": 0, \"ticks\": \"\"}, \"type\": \"contourcarpet\"}], \"heatmap\": [{\"colorbar\": {\"outlinewidth\": 0, \"ticks\": \"\"}, \"colorscale\": [[0.0, \"#0d0887\"], [0.1111111111111111, \"#46039f\"], [0.2222222222222222, \"#7201a8\"], [0.3333333333333333, \"#9c179e\"], [0.4444444444444444, \"#bd3786\"], [0.5555555555555556, \"#d8576b\"], [0.6666666666666666, \"#ed7953\"], [0.7777777777777778, \"#fb9f3a\"], [0.8888888888888888, \"#fdca26\"], [1.0, \"#f0f921\"]], \"type\": \"heatmap\"}], \"heatmapgl\": [{\"colorbar\": {\"outlinewidth\": 0, \"ticks\": \"\"}, \"colorscale\": [[0.0, \"#0d0887\"], [0.1111111111111111, \"#46039f\"], [0.2222222222222222, \"#7201a8\"], [0.3333333333333333, \"#9c179e\"], [0.4444444444444444, \"#bd3786\"], [0.5555555555555556, \"#d8576b\"], [0.6666666666666666, \"#ed7953\"], [0.7777777777777778, \"#fb9f3a\"], [0.8888888888888888, \"#fdca26\"], [1.0, \"#f0f921\"]], \"type\": \"heatmapgl\"}], \"histogram\": [{\"marker\": {\"colorbar\": {\"outlinewidth\": 0, \"ticks\": \"\"}}, \"type\": \"histogram\"}], \"histogram2d\": [{\"colorbar\": {\"outlinewidth\": 0, \"ticks\": \"\"}, \"colorscale\": [[0.0, \"#0d0887\"], [0.1111111111111111, \"#46039f\"], [0.2222222222222222, \"#7201a8\"], [0.3333333333333333, \"#9c179e\"], [0.4444444444444444, \"#bd3786\"], [0.5555555555555556, \"#d8576b\"], [0.6666666666666666, \"#ed7953\"], [0.7777777777777778, \"#fb9f3a\"], [0.8888888888888888, \"#fdca26\"], [1.0, \"#f0f921\"]], \"type\": \"histogram2d\"}], \"histogram2dcontour\": [{\"colorbar\": {\"outlinewidth\": 0, \"ticks\": \"\"}, \"colorscale\": [[0.0, \"#0d0887\"], [0.1111111111111111, \"#46039f\"], [0.2222222222222222, \"#7201a8\"], [0.3333333333333333, \"#9c179e\"], [0.4444444444444444, \"#bd3786\"], [0.5555555555555556, \"#d8576b\"], [0.6666666666666666, \"#ed7953\"], [0.7777777777777778, \"#fb9f3a\"], [0.8888888888888888, \"#fdca26\"], [1.0, \"#f0f921\"]], \"type\": \"histogram2dcontour\"}], \"mesh3d\": [{\"colorbar\": {\"outlinewidth\": 0, \"ticks\": \"\"}, \"type\": \"mesh3d\"}], \"parcoords\": [{\"line\": {\"colorbar\": {\"outlinewidth\": 0, \"ticks\": \"\"}}, \"type\": \"parcoords\"}], \"pie\": [{\"automargin\": true, \"type\": \"pie\"}], \"scatter\": [{\"marker\": {\"colorbar\": {\"outlinewidth\": 0, \"ticks\": \"\"}}, \"type\": \"scatter\"}], \"scatter3d\": [{\"line\": {\"colorbar\": {\"outlinewidth\": 0, \"ticks\": \"\"}}, \"marker\": {\"colorbar\": {\"outlinewidth\": 0, \"ticks\": \"\"}}, \"type\": \"scatter3d\"}], \"scattercarpet\": [{\"marker\": {\"colorbar\": {\"outlinewidth\": 0, \"ticks\": \"\"}}, \"type\": \"scattercarpet\"}], \"scattergeo\": [{\"marker\": {\"colorbar\": {\"outlinewidth\": 0, \"ticks\": \"\"}}, \"type\": \"scattergeo\"}], \"scattergl\": [{\"marker\": {\"colorbar\": {\"outlinewidth\": 0, \"ticks\": \"\"}}, \"type\": \"scattergl\"}], \"scattermapbox\": [{\"marker\": {\"colorbar\": {\"outlinewidth\": 0, \"ticks\": \"\"}}, \"type\": \"scattermapbox\"}], \"scatterpolar\": [{\"marker\": {\"colorbar\": {\"outlinewidth\": 0, \"ticks\": \"\"}}, \"type\": \"scatterpolar\"}], \"scatterpolargl\": [{\"marker\": {\"colorbar\": {\"outlinewidth\": 0, \"ticks\": \"\"}}, \"type\": \"scatterpolargl\"}], \"scatterternary\": [{\"marker\": {\"colorbar\": {\"outlinewidth\": 0, \"ticks\": \"\"}}, \"type\": \"scatterternary\"}], \"surface\": [{\"colorbar\": {\"outlinewidth\": 0, \"ticks\": \"\"}, \"colorscale\": [[0.0, \"#0d0887\"], [0.1111111111111111, \"#46039f\"], [0.2222222222222222, \"#7201a8\"], [0.3333333333333333, \"#9c179e\"], [0.4444444444444444, \"#bd3786\"], [0.5555555555555556, \"#d8576b\"], [0.6666666666666666, \"#ed7953\"], [0.7777777777777778, \"#fb9f3a\"], [0.8888888888888888, \"#fdca26\"], [1.0, \"#f0f921\"]], \"type\": \"surface\"}], \"table\": [{\"cells\": {\"fill\": {\"color\": \"#EBF0F8\"}, \"line\": {\"color\": \"white\"}}, \"header\": {\"fill\": {\"color\": \"#C8D4E3\"}, \"line\": {\"color\": \"white\"}}, \"type\": \"table\"}]}, \"layout\": {\"annotationdefaults\": {\"arrowcolor\": \"#2a3f5f\", \"arrowhead\": 0, \"arrowwidth\": 1}, \"coloraxis\": {\"colorbar\": {\"outlinewidth\": 0, \"ticks\": \"\"}}, \"colorscale\": {\"diverging\": [[0, \"#8e0152\"], [0.1, \"#c51b7d\"], [0.2, \"#de77ae\"], [0.3, \"#f1b6da\"], [0.4, \"#fde0ef\"], [0.5, \"#f7f7f7\"], [0.6, \"#e6f5d0\"], [0.7, \"#b8e186\"], [0.8, \"#7fbc41\"], [0.9, \"#4d9221\"], [1, \"#276419\"]], \"sequential\": [[0.0, \"#0d0887\"], [0.1111111111111111, \"#46039f\"], [0.2222222222222222, \"#7201a8\"], [0.3333333333333333, \"#9c179e\"], [0.4444444444444444, \"#bd3786\"], [0.5555555555555556, \"#d8576b\"], [0.6666666666666666, \"#ed7953\"], [0.7777777777777778, \"#fb9f3a\"], [0.8888888888888888, \"#fdca26\"], [1.0, \"#f0f921\"]], \"sequentialminus\": [[0.0, \"#0d0887\"], [0.1111111111111111, \"#46039f\"], [0.2222222222222222, \"#7201a8\"], [0.3333333333333333, \"#9c179e\"], [0.4444444444444444, \"#bd3786\"], [0.5555555555555556, \"#d8576b\"], [0.6666666666666666, \"#ed7953\"], [0.7777777777777778, \"#fb9f3a\"], [0.8888888888888888, \"#fdca26\"], [1.0, \"#f0f921\"]]}, \"colorway\": [\"#636efa\", \"#EF553B\", \"#00cc96\", \"#ab63fa\", \"#FFA15A\", \"#19d3f3\", \"#FF6692\", \"#B6E880\", \"#FF97FF\", \"#FECB52\"], \"font\": {\"color\": \"#2a3f5f\"}, \"geo\": {\"bgcolor\": \"white\", \"lakecolor\": \"white\", \"landcolor\": \"#E5ECF6\", \"showlakes\": true, \"showland\": true, \"subunitcolor\": \"white\"}, \"hoverlabel\": {\"align\": \"left\"}, \"hovermode\": \"closest\", \"mapbox\": {\"style\": \"light\"}, \"paper_bgcolor\": \"white\", \"plot_bgcolor\": \"#E5ECF6\", \"polar\": {\"angularaxis\": {\"gridcolor\": \"white\", \"linecolor\": \"white\", \"ticks\": \"\"}, \"bgcolor\": \"#E5ECF6\", \"radialaxis\": {\"gridcolor\": \"white\", \"linecolor\": \"white\", \"ticks\": \"\"}}, \"scene\": {\"xaxis\": {\"backgroundcolor\": \"#E5ECF6\", \"gridcolor\": \"white\", \"gridwidth\": 2, \"linecolor\": \"white\", \"showbackground\": true, \"ticks\": \"\", \"zerolinecolor\": \"white\"}, \"yaxis\": {\"backgroundcolor\": \"#E5ECF6\", \"gridcolor\": \"white\", \"gridwidth\": 2, \"linecolor\": \"white\", \"showbackground\": true, \"ticks\": \"\", \"zerolinecolor\": \"white\"}, \"zaxis\": {\"backgroundcolor\": \"#E5ECF6\", \"gridcolor\": \"white\", \"gridwidth\": 2, \"linecolor\": \"white\", \"showbackground\": true, \"ticks\": \"\", \"zerolinecolor\": \"white\"}}, \"shapedefaults\": {\"line\": {\"color\": \"#2a3f5f\"}}, \"ternary\": {\"aaxis\": {\"gridcolor\": \"white\", \"linecolor\": \"white\", \"ticks\": \"\"}, \"baxis\": {\"gridcolor\": \"white\", \"linecolor\": \"white\", \"ticks\": \"\"}, \"bgcolor\": \"#E5ECF6\", \"caxis\": {\"gridcolor\": \"white\", \"linecolor\": \"white\", \"ticks\": \"\"}}, \"title\": {\"x\": 0.05}, \"xaxis\": {\"automargin\": true, \"gridcolor\": \"white\", \"linecolor\": \"white\", \"ticks\": \"\", \"title\": {\"standoff\": 15}, \"zerolinecolor\": \"white\", \"zerolinewidth\": 2}, \"yaxis\": {\"automargin\": true, \"gridcolor\": \"white\", \"linecolor\": \"white\", \"ticks\": \"\", \"title\": {\"standoff\": 15}, \"zerolinecolor\": \"white\", \"zerolinewidth\": 2}}}, \"title\": {\"text\": \"Fifa Rating vs Nationality\", \"x\": 0.5}},\n",
       "                        {\"responsive\": true}\n",
       "                    ).then(function(){\n",
       "                            \n",
       "var gd = document.getElementById('5e8630a8-ce1f-4170-b877-3b00036912e4');\n",
       "var x = new MutationObserver(function (mutations, observer) {{\n",
       "        var display = window.getComputedStyle(gd).display;\n",
       "        if (!display || display === 'none') {{\n",
       "            console.log([gd, 'removed!']);\n",
       "            Plotly.purge(gd);\n",
       "            observer.disconnect();\n",
       "        }}\n",
       "}});\n",
       "\n",
       "// Listen for the removal of the full notebook cells\n",
       "var notebookContainer = gd.closest('#notebook-container');\n",
       "if (notebookContainer) {{\n",
       "    x.observe(notebookContainer, {childList: true});\n",
       "}}\n",
       "\n",
       "// Listen for the clearing of the current output cell\n",
       "var outputEl = gd.closest('.output');\n",
       "if (outputEl) {{\n",
       "    x.observe(outputEl, {childList: true});\n",
       "}}\n",
       "\n",
       "                        })\n",
       "                };\n",
       "                });\n",
       "            </script>\n",
       "        </div>"
      ]
     },
     "metadata": {},
     "output_type": "display_data"
    },
    {
     "data": {
      "text/plain": [
       "<Figure size 1440x432 with 0 Axes>"
      ]
     },
     "metadata": {},
     "output_type": "display_data"
    }
   ],
   "source": [
    "fifa_primeira = pd.DataFrame(primeira_liga.groupby('Nationality')['Overall'].sum().reset_index())\n",
    "\n",
    "trace = [go.Choropleth(\n",
    "            colorscale = 'YlOrRd',\n",
    "            locationmode = 'country names',\n",
    "            locations = primeira_liga['Nationality'],\n",
    "            text = primeira_liga['Nationality'],\n",
    "            z = primeira_liga['Overall'],)]\n",
    "\n",
    "fig = go.Figure(data = trace, layout = layout)\n",
    "fig.update_layout(title_text='Fifa Rating vs Nationality', title_x=0.5)\n",
    "plt.savefig(\"fifa_rating_vs_nationality.png\")\n",
    "\n",
    "\n",
    "py.iplot(fig)"
   ]
  }
 ],
 "metadata": {
  "kernelspec": {
   "display_name": "Python 3",
   "language": "python",
   "name": "python3"
  },
  "language_info": {
   "codemirror_mode": {
    "name": "ipython",
    "version": 3
   },
   "file_extension": ".py",
   "mimetype": "text/x-python",
   "name": "python",
   "nbconvert_exporter": "python",
   "pygments_lexer": "ipython3",
   "version": "3.7.6"
  }
 },
 "nbformat": 4,
 "nbformat_minor": 2
}
